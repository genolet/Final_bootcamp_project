{
 "cells": [
  {
   "cell_type": "code",
   "execution_count": 1,
   "id": "00004bc8",
   "metadata": {},
   "outputs": [
    {
     "name": "stdout",
     "output_type": "stream",
     "text": [
      "/Users/origenolet/Desktop/Ironhack/Week9/Final_bootcamp_project\n"
     ]
    }
   ],
   "source": [
    "%cd ../"
   ]
  },
  {
   "cell_type": "code",
   "execution_count": 15,
   "id": "a110c65d",
   "metadata": {},
   "outputs": [],
   "source": [
    "import pandas as pd\n",
    "import numpy as np\n",
    "import seaborn as sns\n",
    "import matplotlib.pyplot as plt\n",
    "import functions.functions as f\n",
    "from sklearn.model_selection import train_test_split\n",
    "from sklearn.preprocessing import MinMaxScaler\n",
    "from sklearn.feature_selection import SelectKBest, f_classif, chi2"
   ]
  },
  {
   "cell_type": "code",
   "execution_count": 3,
   "id": "33b7056e",
   "metadata": {},
   "outputs": [
    {
     "data": {
      "text/html": [
       "<div>\n",
       "<style scoped>\n",
       "    .dataframe tbody tr th:only-of-type {\n",
       "        vertical-align: middle;\n",
       "    }\n",
       "\n",
       "    .dataframe tbody tr th {\n",
       "        vertical-align: top;\n",
       "    }\n",
       "\n",
       "    .dataframe thead th {\n",
       "        text-align: right;\n",
       "    }\n",
       "</style>\n",
       "<table border=\"1\" class=\"dataframe\">\n",
       "  <thead>\n",
       "    <tr style=\"text-align: right;\">\n",
       "      <th></th>\n",
       "      <th>age</th>\n",
       "      <th>sex</th>\n",
       "      <th>on thyroxine</th>\n",
       "      <th>query on thyroxine</th>\n",
       "      <th>on antithyroid medication</th>\n",
       "      <th>sick</th>\n",
       "      <th>pregnant</th>\n",
       "      <th>thyroid surgery</th>\n",
       "      <th>I131 treatment</th>\n",
       "      <th>query hypothyroid</th>\n",
       "      <th>...</th>\n",
       "      <th>TT4 measured</th>\n",
       "      <th>TT4</th>\n",
       "      <th>T4U measured</th>\n",
       "      <th>T4U</th>\n",
       "      <th>FTI measured</th>\n",
       "      <th>FTI</th>\n",
       "      <th>TBG measured</th>\n",
       "      <th>TBG</th>\n",
       "      <th>referral source</th>\n",
       "      <th>binaryClass</th>\n",
       "    </tr>\n",
       "  </thead>\n",
       "  <tbody>\n",
       "    <tr>\n",
       "      <th>0</th>\n",
       "      <td>41</td>\n",
       "      <td>F</td>\n",
       "      <td>f</td>\n",
       "      <td>f</td>\n",
       "      <td>f</td>\n",
       "      <td>f</td>\n",
       "      <td>f</td>\n",
       "      <td>f</td>\n",
       "      <td>f</td>\n",
       "      <td>f</td>\n",
       "      <td>...</td>\n",
       "      <td>t</td>\n",
       "      <td>125</td>\n",
       "      <td>t</td>\n",
       "      <td>1.14</td>\n",
       "      <td>t</td>\n",
       "      <td>109</td>\n",
       "      <td>f</td>\n",
       "      <td>?</td>\n",
       "      <td>SVHC</td>\n",
       "      <td>P</td>\n",
       "    </tr>\n",
       "    <tr>\n",
       "      <th>1</th>\n",
       "      <td>23</td>\n",
       "      <td>F</td>\n",
       "      <td>f</td>\n",
       "      <td>f</td>\n",
       "      <td>f</td>\n",
       "      <td>f</td>\n",
       "      <td>f</td>\n",
       "      <td>f</td>\n",
       "      <td>f</td>\n",
       "      <td>f</td>\n",
       "      <td>...</td>\n",
       "      <td>t</td>\n",
       "      <td>102</td>\n",
       "      <td>f</td>\n",
       "      <td>?</td>\n",
       "      <td>f</td>\n",
       "      <td>?</td>\n",
       "      <td>f</td>\n",
       "      <td>?</td>\n",
       "      <td>other</td>\n",
       "      <td>P</td>\n",
       "    </tr>\n",
       "    <tr>\n",
       "      <th>2</th>\n",
       "      <td>46</td>\n",
       "      <td>M</td>\n",
       "      <td>f</td>\n",
       "      <td>f</td>\n",
       "      <td>f</td>\n",
       "      <td>f</td>\n",
       "      <td>f</td>\n",
       "      <td>f</td>\n",
       "      <td>f</td>\n",
       "      <td>f</td>\n",
       "      <td>...</td>\n",
       "      <td>t</td>\n",
       "      <td>109</td>\n",
       "      <td>t</td>\n",
       "      <td>0.91</td>\n",
       "      <td>t</td>\n",
       "      <td>120</td>\n",
       "      <td>f</td>\n",
       "      <td>?</td>\n",
       "      <td>other</td>\n",
       "      <td>P</td>\n",
       "    </tr>\n",
       "    <tr>\n",
       "      <th>3</th>\n",
       "      <td>70</td>\n",
       "      <td>F</td>\n",
       "      <td>t</td>\n",
       "      <td>f</td>\n",
       "      <td>f</td>\n",
       "      <td>f</td>\n",
       "      <td>f</td>\n",
       "      <td>f</td>\n",
       "      <td>f</td>\n",
       "      <td>f</td>\n",
       "      <td>...</td>\n",
       "      <td>t</td>\n",
       "      <td>175</td>\n",
       "      <td>f</td>\n",
       "      <td>?</td>\n",
       "      <td>f</td>\n",
       "      <td>?</td>\n",
       "      <td>f</td>\n",
       "      <td>?</td>\n",
       "      <td>other</td>\n",
       "      <td>P</td>\n",
       "    </tr>\n",
       "    <tr>\n",
       "      <th>4</th>\n",
       "      <td>70</td>\n",
       "      <td>F</td>\n",
       "      <td>f</td>\n",
       "      <td>f</td>\n",
       "      <td>f</td>\n",
       "      <td>f</td>\n",
       "      <td>f</td>\n",
       "      <td>f</td>\n",
       "      <td>f</td>\n",
       "      <td>f</td>\n",
       "      <td>...</td>\n",
       "      <td>t</td>\n",
       "      <td>61</td>\n",
       "      <td>t</td>\n",
       "      <td>0.87</td>\n",
       "      <td>t</td>\n",
       "      <td>70</td>\n",
       "      <td>f</td>\n",
       "      <td>?</td>\n",
       "      <td>SVI</td>\n",
       "      <td>P</td>\n",
       "    </tr>\n",
       "  </tbody>\n",
       "</table>\n",
       "<p>5 rows × 30 columns</p>\n",
       "</div>"
      ],
      "text/plain": [
       "  age sex on thyroxine query on thyroxine on antithyroid medication sick  \\\n",
       "0  41   F            f                  f                         f    f   \n",
       "1  23   F            f                  f                         f    f   \n",
       "2  46   M            f                  f                         f    f   \n",
       "3  70   F            t                  f                         f    f   \n",
       "4  70   F            f                  f                         f    f   \n",
       "\n",
       "  pregnant thyroid surgery I131 treatment query hypothyroid  ... TT4 measured  \\\n",
       "0        f               f              f                 f  ...            t   \n",
       "1        f               f              f                 f  ...            t   \n",
       "2        f               f              f                 f  ...            t   \n",
       "3        f               f              f                 f  ...            t   \n",
       "4        f               f              f                 f  ...            t   \n",
       "\n",
       "   TT4 T4U measured   T4U FTI measured  FTI TBG measured TBG referral source  \\\n",
       "0  125            t  1.14            t  109            f   ?            SVHC   \n",
       "1  102            f     ?            f    ?            f   ?           other   \n",
       "2  109            t  0.91            t  120            f   ?           other   \n",
       "3  175            f     ?            f    ?            f   ?           other   \n",
       "4   61            t  0.87            t   70            f   ?             SVI   \n",
       "\n",
       "  binaryClass  \n",
       "0           P  \n",
       "1           P  \n",
       "2           P  \n",
       "3           P  \n",
       "4           P  \n",
       "\n",
       "[5 rows x 30 columns]"
      ]
     },
     "metadata": {},
     "output_type": "display_data"
    },
    {
     "name": "stdout",
     "output_type": "stream",
     "text": [
      "(3772, 30)\n"
     ]
    }
   ],
   "source": [
    "data = pd.read_csv('./data/raw/hypothyroid.csv')\n",
    "display(data.head())\n",
    "print(data.shape)"
   ]
  },
  {
   "cell_type": "code",
   "execution_count": 4,
   "id": "363d64f7",
   "metadata": {},
   "outputs": [],
   "source": [
    "data = f.data_cleaning(data)"
   ]
  },
  {
   "cell_type": "code",
   "execution_count": 5,
   "id": "971330f6",
   "metadata": {},
   "outputs": [
    {
     "name": "stdout",
     "output_type": "stream",
     "text": [
      "(3709, 18)\n"
     ]
    },
    {
     "data": {
      "text/html": [
       "<div>\n",
       "<style scoped>\n",
       "    .dataframe tbody tr th:only-of-type {\n",
       "        vertical-align: middle;\n",
       "    }\n",
       "\n",
       "    .dataframe tbody tr th {\n",
       "        vertical-align: top;\n",
       "    }\n",
       "\n",
       "    .dataframe thead th {\n",
       "        text-align: right;\n",
       "    }\n",
       "</style>\n",
       "<table border=\"1\" class=\"dataframe\">\n",
       "  <thead>\n",
       "    <tr style=\"text-align: right;\">\n",
       "      <th></th>\n",
       "      <th>age</th>\n",
       "      <th>sex</th>\n",
       "      <th>on_thyroxine</th>\n",
       "      <th>on_antithyroid_medication</th>\n",
       "      <th>sick</th>\n",
       "      <th>pregnant</th>\n",
       "      <th>thyroid_surgery</th>\n",
       "      <th>i131_treatment</th>\n",
       "      <th>lithium</th>\n",
       "      <th>goitre</th>\n",
       "      <th>tumor</th>\n",
       "      <th>hypopituitary</th>\n",
       "      <th>tsh</th>\n",
       "      <th>t3</th>\n",
       "      <th>tt4</th>\n",
       "      <th>t4u</th>\n",
       "      <th>fti</th>\n",
       "      <th>binaryclass</th>\n",
       "    </tr>\n",
       "  </thead>\n",
       "  <tbody>\n",
       "    <tr>\n",
       "      <th>0</th>\n",
       "      <td>41.0</td>\n",
       "      <td>F</td>\n",
       "      <td>f</td>\n",
       "      <td>f</td>\n",
       "      <td>f</td>\n",
       "      <td>f</td>\n",
       "      <td>f</td>\n",
       "      <td>f</td>\n",
       "      <td>f</td>\n",
       "      <td>f</td>\n",
       "      <td>f</td>\n",
       "      <td>f</td>\n",
       "      <td>1.30</td>\n",
       "      <td>2.5</td>\n",
       "      <td>125.0</td>\n",
       "      <td>1.14</td>\n",
       "      <td>109.0</td>\n",
       "      <td>Healthy</td>\n",
       "    </tr>\n",
       "    <tr>\n",
       "      <th>1</th>\n",
       "      <td>23.0</td>\n",
       "      <td>F</td>\n",
       "      <td>f</td>\n",
       "      <td>f</td>\n",
       "      <td>f</td>\n",
       "      <td>f</td>\n",
       "      <td>f</td>\n",
       "      <td>f</td>\n",
       "      <td>f</td>\n",
       "      <td>f</td>\n",
       "      <td>f</td>\n",
       "      <td>f</td>\n",
       "      <td>4.10</td>\n",
       "      <td>2.0</td>\n",
       "      <td>102.0</td>\n",
       "      <td>0.98</td>\n",
       "      <td>107.0</td>\n",
       "      <td>Healthy</td>\n",
       "    </tr>\n",
       "    <tr>\n",
       "      <th>2</th>\n",
       "      <td>46.0</td>\n",
       "      <td>M</td>\n",
       "      <td>f</td>\n",
       "      <td>f</td>\n",
       "      <td>f</td>\n",
       "      <td>f</td>\n",
       "      <td>f</td>\n",
       "      <td>f</td>\n",
       "      <td>f</td>\n",
       "      <td>f</td>\n",
       "      <td>f</td>\n",
       "      <td>f</td>\n",
       "      <td>0.98</td>\n",
       "      <td>2.0</td>\n",
       "      <td>109.0</td>\n",
       "      <td>0.91</td>\n",
       "      <td>120.0</td>\n",
       "      <td>Healthy</td>\n",
       "    </tr>\n",
       "    <tr>\n",
       "      <th>3</th>\n",
       "      <td>70.0</td>\n",
       "      <td>F</td>\n",
       "      <td>t</td>\n",
       "      <td>f</td>\n",
       "      <td>f</td>\n",
       "      <td>f</td>\n",
       "      <td>f</td>\n",
       "      <td>f</td>\n",
       "      <td>f</td>\n",
       "      <td>f</td>\n",
       "      <td>f</td>\n",
       "      <td>f</td>\n",
       "      <td>0.16</td>\n",
       "      <td>1.9</td>\n",
       "      <td>175.0</td>\n",
       "      <td>0.98</td>\n",
       "      <td>107.0</td>\n",
       "      <td>Healthy</td>\n",
       "    </tr>\n",
       "    <tr>\n",
       "      <th>4</th>\n",
       "      <td>70.0</td>\n",
       "      <td>F</td>\n",
       "      <td>f</td>\n",
       "      <td>f</td>\n",
       "      <td>f</td>\n",
       "      <td>f</td>\n",
       "      <td>f</td>\n",
       "      <td>f</td>\n",
       "      <td>f</td>\n",
       "      <td>f</td>\n",
       "      <td>f</td>\n",
       "      <td>f</td>\n",
       "      <td>0.72</td>\n",
       "      <td>1.2</td>\n",
       "      <td>61.0</td>\n",
       "      <td>0.87</td>\n",
       "      <td>70.0</td>\n",
       "      <td>Healthy</td>\n",
       "    </tr>\n",
       "  </tbody>\n",
       "</table>\n",
       "</div>"
      ],
      "text/plain": [
       "    age sex on_thyroxine on_antithyroid_medication sick pregnant  \\\n",
       "0  41.0   F            f                         f    f        f   \n",
       "1  23.0   F            f                         f    f        f   \n",
       "2  46.0   M            f                         f    f        f   \n",
       "3  70.0   F            t                         f    f        f   \n",
       "4  70.0   F            f                         f    f        f   \n",
       "\n",
       "  thyroid_surgery i131_treatment lithium goitre tumor hypopituitary   tsh  \\\n",
       "0               f              f       f      f     f             f  1.30   \n",
       "1               f              f       f      f     f             f  4.10   \n",
       "2               f              f       f      f     f             f  0.98   \n",
       "3               f              f       f      f     f             f  0.16   \n",
       "4               f              f       f      f     f             f  0.72   \n",
       "\n",
       "    t3    tt4   t4u    fti binaryclass  \n",
       "0  2.5  125.0  1.14  109.0     Healthy  \n",
       "1  2.0  102.0  0.98  107.0     Healthy  \n",
       "2  2.0  109.0  0.91  120.0     Healthy  \n",
       "3  1.9  175.0  0.98  107.0     Healthy  \n",
       "4  1.2   61.0  0.87   70.0     Healthy  "
      ]
     },
     "execution_count": 5,
     "metadata": {},
     "output_type": "execute_result"
    }
   ],
   "source": [
    "print(data.shape)\n",
    "data.head()"
   ]
  },
  {
   "cell_type": "markdown",
   "id": "85192a24",
   "metadata": {},
   "source": [
    "### X, y split ###"
   ]
  },
  {
   "cell_type": "code",
   "execution_count": 6,
   "id": "fa906cdd",
   "metadata": {},
   "outputs": [],
   "source": [
    "X = data.drop(\"binaryclass\", axis = 1)\n",
    "y = data[\"binaryclass\"]"
   ]
  },
  {
   "cell_type": "markdown",
   "id": "143db923",
   "metadata": {},
   "source": [
    "### Train test split ### "
   ]
  },
  {
   "cell_type": "code",
   "execution_count": 7,
   "id": "6f29a40e",
   "metadata": {},
   "outputs": [
    {
     "name": "stdout",
     "output_type": "stream",
     "text": [
      "Shape X train: (2967, 17)\n",
      "Shape X test: (742, 17)\n",
      "Shape y train: (2967,)\n",
      "Shape y test: (742,)\n"
     ]
    }
   ],
   "source": [
    "X_train, X_test, y_train, y_test = train_test_split(X, y, test_size=0.2, random_state=42)\n",
    "print('Shape X train:', X_train.shape)\n",
    "print('Shape X test:', X_test.shape)\n",
    "print('Shape y train:', y_train.shape)\n",
    "print('Shape y test:', y_test.shape)"
   ]
  },
  {
   "cell_type": "code",
   "execution_count": 8,
   "id": "069c051f",
   "metadata": {},
   "outputs": [],
   "source": [
    "X_train_cat = X_train.select_dtypes(\"object\")\n",
    "X_train_num = X_train.select_dtypes(np.number)"
   ]
  },
  {
   "cell_type": "markdown",
   "id": "64a4a6d4",
   "metadata": {},
   "source": [
    "### Enconding features ### "
   ]
  },
  {
   "cell_type": "code",
   "execution_count": 9,
   "id": "31e518d0",
   "metadata": {},
   "outputs": [],
   "source": [
    "### Sex column"
   ]
  },
  {
   "cell_type": "code",
   "execution_count": 10,
   "id": "c9ecbab9",
   "metadata": {},
   "outputs": [],
   "source": [
    "X_train_cat[\"sex\"] = X_train_cat[\"sex\"].replace({\"F\":1, \"M\":0})"
   ]
  },
  {
   "cell_type": "code",
   "execution_count": 11,
   "id": "4e9b99f5",
   "metadata": {},
   "outputs": [],
   "source": [
    "### Other categoricals with f, t\n",
    "\n",
    "cols = [\"on_thyroxine\", \"on_antithyroid_medication\", \"sick\", \"pregnant\", \"thyroid_surgery\",\n",
    "       \"i131_treatment\", \"lithium\", \"goitre\", \"tumor\", \"hypopituitary\"]\n",
    "for col in cols:\n",
    "    X_train_cat[col] = X_train_cat[col].replace({\"t\":1, \"f\":0})"
   ]
  },
  {
   "cell_type": "code",
   "execution_count": 12,
   "id": "f81e93b4",
   "metadata": {},
   "outputs": [
    {
     "data": {
      "text/html": [
       "<div>\n",
       "<style scoped>\n",
       "    .dataframe tbody tr th:only-of-type {\n",
       "        vertical-align: middle;\n",
       "    }\n",
       "\n",
       "    .dataframe tbody tr th {\n",
       "        vertical-align: top;\n",
       "    }\n",
       "\n",
       "    .dataframe thead th {\n",
       "        text-align: right;\n",
       "    }\n",
       "</style>\n",
       "<table border=\"1\" class=\"dataframe\">\n",
       "  <thead>\n",
       "    <tr style=\"text-align: right;\">\n",
       "      <th></th>\n",
       "      <th>sex</th>\n",
       "      <th>on_thyroxine</th>\n",
       "      <th>on_antithyroid_medication</th>\n",
       "      <th>sick</th>\n",
       "      <th>pregnant</th>\n",
       "      <th>thyroid_surgery</th>\n",
       "      <th>i131_treatment</th>\n",
       "      <th>lithium</th>\n",
       "      <th>goitre</th>\n",
       "      <th>tumor</th>\n",
       "      <th>hypopituitary</th>\n",
       "    </tr>\n",
       "  </thead>\n",
       "  <tbody>\n",
       "    <tr>\n",
       "      <th>972</th>\n",
       "      <td>1</td>\n",
       "      <td>0</td>\n",
       "      <td>0</td>\n",
       "      <td>0</td>\n",
       "      <td>0</td>\n",
       "      <td>0</td>\n",
       "      <td>0</td>\n",
       "      <td>0</td>\n",
       "      <td>0</td>\n",
       "      <td>0</td>\n",
       "      <td>0</td>\n",
       "    </tr>\n",
       "    <tr>\n",
       "      <th>511</th>\n",
       "      <td>1</td>\n",
       "      <td>1</td>\n",
       "      <td>0</td>\n",
       "      <td>0</td>\n",
       "      <td>0</td>\n",
       "      <td>0</td>\n",
       "      <td>0</td>\n",
       "      <td>0</td>\n",
       "      <td>0</td>\n",
       "      <td>0</td>\n",
       "      <td>0</td>\n",
       "    </tr>\n",
       "    <tr>\n",
       "      <th>7</th>\n",
       "      <td>1</td>\n",
       "      <td>0</td>\n",
       "      <td>0</td>\n",
       "      <td>0</td>\n",
       "      <td>0</td>\n",
       "      <td>0</td>\n",
       "      <td>0</td>\n",
       "      <td>0</td>\n",
       "      <td>0</td>\n",
       "      <td>0</td>\n",
       "      <td>0</td>\n",
       "    </tr>\n",
       "    <tr>\n",
       "      <th>2152</th>\n",
       "      <td>1</td>\n",
       "      <td>0</td>\n",
       "      <td>0</td>\n",
       "      <td>0</td>\n",
       "      <td>0</td>\n",
       "      <td>0</td>\n",
       "      <td>0</td>\n",
       "      <td>0</td>\n",
       "      <td>0</td>\n",
       "      <td>0</td>\n",
       "      <td>0</td>\n",
       "    </tr>\n",
       "    <tr>\n",
       "      <th>2884</th>\n",
       "      <td>0</td>\n",
       "      <td>0</td>\n",
       "      <td>0</td>\n",
       "      <td>0</td>\n",
       "      <td>0</td>\n",
       "      <td>0</td>\n",
       "      <td>0</td>\n",
       "      <td>0</td>\n",
       "      <td>0</td>\n",
       "      <td>0</td>\n",
       "      <td>0</td>\n",
       "    </tr>\n",
       "  </tbody>\n",
       "</table>\n",
       "</div>"
      ],
      "text/plain": [
       "      sex  on_thyroxine  on_antithyroid_medication  sick  pregnant  \\\n",
       "972     1             0                          0     0         0   \n",
       "511     1             1                          0     0         0   \n",
       "7       1             0                          0     0         0   \n",
       "2152    1             0                          0     0         0   \n",
       "2884    0             0                          0     0         0   \n",
       "\n",
       "      thyroid_surgery  i131_treatment  lithium  goitre  tumor  hypopituitary  \n",
       "972                 0               0        0       0      0              0  \n",
       "511                 0               0        0       0      0              0  \n",
       "7                   0               0        0       0      0              0  \n",
       "2152                0               0        0       0      0              0  \n",
       "2884                0               0        0       0      0              0  "
      ]
     },
     "execution_count": 12,
     "metadata": {},
     "output_type": "execute_result"
    }
   ],
   "source": [
    "X_train_cat.head()"
   ]
  },
  {
   "cell_type": "markdown",
   "id": "7a127c37",
   "metadata": {},
   "source": [
    "### MinMax scaler ### "
   ]
  },
  {
   "cell_type": "code",
   "execution_count": 13,
   "id": "dc7335fc",
   "metadata": {},
   "outputs": [
    {
     "data": {
      "text/html": [
       "<div>\n",
       "<style scoped>\n",
       "    .dataframe tbody tr th:only-of-type {\n",
       "        vertical-align: middle;\n",
       "    }\n",
       "\n",
       "    .dataframe tbody tr th {\n",
       "        vertical-align: top;\n",
       "    }\n",
       "\n",
       "    .dataframe thead th {\n",
       "        text-align: right;\n",
       "    }\n",
       "</style>\n",
       "<table border=\"1\" class=\"dataframe\">\n",
       "  <thead>\n",
       "    <tr style=\"text-align: right;\">\n",
       "      <th></th>\n",
       "      <th>age</th>\n",
       "      <th>tsh</th>\n",
       "      <th>t3</th>\n",
       "      <th>tt4</th>\n",
       "      <th>t4u</th>\n",
       "      <th>fti</th>\n",
       "    </tr>\n",
       "  </thead>\n",
       "  <tbody>\n",
       "    <tr>\n",
       "      <th>0</th>\n",
       "      <td>0.376344</td>\n",
       "      <td>0.000368</td>\n",
       "      <td>0.298578</td>\n",
       "      <td>0.432243</td>\n",
       "      <td>0.711443</td>\n",
       "      <td>0.267176</td>\n",
       "    </tr>\n",
       "    <tr>\n",
       "      <th>1</th>\n",
       "      <td>0.387097</td>\n",
       "      <td>0.001142</td>\n",
       "      <td>0.146919</td>\n",
       "      <td>0.266355</td>\n",
       "      <td>0.298507</td>\n",
       "      <td>0.318066</td>\n",
       "    </tr>\n",
       "    <tr>\n",
       "      <th>2</th>\n",
       "      <td>0.849462</td>\n",
       "      <td>0.004142</td>\n",
       "      <td>0.052133</td>\n",
       "      <td>0.182243</td>\n",
       "      <td>0.194030</td>\n",
       "      <td>0.287532</td>\n",
       "    </tr>\n",
       "    <tr>\n",
       "      <th>3</th>\n",
       "      <td>0.354839</td>\n",
       "      <td>0.000274</td>\n",
       "      <td>0.251185</td>\n",
       "      <td>0.219626</td>\n",
       "      <td>0.368159</td>\n",
       "      <td>0.226463</td>\n",
       "    </tr>\n",
       "    <tr>\n",
       "      <th>4</th>\n",
       "      <td>0.387097</td>\n",
       "      <td>0.002066</td>\n",
       "      <td>0.222749</td>\n",
       "      <td>0.242991</td>\n",
       "      <td>0.328358</td>\n",
       "      <td>0.272265</td>\n",
       "    </tr>\n",
       "  </tbody>\n",
       "</table>\n",
       "</div>"
      ],
      "text/plain": [
       "        age       tsh        t3       tt4       t4u       fti\n",
       "0  0.376344  0.000368  0.298578  0.432243  0.711443  0.267176\n",
       "1  0.387097  0.001142  0.146919  0.266355  0.298507  0.318066\n",
       "2  0.849462  0.004142  0.052133  0.182243  0.194030  0.287532\n",
       "3  0.354839  0.000274  0.251185  0.219626  0.368159  0.226463\n",
       "4  0.387097  0.002066  0.222749  0.242991  0.328358  0.272265"
      ]
     },
     "execution_count": 13,
     "metadata": {},
     "output_type": "execute_result"
    }
   ],
   "source": [
    "scaler_num = MinMaxScaler().fit(X_train_num)\n",
    "num_train_scaled = scaler_num.transform(X_train_num)\n",
    "num_train_scaled = pd.DataFrame(num_train_scaled, columns = X_train_num.columns)\n",
    "num_train_scaled.head()"
   ]
  },
  {
   "cell_type": "markdown",
   "id": "6173790a",
   "metadata": {},
   "source": [
    "### Feature selection ###"
   ]
  },
  {
   "cell_type": "markdown",
   "id": "ff5aadd3",
   "metadata": {},
   "source": [
    "**Multicolinearity**"
   ]
  },
  {
   "cell_type": "code",
   "execution_count": 14,
   "id": "60c02ff2",
   "metadata": {},
   "outputs": [
    {
     "data": {
      "image/png": "[encoded data removed]",
      "text/plain": [
       "<Figure size 1500x800 with 2 Axes>"
      ]
     },
     "metadata": {},
     "output_type": "display_data"
    }
   ],
   "source": [
    "corr_matrix = num_train_scaled.corr()\n",
    "sns.set(rc={'figure.figsize':(15,8)})\n",
    "sns.heatmap(corr_matrix, annot=True)\n",
    "plt.show()"
   ]
  },
  {
   "cell_type": "code",
   "execution_count": null,
   "id": "e59d0bd9",
   "metadata": {},
   "outputs": [],
   "source": [
    "### There seems to be multicolinearity between tt4 and fti. I will explore the data further\n",
    "### to see which one of the two to keep "
   ]
  },
  {
   "cell_type": "markdown",
   "id": "377c147c",
   "metadata": {},
   "source": [
    "**Select Kbest for feature selection** \n",
    "\n",
    "For numerical data, we will use the f_classif from SelectKBest, which uses ANOVA.\n",
    "For categrical data, we will use the Chi2 test \n",
    "\n",
    "https://machinelearningmastery.com/feature-selection-with-real-and-categorical-data/"
   ]
  },
  {
   "cell_type": "markdown",
   "id": "86c8a6b7",
   "metadata": {},
   "source": [
    "**Numerical columns: ANOVA**"
   ]
  },
  {
   "cell_type": "code",
   "execution_count": 16,
   "id": "0e2f1637",
   "metadata": {},
   "outputs": [],
   "source": [
    "kbest = SelectKBest(f_classif, k='all')\n",
    "kbest.fit(num_train_scaled,y_train)\n",
    "num_kbest = kbest.transform(num_train_scaled) "
   ]
  },
  {
   "cell_type": "code",
   "execution_count": 23,
   "id": "d202f4e5",
   "metadata": {},
   "outputs": [
    {
     "data": {
      "text/html": [
       "<div>\n",
       "<style scoped>\n",
       "    .dataframe tbody tr th:only-of-type {\n",
       "        vertical-align: middle;\n",
       "    }\n",
       "\n",
       "    .dataframe tbody tr th {\n",
       "        vertical-align: top;\n",
       "    }\n",
       "\n",
       "    .dataframe thead th {\n",
       "        text-align: right;\n",
       "    }\n",
       "</style>\n",
       "<table border=\"1\" class=\"dataframe\">\n",
       "  <thead>\n",
       "    <tr style=\"text-align: right;\">\n",
       "      <th></th>\n",
       "      <th>score</th>\n",
       "      <th>col_name</th>\n",
       "    </tr>\n",
       "  </thead>\n",
       "  <tbody>\n",
       "    <tr>\n",
       "      <th>0</th>\n",
       "      <td>609.918824</td>\n",
       "      <td>tsh</td>\n",
       "    </tr>\n",
       "    <tr>\n",
       "      <th>1</th>\n",
       "      <td>308.295006</td>\n",
       "      <td>fti</td>\n",
       "    </tr>\n",
       "    <tr>\n",
       "      <th>2</th>\n",
       "      <td>277.039138</td>\n",
       "      <td>tt4</td>\n",
       "    </tr>\n",
       "    <tr>\n",
       "      <th>3</th>\n",
       "      <td>95.246881</td>\n",
       "      <td>t3</td>\n",
       "    </tr>\n",
       "    <tr>\n",
       "      <th>4</th>\n",
       "      <td>0.315894</td>\n",
       "      <td>t4u</td>\n",
       "    </tr>\n",
       "    <tr>\n",
       "      <th>5</th>\n",
       "      <td>0.047089</td>\n",
       "      <td>age</td>\n",
       "    </tr>\n",
       "  </tbody>\n",
       "</table>\n",
       "</div>"
      ],
      "text/plain": [
       "        score col_name\n",
       "0  609.918824      tsh\n",
       "1  308.295006      fti\n",
       "2  277.039138      tt4\n",
       "3   95.246881       t3\n",
       "4    0.315894      t4u\n",
       "5    0.047089      age"
      ]
     },
     "execution_count": 23,
     "metadata": {},
     "output_type": "execute_result"
    }
   ],
   "source": [
    "# To check the scores\n",
    "ml = [elem for elem in zip(kbest.scores_, num_train_scaled.columns.tolist())]\n",
    "ml.sort(reverse=True)\n",
    "df = pd.DataFrame(data = ml, columns = ['score','col_name'])\n",
    "df"
   ]
  },
  {
   "cell_type": "code",
   "execution_count": 20,
   "id": "2666a5b5",
   "metadata": {},
   "outputs": [
    {
     "data": {
      "image/png": "[encoded data removed]",
      "text/plain": [
       "<Figure size 1500x800 with 1 Axes>"
      ]
     },
     "metadata": {},
     "output_type": "display_data"
    }
   ],
   "source": [
    "plt.plot(df[\"score\"])\n",
    "plt.show()"
   ]
  },
  {
   "cell_type": "code",
   "execution_count": null,
   "id": "90bc0eaf",
   "metadata": {},
   "outputs": [],
   "source": [
    "### According to these results, it would be best to keep columns tsh, fti, tt4 and t3.\n",
    "### However, there seems to be multicolinearity between the tt4 and fti column. According \n",
    "### to the f_classif scores, it seems that the fti column could be more informative, so \n",
    "### I will keep this column and delete tt4."
   ]
  },
  {
   "cell_type": "markdown",
   "id": "3e99e57b",
   "metadata": {},
   "source": [
    "**Categorical columns: Chi2**"
   ]
  },
  {
   "cell_type": "code",
   "execution_count": 24,
   "id": "ad2eab45",
   "metadata": {},
   "outputs": [],
   "source": [
    "kbest = SelectKBest(chi2, k='all')\n",
    "kbest.fit(X_train_cat,y_train)\n",
    "cat_kbest = kbest.transform(X_train_cat) "
   ]
  },
  {
   "cell_type": "code",
   "execution_count": 26,
   "id": "ef8cb712",
   "metadata": {},
   "outputs": [
    {
     "data": {
      "text/html": [
       "<div>\n",
       "<style scoped>\n",
       "    .dataframe tbody tr th:only-of-type {\n",
       "        vertical-align: middle;\n",
       "    }\n",
       "\n",
       "    .dataframe tbody tr th {\n",
       "        vertical-align: top;\n",
       "    }\n",
       "\n",
       "    .dataframe thead th {\n",
       "        text-align: right;\n",
       "    }\n",
       "</style>\n",
       "<table border=\"1\" class=\"dataframe\">\n",
       "  <thead>\n",
       "    <tr style=\"text-align: right;\">\n",
       "      <th></th>\n",
       "      <th>score</th>\n",
       "      <th>col_name</th>\n",
       "    </tr>\n",
       "  </thead>\n",
       "  <tbody>\n",
       "    <tr>\n",
       "      <th>0</th>\n",
       "      <td>23.432136</td>\n",
       "      <td>on_thyroxine</td>\n",
       "    </tr>\n",
       "    <tr>\n",
       "      <th>1</th>\n",
       "      <td>3.545421</td>\n",
       "      <td>pregnant</td>\n",
       "    </tr>\n",
       "    <tr>\n",
       "      <th>2</th>\n",
       "      <td>2.720905</td>\n",
       "      <td>on_antithyroid_medication</td>\n",
       "    </tr>\n",
       "    <tr>\n",
       "      <th>3</th>\n",
       "      <td>2.308646</td>\n",
       "      <td>goitre</td>\n",
       "    </tr>\n",
       "    <tr>\n",
       "      <th>4</th>\n",
       "      <td>1.204566</td>\n",
       "      <td>sex</td>\n",
       "    </tr>\n",
       "    <tr>\n",
       "      <th>5</th>\n",
       "      <td>0.589955</td>\n",
       "      <td>thyroid_surgery</td>\n",
       "    </tr>\n",
       "    <tr>\n",
       "      <th>6</th>\n",
       "      <td>0.204185</td>\n",
       "      <td>tumor</td>\n",
       "    </tr>\n",
       "    <tr>\n",
       "      <th>7</th>\n",
       "      <td>0.101729</td>\n",
       "      <td>i131_treatment</td>\n",
       "    </tr>\n",
       "    <tr>\n",
       "      <th>8</th>\n",
       "      <td>0.082452</td>\n",
       "      <td>hypopituitary</td>\n",
       "    </tr>\n",
       "    <tr>\n",
       "      <th>9</th>\n",
       "      <td>0.012486</td>\n",
       "      <td>sick</td>\n",
       "    </tr>\n",
       "    <tr>\n",
       "      <th>10</th>\n",
       "      <td>0.004475</td>\n",
       "      <td>lithium</td>\n",
       "    </tr>\n",
       "  </tbody>\n",
       "</table>\n",
       "</div>"
      ],
      "text/plain": [
       "        score                   col_name\n",
       "0   23.432136               on_thyroxine\n",
       "1    3.545421                   pregnant\n",
       "2    2.720905  on_antithyroid_medication\n",
       "3    2.308646                     goitre\n",
       "4    1.204566                        sex\n",
       "5    0.589955            thyroid_surgery\n",
       "6    0.204185                      tumor\n",
       "7    0.101729             i131_treatment\n",
       "8    0.082452              hypopituitary\n",
       "9    0.012486                       sick\n",
       "10   0.004475                    lithium"
      ]
     },
     "execution_count": 26,
     "metadata": {},
     "output_type": "execute_result"
    }
   ],
   "source": [
    "# To check the scores\n",
    "ml = [elem for elem in zip(kbest.scores_, X_train_cat.columns.tolist())]\n",
    "ml.sort(reverse=True)\n",
    "df = pd.DataFrame(data = ml, columns = ['score','col_name'])\n",
    "df.head(20)"
   ]
  },
  {
   "cell_type": "code",
   "execution_count": 27,
   "id": "f5adc4b2",
   "metadata": {},
   "outputs": [
    {
     "data": {
      "image/png": "[encoded data removed]",
      "text/plain": [
       "<Figure size 1500x800 with 1 Axes>"
      ]
     },
     "metadata": {},
     "output_type": "display_data"
    }
   ],
   "source": [
    "plt.plot(df[\"score\"])\n",
    "plt.show()"
   ]
  },
  {
   "cell_type": "code",
   "execution_count": null,
   "id": "dea0c862",
   "metadata": {},
   "outputs": [],
   "source": [
    "### According to these results, the most informative column is on_thyroxine. However, in order\n",
    "### not to delete too many columns, I will select all columns with a score above 1:\n",
    "### on_thyroxine, pregnant, on_antithyroid_medication, goitre, sex"
   ]
  },
  {
   "cell_type": "code",
   "execution_count": 28,
   "id": "7fd51d3d",
   "metadata": {},
   "outputs": [],
   "source": [
    "def feature_selection(df):\n",
    "    df = df.drop([\"t4u\", \"age\", \"tt4\", \"thyroid_surgery\", \"tumor\", \"i131_treatment\", \"hypopituitary\",\n",
    "            \"sick\", \"lithium\"], axis = 1)\n",
    "    return df"
   ]
  }
 ],
 "metadata": {
  "kernelspec": {
   "display_name": "Python 3 (ipykernel)",
   "language": "python",
   "name": "python3"
  },
  "language_info": {
   "codemirror_mode": {
    "name": "ipython",
    "version": 3
   },
   "file_extension": ".py",
   "mimetype": "text/x-python",
   "name": "python",
   "nbconvert_exporter": "python",
   "pygments_lexer": "ipython3",
   "version": "3.10.4"
  }
 },
 "nbformat": 4,
 "nbformat_minor": 5
}
