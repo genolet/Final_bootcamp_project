{
 "cells": [
  {
   "cell_type": "code",
   "execution_count": 1,
   "id": "e03ca2a1",
   "metadata": {},
   "outputs": [
    {
     "name": "stdout",
     "output_type": "stream",
     "text": [
      "/Users/origenolet/Desktop/Ironhack/Week9/Final_bootcamp_project\n"
     ]
    }
   ],
   "source": [
    "%cd ../"
   ]
  },
  {
   "cell_type": "code",
   "execution_count": 2,
   "id": "a1731c5d",
   "metadata": {},
   "outputs": [],
   "source": [
    "import pandas as pd\n",
    "import numpy as np\n",
    "import seaborn as sns\n",
    "import matplotlib.pyplot as plt\n",
    "import functions.functions as f\n",
    "from sklearn.model_selection import train_test_split\n",
    "from sklearn.preprocessing import MinMaxScaler\n",
    "from imblearn.over_sampling import SMOTE \n",
    "from sklearn.utils import resample\n",
    "from sklearn.metrics import confusion_matrix, accuracy_score, precision_score, recall_score, ConfusionMatrixDisplay\n",
    "from sklearn.metrics import classification_report, f1_score, cohen_kappa_score, make_scorer\n",
    "from sklearn.linear_model import LogisticRegression\n",
    "from sklearn.ensemble import BaggingClassifier\n",
    "from sklearn.datasets import make_classification\n",
    "from sklearn.model_selection import cross_validate\n",
    "from sklearn.model_selection import GridSearchCV\n",
    "from sklearn.neighbors import KNeighborsClassifier\n",
    "from sklearn.naive_bayes import GaussianNB\n",
    "from sklearn.ensemble import RandomForestClassifier\n",
    "import pickle"
   ]
  },
  {
   "cell_type": "code",
   "execution_count": 3,
   "id": "4fa957c7",
   "metadata": {},
   "outputs": [
    {
     "data": {
      "text/html": [
       "<div>\n",
       "<style scoped>\n",
       "    .dataframe tbody tr th:only-of-type {\n",
       "        vertical-align: middle;\n",
       "    }\n",
       "\n",
       "    .dataframe tbody tr th {\n",
       "        vertical-align: top;\n",
       "    }\n",
       "\n",
       "    .dataframe thead th {\n",
       "        text-align: right;\n",
       "    }\n",
       "</style>\n",
       "<table border=\"1\" class=\"dataframe\">\n",
       "  <thead>\n",
       "    <tr style=\"text-align: right;\">\n",
       "      <th></th>\n",
       "      <th>age</th>\n",
       "      <th>sex</th>\n",
       "      <th>on thyroxine</th>\n",
       "      <th>query on thyroxine</th>\n",
       "      <th>on antithyroid medication</th>\n",
       "      <th>sick</th>\n",
       "      <th>pregnant</th>\n",
       "      <th>thyroid surgery</th>\n",
       "      <th>I131 treatment</th>\n",
       "      <th>query hypothyroid</th>\n",
       "      <th>...</th>\n",
       "      <th>TT4 measured</th>\n",
       "      <th>TT4</th>\n",
       "      <th>T4U measured</th>\n",
       "      <th>T4U</th>\n",
       "      <th>FTI measured</th>\n",
       "      <th>FTI</th>\n",
       "      <th>TBG measured</th>\n",
       "      <th>TBG</th>\n",
       "      <th>referral source</th>\n",
       "      <th>binaryClass</th>\n",
       "    </tr>\n",
       "  </thead>\n",
       "  <tbody>\n",
       "    <tr>\n",
       "      <th>0</th>\n",
       "      <td>41</td>\n",
       "      <td>F</td>\n",
       "      <td>f</td>\n",
       "      <td>f</td>\n",
       "      <td>f</td>\n",
       "      <td>f</td>\n",
       "      <td>f</td>\n",
       "      <td>f</td>\n",
       "      <td>f</td>\n",
       "      <td>f</td>\n",
       "      <td>...</td>\n",
       "      <td>t</td>\n",
       "      <td>125</td>\n",
       "      <td>t</td>\n",
       "      <td>1.14</td>\n",
       "      <td>t</td>\n",
       "      <td>109</td>\n",
       "      <td>f</td>\n",
       "      <td>?</td>\n",
       "      <td>SVHC</td>\n",
       "      <td>P</td>\n",
       "    </tr>\n",
       "    <tr>\n",
       "      <th>1</th>\n",
       "      <td>23</td>\n",
       "      <td>F</td>\n",
       "      <td>f</td>\n",
       "      <td>f</td>\n",
       "      <td>f</td>\n",
       "      <td>f</td>\n",
       "      <td>f</td>\n",
       "      <td>f</td>\n",
       "      <td>f</td>\n",
       "      <td>f</td>\n",
       "      <td>...</td>\n",
       "      <td>t</td>\n",
       "      <td>102</td>\n",
       "      <td>f</td>\n",
       "      <td>?</td>\n",
       "      <td>f</td>\n",
       "      <td>?</td>\n",
       "      <td>f</td>\n",
       "      <td>?</td>\n",
       "      <td>other</td>\n",
       "      <td>P</td>\n",
       "    </tr>\n",
       "    <tr>\n",
       "      <th>2</th>\n",
       "      <td>46</td>\n",
       "      <td>M</td>\n",
       "      <td>f</td>\n",
       "      <td>f</td>\n",
       "      <td>f</td>\n",
       "      <td>f</td>\n",
       "      <td>f</td>\n",
       "      <td>f</td>\n",
       "      <td>f</td>\n",
       "      <td>f</td>\n",
       "      <td>...</td>\n",
       "      <td>t</td>\n",
       "      <td>109</td>\n",
       "      <td>t</td>\n",
       "      <td>0.91</td>\n",
       "      <td>t</td>\n",
       "      <td>120</td>\n",
       "      <td>f</td>\n",
       "      <td>?</td>\n",
       "      <td>other</td>\n",
       "      <td>P</td>\n",
       "    </tr>\n",
       "    <tr>\n",
       "      <th>3</th>\n",
       "      <td>70</td>\n",
       "      <td>F</td>\n",
       "      <td>t</td>\n",
       "      <td>f</td>\n",
       "      <td>f</td>\n",
       "      <td>f</td>\n",
       "      <td>f</td>\n",
       "      <td>f</td>\n",
       "      <td>f</td>\n",
       "      <td>f</td>\n",
       "      <td>...</td>\n",
       "      <td>t</td>\n",
       "      <td>175</td>\n",
       "      <td>f</td>\n",
       "      <td>?</td>\n",
       "      <td>f</td>\n",
       "      <td>?</td>\n",
       "      <td>f</td>\n",
       "      <td>?</td>\n",
       "      <td>other</td>\n",
       "      <td>P</td>\n",
       "    </tr>\n",
       "    <tr>\n",
       "      <th>4</th>\n",
       "      <td>70</td>\n",
       "      <td>F</td>\n",
       "      <td>f</td>\n",
       "      <td>f</td>\n",
       "      <td>f</td>\n",
       "      <td>f</td>\n",
       "      <td>f</td>\n",
       "      <td>f</td>\n",
       "      <td>f</td>\n",
       "      <td>f</td>\n",
       "      <td>...</td>\n",
       "      <td>t</td>\n",
       "      <td>61</td>\n",
       "      <td>t</td>\n",
       "      <td>0.87</td>\n",
       "      <td>t</td>\n",
       "      <td>70</td>\n",
       "      <td>f</td>\n",
       "      <td>?</td>\n",
       "      <td>SVI</td>\n",
       "      <td>P</td>\n",
       "    </tr>\n",
       "  </tbody>\n",
       "</table>\n",
       "<p>5 rows × 30 columns</p>\n",
       "</div>"
      ],
      "text/plain": [
       "  age sex on thyroxine query on thyroxine on antithyroid medication sick  \\\n",
       "0  41   F            f                  f                         f    f   \n",
       "1  23   F            f                  f                         f    f   \n",
       "2  46   M            f                  f                         f    f   \n",
       "3  70   F            t                  f                         f    f   \n",
       "4  70   F            f                  f                         f    f   \n",
       "\n",
       "  pregnant thyroid surgery I131 treatment query hypothyroid  ... TT4 measured  \\\n",
       "0        f               f              f                 f  ...            t   \n",
       "1        f               f              f                 f  ...            t   \n",
       "2        f               f              f                 f  ...            t   \n",
       "3        f               f              f                 f  ...            t   \n",
       "4        f               f              f                 f  ...            t   \n",
       "\n",
       "   TT4 T4U measured   T4U FTI measured  FTI TBG measured TBG referral source  \\\n",
       "0  125            t  1.14            t  109            f   ?            SVHC   \n",
       "1  102            f     ?            f    ?            f   ?           other   \n",
       "2  109            t  0.91            t  120            f   ?           other   \n",
       "3  175            f     ?            f    ?            f   ?           other   \n",
       "4   61            t  0.87            t   70            f   ?             SVI   \n",
       "\n",
       "  binaryClass  \n",
       "0           P  \n",
       "1           P  \n",
       "2           P  \n",
       "3           P  \n",
       "4           P  \n",
       "\n",
       "[5 rows x 30 columns]"
      ]
     },
     "metadata": {},
     "output_type": "display_data"
    },
    {
     "name": "stdout",
     "output_type": "stream",
     "text": [
      "(3772, 30)\n"
     ]
    }
   ],
   "source": [
    "data = pd.read_csv('./data/raw/hypothyroid.csv')\n",
    "display(data.head())\n",
    "print(data.shape)"
   ]
  },
  {
   "cell_type": "code",
   "execution_count": 4,
   "id": "4f2943b9",
   "metadata": {},
   "outputs": [],
   "source": [
    "data = f.data_cleaning(data)"
   ]
  },
  {
   "cell_type": "code",
   "execution_count": 5,
   "id": "5498b8a8",
   "metadata": {},
   "outputs": [
    {
     "data": {
      "text/html": [
       "<div>\n",
       "<style scoped>\n",
       "    .dataframe tbody tr th:only-of-type {\n",
       "        vertical-align: middle;\n",
       "    }\n",
       "\n",
       "    .dataframe tbody tr th {\n",
       "        vertical-align: top;\n",
       "    }\n",
       "\n",
       "    .dataframe thead th {\n",
       "        text-align: right;\n",
       "    }\n",
       "</style>\n",
       "<table border=\"1\" class=\"dataframe\">\n",
       "  <thead>\n",
       "    <tr style=\"text-align: right;\">\n",
       "      <th></th>\n",
       "      <th>sex</th>\n",
       "      <th>on_thyroxine</th>\n",
       "      <th>on_antithyroid_medication</th>\n",
       "      <th>pregnant</th>\n",
       "      <th>goitre</th>\n",
       "      <th>tsh</th>\n",
       "      <th>t3</th>\n",
       "      <th>fti</th>\n",
       "      <th>binaryclass</th>\n",
       "    </tr>\n",
       "  </thead>\n",
       "  <tbody>\n",
       "    <tr>\n",
       "      <th>0</th>\n",
       "      <td>F</td>\n",
       "      <td>f</td>\n",
       "      <td>f</td>\n",
       "      <td>f</td>\n",
       "      <td>f</td>\n",
       "      <td>1.30</td>\n",
       "      <td>2.5</td>\n",
       "      <td>109.0</td>\n",
       "      <td>Healthy</td>\n",
       "    </tr>\n",
       "    <tr>\n",
       "      <th>1</th>\n",
       "      <td>F</td>\n",
       "      <td>f</td>\n",
       "      <td>f</td>\n",
       "      <td>f</td>\n",
       "      <td>f</td>\n",
       "      <td>4.10</td>\n",
       "      <td>2.0</td>\n",
       "      <td>107.0</td>\n",
       "      <td>Healthy</td>\n",
       "    </tr>\n",
       "    <tr>\n",
       "      <th>2</th>\n",
       "      <td>M</td>\n",
       "      <td>f</td>\n",
       "      <td>f</td>\n",
       "      <td>f</td>\n",
       "      <td>f</td>\n",
       "      <td>0.98</td>\n",
       "      <td>2.0</td>\n",
       "      <td>120.0</td>\n",
       "      <td>Healthy</td>\n",
       "    </tr>\n",
       "    <tr>\n",
       "      <th>3</th>\n",
       "      <td>F</td>\n",
       "      <td>t</td>\n",
       "      <td>f</td>\n",
       "      <td>f</td>\n",
       "      <td>f</td>\n",
       "      <td>0.16</td>\n",
       "      <td>1.9</td>\n",
       "      <td>107.0</td>\n",
       "      <td>Healthy</td>\n",
       "    </tr>\n",
       "    <tr>\n",
       "      <th>4</th>\n",
       "      <td>F</td>\n",
       "      <td>f</td>\n",
       "      <td>f</td>\n",
       "      <td>f</td>\n",
       "      <td>f</td>\n",
       "      <td>0.72</td>\n",
       "      <td>1.2</td>\n",
       "      <td>70.0</td>\n",
       "      <td>Healthy</td>\n",
       "    </tr>\n",
       "  </tbody>\n",
       "</table>\n",
       "</div>"
      ],
      "text/plain": [
       "  sex on_thyroxine on_antithyroid_medication pregnant goitre   tsh   t3  \\\n",
       "0   F            f                         f        f      f  1.30  2.5   \n",
       "1   F            f                         f        f      f  4.10  2.0   \n",
       "2   M            f                         f        f      f  0.98  2.0   \n",
       "3   F            t                         f        f      f  0.16  1.9   \n",
       "4   F            f                         f        f      f  0.72  1.2   \n",
       "\n",
       "     fti binaryclass  \n",
       "0  109.0     Healthy  \n",
       "1  107.0     Healthy  \n",
       "2  120.0     Healthy  \n",
       "3  107.0     Healthy  \n",
       "4   70.0     Healthy  "
      ]
     },
     "execution_count": 5,
     "metadata": {},
     "output_type": "execute_result"
    }
   ],
   "source": [
    "data = f.feature_selection(data)\n",
    "data.head()"
   ]
  },
  {
   "cell_type": "code",
   "execution_count": 6,
   "id": "1e3ab1e0",
   "metadata": {},
   "outputs": [],
   "source": [
    "data.to_csv(\"./data/clean/hypothyroid_clean.csv\", index = False)"
   ]
  },
  {
   "cell_type": "code",
   "execution_count": 7,
   "id": "e31ca0b6",
   "metadata": {},
   "outputs": [
    {
     "data": {
      "text/html": [
       "<div>\n",
       "<style scoped>\n",
       "    .dataframe tbody tr th:only-of-type {\n",
       "        vertical-align: middle;\n",
       "    }\n",
       "\n",
       "    .dataframe tbody tr th {\n",
       "        vertical-align: top;\n",
       "    }\n",
       "\n",
       "    .dataframe thead th {\n",
       "        text-align: right;\n",
       "    }\n",
       "</style>\n",
       "<table border=\"1\" class=\"dataframe\">\n",
       "  <thead>\n",
       "    <tr style=\"text-align: right;\">\n",
       "      <th></th>\n",
       "      <th>sex</th>\n",
       "      <th>on_thyroxine</th>\n",
       "      <th>on_antithyroid_medication</th>\n",
       "      <th>pregnant</th>\n",
       "      <th>goitre</th>\n",
       "      <th>tsh</th>\n",
       "      <th>t3</th>\n",
       "      <th>fti</th>\n",
       "      <th>binaryclass</th>\n",
       "    </tr>\n",
       "  </thead>\n",
       "  <tbody>\n",
       "    <tr>\n",
       "      <th>15</th>\n",
       "      <td>F</td>\n",
       "      <td>f</td>\n",
       "      <td>f</td>\n",
       "      <td>f</td>\n",
       "      <td>f</td>\n",
       "      <td>12.0</td>\n",
       "      <td>2.0</td>\n",
       "      <td>87.0</td>\n",
       "      <td>Diseased</td>\n",
       "    </tr>\n",
       "    <tr>\n",
       "      <th>40</th>\n",
       "      <td>M</td>\n",
       "      <td>f</td>\n",
       "      <td>f</td>\n",
       "      <td>f</td>\n",
       "      <td>f</td>\n",
       "      <td>45.0</td>\n",
       "      <td>1.4</td>\n",
       "      <td>33.0</td>\n",
       "      <td>Diseased</td>\n",
       "    </tr>\n",
       "    <tr>\n",
       "      <th>57</th>\n",
       "      <td>M</td>\n",
       "      <td>f</td>\n",
       "      <td>f</td>\n",
       "      <td>f</td>\n",
       "      <td>f</td>\n",
       "      <td>14.8</td>\n",
       "      <td>1.5</td>\n",
       "      <td>72.0</td>\n",
       "      <td>Diseased</td>\n",
       "    </tr>\n",
       "    <tr>\n",
       "      <th>58</th>\n",
       "      <td>F</td>\n",
       "      <td>f</td>\n",
       "      <td>f</td>\n",
       "      <td>f</td>\n",
       "      <td>f</td>\n",
       "      <td>15.0</td>\n",
       "      <td>1.6</td>\n",
       "      <td>100.0</td>\n",
       "      <td>Diseased</td>\n",
       "    </tr>\n",
       "    <tr>\n",
       "      <th>59</th>\n",
       "      <td>F</td>\n",
       "      <td>f</td>\n",
       "      <td>f</td>\n",
       "      <td>f</td>\n",
       "      <td>f</td>\n",
       "      <td>19.0</td>\n",
       "      <td>2.2</td>\n",
       "      <td>81.0</td>\n",
       "      <td>Diseased</td>\n",
       "    </tr>\n",
       "    <tr>\n",
       "      <th>...</th>\n",
       "      <td>...</td>\n",
       "      <td>...</td>\n",
       "      <td>...</td>\n",
       "      <td>...</td>\n",
       "      <td>...</td>\n",
       "      <td>...</td>\n",
       "      <td>...</td>\n",
       "      <td>...</td>\n",
       "      <td>...</td>\n",
       "    </tr>\n",
       "    <tr>\n",
       "      <th>3740</th>\n",
       "      <td>F</td>\n",
       "      <td>f</td>\n",
       "      <td>f</td>\n",
       "      <td>f</td>\n",
       "      <td>f</td>\n",
       "      <td>117.0</td>\n",
       "      <td>0.4</td>\n",
       "      <td>15.0</td>\n",
       "      <td>Diseased</td>\n",
       "    </tr>\n",
       "    <tr>\n",
       "      <th>3748</th>\n",
       "      <td>M</td>\n",
       "      <td>f</td>\n",
       "      <td>f</td>\n",
       "      <td>f</td>\n",
       "      <td>f</td>\n",
       "      <td>55.0</td>\n",
       "      <td>0.6</td>\n",
       "      <td>17.0</td>\n",
       "      <td>Diseased</td>\n",
       "    </tr>\n",
       "    <tr>\n",
       "      <th>3751</th>\n",
       "      <td>F</td>\n",
       "      <td>f</td>\n",
       "      <td>f</td>\n",
       "      <td>f</td>\n",
       "      <td>f</td>\n",
       "      <td>6.3</td>\n",
       "      <td>1.1</td>\n",
       "      <td>65.0</td>\n",
       "      <td>Diseased</td>\n",
       "    </tr>\n",
       "    <tr>\n",
       "      <th>3753</th>\n",
       "      <td>F</td>\n",
       "      <td>f</td>\n",
       "      <td>f</td>\n",
       "      <td>f</td>\n",
       "      <td>f</td>\n",
       "      <td>40.0</td>\n",
       "      <td>2.2</td>\n",
       "      <td>74.0</td>\n",
       "      <td>Diseased</td>\n",
       "    </tr>\n",
       "    <tr>\n",
       "      <th>3766</th>\n",
       "      <td>F</td>\n",
       "      <td>f</td>\n",
       "      <td>f</td>\n",
       "      <td>f</td>\n",
       "      <td>f</td>\n",
       "      <td>8.8</td>\n",
       "      <td>2.7</td>\n",
       "      <td>97.0</td>\n",
       "      <td>Diseased</td>\n",
       "    </tr>\n",
       "  </tbody>\n",
       "</table>\n",
       "<p>291 rows × 9 columns</p>\n",
       "</div>"
      ],
      "text/plain": [
       "     sex on_thyroxine on_antithyroid_medication pregnant goitre    tsh   t3  \\\n",
       "15     F            f                         f        f      f   12.0  2.0   \n",
       "40     M            f                         f        f      f   45.0  1.4   \n",
       "57     M            f                         f        f      f   14.8  1.5   \n",
       "58     F            f                         f        f      f   15.0  1.6   \n",
       "59     F            f                         f        f      f   19.0  2.2   \n",
       "...   ..          ...                       ...      ...    ...    ...  ...   \n",
       "3740   F            f                         f        f      f  117.0  0.4   \n",
       "3748   M            f                         f        f      f   55.0  0.6   \n",
       "3751   F            f                         f        f      f    6.3  1.1   \n",
       "3753   F            f                         f        f      f   40.0  2.2   \n",
       "3766   F            f                         f        f      f    8.8  2.7   \n",
       "\n",
       "        fti binaryclass  \n",
       "15     87.0    Diseased  \n",
       "40     33.0    Diseased  \n",
       "57     72.0    Diseased  \n",
       "58    100.0    Diseased  \n",
       "59     81.0    Diseased  \n",
       "...     ...         ...  \n",
       "3740   15.0    Diseased  \n",
       "3748   17.0    Diseased  \n",
       "3751   65.0    Diseased  \n",
       "3753   74.0    Diseased  \n",
       "3766   97.0    Diseased  \n",
       "\n",
       "[291 rows x 9 columns]"
      ]
     },
     "execution_count": 7,
     "metadata": {},
     "output_type": "execute_result"
    }
   ],
   "source": [
    "data[data[\"binaryclass\"] == \"Diseased\"]"
   ]
  },
  {
   "cell_type": "markdown",
   "id": "5aed15d5",
   "metadata": {},
   "source": [
    "### Enconding features ### "
   ]
  },
  {
   "cell_type": "code",
   "execution_count": null,
   "id": "b8ef2622",
   "metadata": {},
   "outputs": [],
   "source": [
    "### Sex column"
   ]
  },
  {
   "cell_type": "code",
   "execution_count": null,
   "id": "4dc48efe",
   "metadata": {},
   "outputs": [],
   "source": [
    "data[\"sex\"] = data[\"sex\"].replace({\"F\":1, \"M\":0})"
   ]
  },
  {
   "cell_type": "code",
   "execution_count": null,
   "id": "c9ab1823",
   "metadata": {},
   "outputs": [],
   "source": [
    "### Other categoricals with f, t\n",
    "\n",
    "cols = [\"on_thyroxine\", \"on_antithyroid_medication\", \"pregnant\", \"goitre\"]\n",
    "for col in cols:\n",
    "    data[col] = data[col].replace({\"t\":1, \"f\":0})"
   ]
  },
  {
   "cell_type": "code",
   "execution_count": null,
   "id": "9ec1218c",
   "metadata": {},
   "outputs": [],
   "source": [
    "data.head()"
   ]
  },
  {
   "cell_type": "markdown",
   "id": "211769b3",
   "metadata": {},
   "source": [
    "### X, y split ###"
   ]
  },
  {
   "cell_type": "code",
   "execution_count": null,
   "id": "224c2eea",
   "metadata": {},
   "outputs": [],
   "source": [
    "X = data.drop(\"binaryclass\", axis = 1)\n",
    "y = data[\"binaryclass\"]"
   ]
  },
  {
   "cell_type": "markdown",
   "id": "92141126",
   "metadata": {},
   "source": [
    "### Train test split ### "
   ]
  },
  {
   "cell_type": "code",
   "execution_count": null,
   "id": "f4494195",
   "metadata": {},
   "outputs": [],
   "source": [
    "X_train, X_test, y_train, y_test = train_test_split(X, y, test_size=0.2, random_state=42)\n",
    "print('Shape X train:', X_train.shape)\n",
    "print('Shape X test:', X_test.shape)\n",
    "print('Shape y train:', y_train.shape)\n",
    "print('Shape y test:', y_test.shape)"
   ]
  },
  {
   "cell_type": "markdown",
   "id": "0bae0304",
   "metadata": {},
   "source": [
    "### MinMax scaler ### "
   ]
  },
  {
   "cell_type": "code",
   "execution_count": null,
   "id": "beba71d6",
   "metadata": {},
   "outputs": [],
   "source": [
    "scaler_num = MinMaxScaler().fit(X_train)\n",
    "X_train_scaled = scaler_num.transform(X_train)\n",
    "\n",
    "filename = \"./transformers/minmaxscaler.pickle\" \n",
    "with open(filename, \"wb\") as file:\n",
    "    pickle.dump(scaler_num,file)\n",
    "       \n",
    "X_train_scaled = pd.DataFrame(X_train_scaled, columns = X_train.columns, index=X_train.index)\n",
    "print(X_train_scaled.shape)\n",
    "X_train_scaled.head()"
   ]
  },
  {
   "cell_type": "code",
   "execution_count": null,
   "id": "046a237e",
   "metadata": {},
   "outputs": [],
   "source": [
    "X_test_scaled = scaler_num.transform(X_test)\n",
    "X_test_scaled = pd.DataFrame(X_test_scaled, columns = X_test.columns, index=X_test.index)\n",
    "print(X_test_scaled.shape)\n",
    "X_test_scaled.head()"
   ]
  },
  {
   "cell_type": "markdown",
   "id": "9a4275f8",
   "metadata": {},
   "source": [
    "### Class imbalance: SMOTE ###"
   ]
  },
  {
   "cell_type": "code",
   "execution_count": null,
   "id": "0352f846",
   "metadata": {},
   "outputs": [],
   "source": [
    "sm = SMOTE(random_state=50, k_neighbors=3)\n",
    "X_train_scaled_sm, y_train_sm = sm.fit_resample(X_train_scaled, y_train)\n",
    "print('X shape before using SMOTE:', X_train_scaled.shape)\n",
    "print('X shape after using SMOTE:', X_train_scaled_sm.shape)\n",
    "print('')\n",
    "print('Y value counts:\\n', y_train_sm.value_counts())"
   ]
  },
  {
   "cell_type": "code",
   "execution_count": null,
   "id": "34c329ef",
   "metadata": {},
   "outputs": [],
   "source": [
    "X_train_scaled_sm.head()"
   ]
  },
  {
   "cell_type": "code",
   "execution_count": null,
   "id": "9d834bc0",
   "metadata": {},
   "outputs": [],
   "source": [
    "y_train_sm.head()"
   ]
  },
  {
   "cell_type": "markdown",
   "id": "d3aeeb95",
   "metadata": {},
   "source": [
    "### Class imbalance: Upsampling ###"
   ]
  },
  {
   "cell_type": "code",
   "execution_count": null,
   "id": "4f556e52",
   "metadata": {},
   "outputs": [],
   "source": [
    "### generating train set again to upsample the donor samples\n",
    "\n",
    "trainset = pd.concat([X_train_scaled, y_train], axis=1)\n",
    "print(trainset.shape)\n",
    "trainset.head()"
   ]
  },
  {
   "cell_type": "code",
   "execution_count": null,
   "id": "a5ac1c30",
   "metadata": {},
   "outputs": [],
   "source": [
    "### creating healthy and diseased dataset for upsampling\n",
    "\n",
    "healthy = trainset[trainset[\"binaryclass\"] == \"Healthy\"]\n",
    "diseased = trainset[trainset[\"binaryclass\"] == \"Diseased\"]\n",
    "print(healthy.shape)\n",
    "print(diseased.shape)"
   ]
  },
  {
   "cell_type": "code",
   "execution_count": null,
   "id": "644b58fb",
   "metadata": {},
   "outputs": [],
   "source": [
    "### upsampling donors dataset\n",
    "\n",
    "diseased_upsample = resample(diseased,\n",
    "             replace=True,\n",
    "             n_samples=len(healthy),\n",
    "             random_state=42)\n",
    "\n",
    "print(diseased_upsample.shape)\n",
    "display(diseased_upsample.head())"
   ]
  },
  {
   "cell_type": "code",
   "execution_count": null,
   "id": "0b00cfe7",
   "metadata": {},
   "outputs": [],
   "source": [
    "### here I am concatenating both datasets again and doing the x, y split for the train set again\n",
    "\n",
    "trainset_new = pd.concat([diseased_upsample, healthy], axis = 0)\n",
    "trainset_new = trainset_new.sample(frac =1).reset_index(drop=True)\n",
    "X_train_scaled_up = trainset_new.drop(['binaryclass'], axis=1)\n",
    "y_train_up = trainset_new['binaryclass']"
   ]
  },
  {
   "cell_type": "code",
   "execution_count": null,
   "id": "40ab440d",
   "metadata": {},
   "outputs": [],
   "source": [
    "X_train_scaled_up.head()"
   ]
  },
  {
   "cell_type": "code",
   "execution_count": null,
   "id": "9edfa0d6",
   "metadata": {},
   "outputs": [],
   "source": [
    "y_train_up.head()"
   ]
  },
  {
   "cell_type": "markdown",
   "id": "24656c56",
   "metadata": {},
   "source": [
    "### Logistic regression ###"
   ]
  },
  {
   "cell_type": "markdown",
   "id": "3e0e6f90",
   "metadata": {},
   "source": [
    "**Best parameter search with bagging** "
   ]
  },
  {
   "cell_type": "code",
   "execution_count": null,
   "id": "cec4e5a0",
   "metadata": {},
   "outputs": [],
   "source": [
    "LR = LogisticRegression()\n",
    "clf_lr = BaggingClassifier(base_estimator=LR, random_state=50)\n",
    "scorer = make_scorer(f1_score, pos_label = \"Diseased\")\n",
    "\n",
    "n_estimators = [5,10,15]\n",
    "solvers = [\"lbfgs\", \"liblinear\"]\n",
    "\n",
    "grid_lr = {\n",
    "        'base_estimator__solver': solvers,\n",
    "        'n_estimators': n_estimators\n",
    "        }"
   ]
  },
  {
   "cell_type": "code",
   "execution_count": null,
   "id": "d45a0baf",
   "metadata": {},
   "outputs": [],
   "source": [
    "grid_search = GridSearchCV(estimator = clf_lr, \n",
    "                           scoring = scorer, \n",
    "                           param_grid = grid_lr, \n",
    "                           cv = 5, \n",
    "                           verbose = 2)"
   ]
  },
  {
   "cell_type": "code",
   "execution_count": null,
   "id": "f7827488",
   "metadata": {},
   "outputs": [],
   "source": [
    "lr_grid = grid_search.fit(X_train_scaled_sm, y_train_sm)"
   ]
  },
  {
   "cell_type": "code",
   "execution_count": null,
   "id": "51b5ec3b",
   "metadata": {},
   "outputs": [],
   "source": [
    "print('Best parameters:', lr_grid.best_params_)"
   ]
  },
  {
   "cell_type": "markdown",
   "id": "9b9bf9bb",
   "metadata": {},
   "source": [
    "**Logistic regression model with bagging (SMOTE)**"
   ]
  },
  {
   "cell_type": "code",
   "execution_count": null,
   "id": "0c680af5",
   "metadata": {},
   "outputs": [],
   "source": [
    "LR = LogisticRegression(solver = \"liblinear\")\n",
    "clf_lr = BaggingClassifier(base_estimator=LR, random_state=50, n_estimators = 5)\n",
    "clf_lr.fit(X_train_scaled_sm, y_train_sm)"
   ]
  },
  {
   "cell_type": "code",
   "execution_count": null,
   "id": "a9379c3c",
   "metadata": {},
   "outputs": [],
   "source": [
    "y_train_pred = clf_lr.predict(X_train_scaled_sm)\n",
    "y_test_pred  = clf_lr.predict(X_test_scaled)"
   ]
  },
  {
   "cell_type": "code",
   "execution_count": null,
   "id": "f244e168",
   "metadata": {},
   "outputs": [],
   "source": [
    "cm_train = confusion_matrix(y_train_sm, y_train_pred)\n",
    "disp = ConfusionMatrixDisplay(cm_train,display_labels=clf_lr.classes_);\n",
    "disp.plot()\n",
    "fig = disp.ax_.get_figure() \n",
    "fig.set_figwidth(3)\n",
    "fig.set_figheight(3)"
   ]
  },
  {
   "cell_type": "code",
   "execution_count": null,
   "id": "d1ce16a4",
   "metadata": {},
   "outputs": [],
   "source": [
    "cm_test = confusion_matrix(y_test, y_test_pred)\n",
    "disp = ConfusionMatrixDisplay(cm_test,display_labels=clf_lr.classes_);\n",
    "disp.plot()\n",
    "fig = disp.ax_.get_figure() \n",
    "fig.set_figwidth(3)\n",
    "fig.set_figheight(3)"
   ]
  },
  {
   "cell_type": "code",
   "execution_count": null,
   "id": "c504efb5",
   "metadata": {},
   "outputs": [],
   "source": [
    "print(\"The f1 score in the TRAIN set is: {:.3f}\".format(f1_score(y_train_sm, y_train_pred, pos_label=\"Diseased\")))\n",
    "print(\"The f1 score in the TEST  set is: {:.3f}\".format(f1_score(y_test, y_test_pred, pos_label=\"Diseased\")))"
   ]
  },
  {
   "cell_type": "markdown",
   "id": "9ef94015",
   "metadata": {},
   "source": [
    "**Logistic regression model with bagging (Upsampling)**"
   ]
  },
  {
   "cell_type": "code",
   "execution_count": null,
   "id": "0a9e9a10",
   "metadata": {},
   "outputs": [],
   "source": [
    "LR = LogisticRegression(solver = \"liblinear\")\n",
    "clf_lr = BaggingClassifier(base_estimator=LR, random_state=50, n_estimators = 5)\n",
    "clf_lr.fit(X_train_scaled_up, y_train_up)"
   ]
  },
  {
   "cell_type": "code",
   "execution_count": null,
   "id": "9106a87b",
   "metadata": {},
   "outputs": [],
   "source": [
    "y_train_pred = clf_lr.predict(X_train_scaled_up)\n",
    "y_test_pred  = clf_lr.predict(X_test_scaled)"
   ]
  },
  {
   "cell_type": "code",
   "execution_count": null,
   "id": "3411956d",
   "metadata": {},
   "outputs": [],
   "source": [
    "cm_train = confusion_matrix(y_train_up, y_train_pred)\n",
    "disp = ConfusionMatrixDisplay(cm_train,display_labels=clf_lr.classes_);\n",
    "disp.plot()\n",
    "fig = disp.ax_.get_figure() \n",
    "fig.set_figwidth(3)\n",
    "fig.set_figheight(3)"
   ]
  },
  {
   "cell_type": "code",
   "execution_count": null,
   "id": "1f796c68",
   "metadata": {},
   "outputs": [],
   "source": [
    "cm_test = confusion_matrix(y_test, y_test_pred)\n",
    "disp = ConfusionMatrixDisplay(cm_test,display_labels=clf_lr.classes_);\n",
    "disp.plot()\n",
    "fig = disp.ax_.get_figure() \n",
    "fig.set_figwidth(3)\n",
    "fig.set_figheight(3)"
   ]
  },
  {
   "cell_type": "code",
   "execution_count": null,
   "id": "8a737bfd",
   "metadata": {},
   "outputs": [],
   "source": [
    "print(\"The f1 score in the TRAIN set is: {:.3f}\".format(f1_score(y_train_up, y_train_pred, pos_label=\"Diseased\")))\n",
    "print(\"The f1 score in the TEST  set is: {:.3f}\".format(f1_score(y_test, y_test_pred, pos_label=\"Diseased\")))"
   ]
  },
  {
   "cell_type": "markdown",
   "id": "e08737c6",
   "metadata": {},
   "source": [
    "### K nearest neighbor ###"
   ]
  },
  {
   "cell_type": "code",
   "execution_count": null,
   "id": "e4b1ff10",
   "metadata": {},
   "outputs": [],
   "source": [
    "error_rate = []\n",
    "for k in range(1,40):\n",
    "    knn = KNeighborsClassifier(n_neighbors=k)\n",
    "    knn.fit(X_train_scaled_sm, y_train_sm)\n",
    "    pred_k = knn.predict(X_test_scaled)\n",
    "    error_rates = 1 - accuracy_score(pred_k,y_test)\n",
    "    error_rate.append(error_rates)"
   ]
  },
  {
   "cell_type": "code",
   "execution_count": null,
   "id": "0973301d",
   "metadata": {},
   "outputs": [],
   "source": [
    "plt.figure(figsize=(5,5))\n",
    "plt.plot(range(1,40),error_rate,color=\"black\", linestyle=\"dashed\", marker=\"o\",\n",
    " markerfacecolor=\"black\", markersize=4)\n",
    "plt.title(\"Error Rate vs. K Value\")\n",
    "plt.xlabel(\"K\")\n",
    "plt.ylabel(\"Error Rate\")"
   ]
  },
  {
   "cell_type": "code",
   "execution_count": null,
   "id": "e1eb72eb",
   "metadata": {},
   "outputs": [],
   "source": [
    "KNN = KNeighborsClassifier()\n",
    "clf_knn = BaggingClassifier(base_estimator=KNN, random_state=50)\n",
    "scorer = make_scorer(f1_score, pos_label = \"Diseased\")\n",
    "\n",
    "n_neighbors = [3,4,5,6]\n",
    "weights = ['uniform', 'distance']\n",
    "p = [1,2] \n",
    "n_estimators = [5,10]\n",
    "\n",
    "grid_knn = {'base_estimator__n_neighbors': n_neighbors,\n",
    "           'base_estimator__weights': weights,\n",
    "           'base_estimator__p': p,\n",
    "           'n_estimators': n_estimators}"
   ]
  },
  {
   "cell_type": "code",
   "execution_count": null,
   "id": "88263bb6",
   "metadata": {},
   "outputs": [],
   "source": [
    "grid_search = GridSearchCV(estimator = clf_knn, \n",
    "                           scoring = scorer, \n",
    "                           param_grid = grid_knn, \n",
    "                           cv = 5, \n",
    "                           verbose = 2)"
   ]
  },
  {
   "cell_type": "code",
   "execution_count": null,
   "id": "e7b0d7bd",
   "metadata": {},
   "outputs": [],
   "source": [
    "knn_grid = grid_search.fit(X_train_scaled_sm, y_train_sm)"
   ]
  },
  {
   "cell_type": "code",
   "execution_count": null,
   "id": "17f4aea8",
   "metadata": {},
   "outputs": [],
   "source": [
    "print('Best parameters:', knn_grid.best_params_)"
   ]
  },
  {
   "cell_type": "markdown",
   "id": "d9dca8b4",
   "metadata": {},
   "source": [
    "**KNN with bagging (SMOTE)**"
   ]
  },
  {
   "cell_type": "code",
   "execution_count": null,
   "id": "197f0f1d",
   "metadata": {},
   "outputs": [],
   "source": [
    "KNN = KNeighborsClassifier(n_neighbors = 3, p = 1, weights = \"distance\")\n",
    "clf_knn = BaggingClassifier(base_estimator=KNN, random_state=50, n_estimators = 10)\n",
    "clf_knn.fit(X_train_scaled_sm, y_train_sm)"
   ]
  },
  {
   "cell_type": "code",
   "execution_count": null,
   "id": "6d862043",
   "metadata": {},
   "outputs": [],
   "source": [
    "y_train_pred = clf_knn.predict(X_train_scaled_sm)\n",
    "y_test_pred  = clf_knn.predict(X_test_scaled)"
   ]
  },
  {
   "cell_type": "code",
   "execution_count": null,
   "id": "71e6bcb1",
   "metadata": {},
   "outputs": [],
   "source": [
    "cm_train = confusion_matrix(y_train_sm, y_train_pred)\n",
    "disp = ConfusionMatrixDisplay(cm_train,display_labels=clf_knn.classes_);\n",
    "disp.plot()\n",
    "fig = disp.ax_.get_figure() \n",
    "fig.set_figwidth(3)\n",
    "fig.set_figheight(3)"
   ]
  },
  {
   "cell_type": "code",
   "execution_count": null,
   "id": "66666f9c",
   "metadata": {},
   "outputs": [],
   "source": [
    "cm_test = confusion_matrix(y_test, y_test_pred)\n",
    "disp = ConfusionMatrixDisplay(cm_test,display_labels=clf_knn.classes_);\n",
    "disp.plot()\n",
    "fig = disp.ax_.get_figure() \n",
    "fig.set_figwidth(3)\n",
    "fig.set_figheight(3)"
   ]
  },
  {
   "cell_type": "code",
   "execution_count": null,
   "id": "74278b8f",
   "metadata": {},
   "outputs": [],
   "source": [
    "print(\"The f1 score in the TRAIN set is: {:.3f}\".format(f1_score(y_train_sm, y_train_pred, pos_label=\"Diseased\")))\n",
    "print(\"The f1 score in the TEST  set is: {:.3f}\".format(f1_score(y_test, y_test_pred, pos_label=\"Diseased\")))"
   ]
  },
  {
   "cell_type": "markdown",
   "id": "582700eb",
   "metadata": {},
   "source": [
    "**KNN with bagging (Upscaling)**"
   ]
  },
  {
   "cell_type": "code",
   "execution_count": null,
   "id": "b545c87e",
   "metadata": {},
   "outputs": [],
   "source": [
    "KNN = KNeighborsClassifier(n_neighbors = 3, p = 1, weights = \"distance\")\n",
    "clf_knn = BaggingClassifier(base_estimator=KNN, random_state=50, n_estimators = 10)\n",
    "clf_knn.fit(X_train_scaled_up, y_train_up)"
   ]
  },
  {
   "cell_type": "code",
   "execution_count": null,
   "id": "c1c58758",
   "metadata": {},
   "outputs": [],
   "source": [
    "y_train_pred = clf_knn.predict(X_train_scaled_up)\n",
    "y_test_pred  = clf_knn.predict(X_test_scaled)"
   ]
  },
  {
   "cell_type": "code",
   "execution_count": null,
   "id": "d6e4deb3",
   "metadata": {},
   "outputs": [],
   "source": [
    "cm_train = confusion_matrix(y_train_up, y_train_pred)\n",
    "disp = ConfusionMatrixDisplay(cm_train,display_labels=clf_knn.classes_);\n",
    "disp.plot()\n",
    "fig = disp.ax_.get_figure() \n",
    "fig.set_figwidth(3)\n",
    "fig.set_figheight(3)"
   ]
  },
  {
   "cell_type": "code",
   "execution_count": null,
   "id": "876b730d",
   "metadata": {},
   "outputs": [],
   "source": [
    "cm_test = confusion_matrix(y_test, y_test_pred)\n",
    "disp = ConfusionMatrixDisplay(cm_test,display_labels=clf_knn.classes_);\n",
    "disp.plot()\n",
    "fig = disp.ax_.get_figure() \n",
    "fig.set_figwidth(3)\n",
    "fig.set_figheight(3)"
   ]
  },
  {
   "cell_type": "code",
   "execution_count": null,
   "id": "3ca2d22f",
   "metadata": {},
   "outputs": [],
   "source": [
    "print(\"The f1 score in the TRAIN set is: {:.3f}\".format(f1_score(y_train_up, y_train_pred, pos_label=\"Diseased\")))\n",
    "print(\"The f1 score in the TEST  set is: {:.3f}\".format(f1_score(y_test, y_test_pred, pos_label=\"Diseased\")))"
   ]
  },
  {
   "cell_type": "markdown",
   "id": "cc6567e4",
   "metadata": {},
   "source": [
    "### Naive bayes ###"
   ]
  },
  {
   "cell_type": "code",
   "execution_count": null,
   "id": "54ce0920",
   "metadata": {},
   "outputs": [],
   "source": [
    "NB = GaussianNB()\n",
    "clf_nb = BaggingClassifier(base_estimator=NB, random_state=50)\n",
    "scorer = make_scorer(f1_score, pos_label = \"Diseased\")\n",
    "\n",
    "n_estimators = [5,10, 15]\n",
    "\n",
    "grid_nb = {'n_estimators': n_estimators}"
   ]
  },
  {
   "cell_type": "code",
   "execution_count": null,
   "id": "a856f738",
   "metadata": {},
   "outputs": [],
   "source": [
    "grid_search = GridSearchCV(estimator = clf_nb, \n",
    "                           scoring = scorer, \n",
    "                           param_grid = grid_nb, \n",
    "                           cv = 5, \n",
    "                           verbose = 2)"
   ]
  },
  {
   "cell_type": "code",
   "execution_count": null,
   "id": "4c79fdcf",
   "metadata": {},
   "outputs": [],
   "source": [
    "nb_grid = grid_search.fit(X_train_scaled_sm, y_train_sm)"
   ]
  },
  {
   "cell_type": "code",
   "execution_count": null,
   "id": "25b171db",
   "metadata": {},
   "outputs": [],
   "source": [
    "print('Best parameters:', nb_grid.best_params_)"
   ]
  },
  {
   "cell_type": "markdown",
   "id": "8f9f49f7",
   "metadata": {},
   "source": [
    "**Naive bayes with bagging (SMOTE)**"
   ]
  },
  {
   "cell_type": "code",
   "execution_count": null,
   "id": "9553ab3e",
   "metadata": {},
   "outputs": [],
   "source": [
    "NB = GaussianNB()\n",
    "clf_nb = BaggingClassifier(base_estimator=NB, random_state=50, n_estimators =15)\n",
    "clf_nb.fit(X_train_scaled_sm, y_train_sm)"
   ]
  },
  {
   "cell_type": "code",
   "execution_count": null,
   "id": "53f7f8e9",
   "metadata": {},
   "outputs": [],
   "source": [
    "y_train_pred = clf_nb.predict(X_train_scaled_sm)\n",
    "y_test_pred  = clf_nb.predict(X_test_scaled)"
   ]
  },
  {
   "cell_type": "code",
   "execution_count": null,
   "id": "73c6bcf8",
   "metadata": {},
   "outputs": [],
   "source": [
    "cm_train = confusion_matrix(y_train_sm, y_train_pred)\n",
    "disp = ConfusionMatrixDisplay(cm_train,display_labels=clf_nb.classes_);\n",
    "disp.plot()\n",
    "fig = disp.ax_.get_figure() \n",
    "fig.set_figwidth(3)\n",
    "fig.set_figheight(3)"
   ]
  },
  {
   "cell_type": "code",
   "execution_count": null,
   "id": "3915c150",
   "metadata": {},
   "outputs": [],
   "source": [
    "cm_test = confusion_matrix(y_test, y_test_pred)\n",
    "disp = ConfusionMatrixDisplay(cm_test,display_labels=clf_nb.classes_);\n",
    "disp.plot()\n",
    "fig = disp.ax_.get_figure() \n",
    "fig.set_figwidth(3)\n",
    "fig.set_figheight(3)"
   ]
  },
  {
   "cell_type": "code",
   "execution_count": null,
   "id": "6c03c846",
   "metadata": {},
   "outputs": [],
   "source": [
    "print(\"The f1 score in the TRAIN set is: {:.3f}\".format(f1_score(y_train_sm, y_train_pred, pos_label=\"Diseased\")))\n",
    "print(\"The f1 score in the TEST  set is: {:.3f}\".format(f1_score(y_test, y_test_pred, pos_label=\"Diseased\")))"
   ]
  },
  {
   "cell_type": "markdown",
   "id": "33719301",
   "metadata": {},
   "source": [
    "**KNN with bagging (Upscaling)**"
   ]
  },
  {
   "cell_type": "code",
   "execution_count": null,
   "id": "1414a7ae",
   "metadata": {},
   "outputs": [],
   "source": [
    "NB = GaussianNB()\n",
    "clf_nb = BaggingClassifier(base_estimator=NB, random_state=50, n_estimators =15)\n",
    "clf_nb.fit(X_train_scaled_up, y_train_up)"
   ]
  },
  {
   "cell_type": "code",
   "execution_count": null,
   "id": "c5dcc3ac",
   "metadata": {},
   "outputs": [],
   "source": [
    "y_train_pred = clf_nb.predict(X_train_scaled_up)\n",
    "y_test_pred  = clf_nb.predict(X_test_scaled)"
   ]
  },
  {
   "cell_type": "code",
   "execution_count": null,
   "id": "853e5c57",
   "metadata": {},
   "outputs": [],
   "source": [
    "cm_train = confusion_matrix(y_train_up, y_train_pred)\n",
    "disp = ConfusionMatrixDisplay(cm_train,display_labels=clf_nb.classes_);\n",
    "disp.plot()\n",
    "fig = disp.ax_.get_figure() \n",
    "fig.set_figwidth(3)\n",
    "fig.set_figheight(3)"
   ]
  },
  {
   "cell_type": "code",
   "execution_count": null,
   "id": "a977bbef",
   "metadata": {},
   "outputs": [],
   "source": [
    "cm_test = confusion_matrix(y_test, y_test_pred)\n",
    "disp = ConfusionMatrixDisplay(cm_test,display_labels=clf_nb.classes_);\n",
    "disp.plot()\n",
    "fig = disp.ax_.get_figure() \n",
    "fig.set_figwidth(3)\n",
    "fig.set_figheight(3)"
   ]
  },
  {
   "cell_type": "code",
   "execution_count": null,
   "id": "eff2cf72",
   "metadata": {},
   "outputs": [],
   "source": [
    "print(\"The f1 score in the TRAIN set is: {:.3f}\".format(f1_score(y_train_up, y_train_pred, pos_label=\"Diseased\")))\n",
    "print(\"The f1 score in the TEST  set is: {:.3f}\".format(f1_score(y_test, y_test_pred, pos_label=\"Diseased\")))"
   ]
  },
  {
   "cell_type": "markdown",
   "id": "ca0ef8fa",
   "metadata": {},
   "source": [
    "### Random Forest ###"
   ]
  },
  {
   "cell_type": "code",
   "execution_count": null,
   "id": "6891c2cb",
   "metadata": {},
   "outputs": [],
   "source": [
    "scorer = make_scorer(f1_score, pos_label = \"Diseased\")\n",
    "\n",
    "n_estimators = [50,100, 150]\n",
    "max_depth_choices= [3,5,10,15]\n",
    "criterion_choices =  [\"gini\", \"entropy\"] \n",
    "min_samples_split_choices = [2,3,5] \n",
    "min_samples_leaf_choices = [1,2,3] \n",
    "max_features_choices = [\"sqrt\", \"log2\"]\n",
    "\n",
    "grid = {'n_estimators': n_estimators,\n",
    "        'max_depth': max_depth_choices,\n",
    "        'criterion': criterion_choices,\n",
    "        'min_samples_split': min_samples_split_choices, \n",
    "        'min_samples_leaf': min_samples_leaf_choices,\n",
    "        'max_features': max_features_choices}"
   ]
  },
  {
   "cell_type": "code",
   "execution_count": null,
   "id": "5c8aeaf6",
   "metadata": {},
   "outputs": [],
   "source": [
    "rf_clf = RandomForestClassifier()\n",
    "grid_search = GridSearchCV(estimator = rf_clf, \n",
    "                           scoring = scorer, \n",
    "                           param_grid = grid, \n",
    "                           cv = 5, \n",
    "                           verbose = 2)"
   ]
  },
  {
   "cell_type": "code",
   "execution_count": null,
   "id": "ab4f724b",
   "metadata": {},
   "outputs": [],
   "source": [
    "rf_grid = grid_search.fit(X_train_scaled_sm, y_train_sm)"
   ]
  },
  {
   "cell_type": "code",
   "execution_count": null,
   "id": "15e323f4",
   "metadata": {},
   "outputs": [],
   "source": [
    "print('Best parameters:', rf_grid.best_params_)"
   ]
  },
  {
   "cell_type": "markdown",
   "id": "3325b655",
   "metadata": {},
   "source": [
    "**Random Forest (SMOTE)**"
   ]
  },
  {
   "cell_type": "code",
   "execution_count": null,
   "id": "02a9ff51",
   "metadata": {},
   "outputs": [],
   "source": [
    "rf_clf = RandomForestClassifier(criterion = \"entropy\", max_depth = 10, max_features = \"log2\")"
   ]
  },
  {
   "cell_type": "code",
   "execution_count": null,
   "id": "eb97b4b6",
   "metadata": {},
   "outputs": [],
   "source": [
    "rf_clf.fit(X_train_scaled_sm, y_train_sm)"
   ]
  },
  {
   "cell_type": "code",
   "execution_count": null,
   "id": "d3520532",
   "metadata": {},
   "outputs": [],
   "source": [
    "y_train_pred = rf_clf.predict(X_train_scaled_sm)\n",
    "y_test_pred  = rf_clf.predict(X_test_scaled)"
   ]
  },
  {
   "cell_type": "code",
   "execution_count": null,
   "id": "a8f13af5",
   "metadata": {},
   "outputs": [],
   "source": [
    "filename = \"./models/rf_clf\" +\".pickle\"\n",
    "with open(filename, \"wb\") as file:\n",
    "    pickle.dump(rf_clf,file)"
   ]
  },
  {
   "cell_type": "code",
   "execution_count": null,
   "id": "cc88c804",
   "metadata": {},
   "outputs": [],
   "source": [
    "cm_train = confusion_matrix(y_train_sm, y_train_pred)\n",
    "disp = ConfusionMatrixDisplay(cm_train,display_labels=rf_clf.classes_);\n",
    "disp.plot()\n",
    "fig = disp.ax_.get_figure() \n",
    "fig.set_figwidth(3)\n",
    "fig.set_figheight(3)"
   ]
  },
  {
   "cell_type": "code",
   "execution_count": null,
   "id": "b1cc0fb7",
   "metadata": {},
   "outputs": [],
   "source": [
    "cm_test = confusion_matrix(y_test, y_test_pred)\n",
    "disp = ConfusionMatrixDisplay(cm_test,display_labels=rf_clf.classes_);\n",
    "disp.plot()\n",
    "fig = disp.ax_.get_figure() \n",
    "fig.set_figwidth(3)\n",
    "fig.set_figheight(3)"
   ]
  },
  {
   "cell_type": "code",
   "execution_count": null,
   "id": "07f40feb",
   "metadata": {},
   "outputs": [],
   "source": [
    "print(\"The f1 score in the TRAIN set is: {:.3f}\".format(f1_score(y_train_sm, y_train_pred, pos_label=\"Diseased\")))\n",
    "print(\"The f1 score in the TEST  set is: {:.3f}\".format(f1_score(y_test, y_test_pred, pos_label=\"Diseased\")))"
   ]
  },
  {
   "cell_type": "markdown",
   "id": "85fc5800",
   "metadata": {},
   "source": [
    "**Random Forest (Upsampling)**"
   ]
  },
  {
   "cell_type": "code",
   "execution_count": null,
   "id": "1e4b9cb7",
   "metadata": {},
   "outputs": [],
   "source": [
    "rf_clf = RandomForestClassifier(criterion = \"entropy\", max_depth = 10, max_features = \"log2\")"
   ]
  },
  {
   "cell_type": "code",
   "execution_count": null,
   "id": "d675c993",
   "metadata": {},
   "outputs": [],
   "source": [
    "rf_clf.fit(X_train_scaled_up, y_train_up)"
   ]
  },
  {
   "cell_type": "code",
   "execution_count": null,
   "id": "2a3b6b94",
   "metadata": {},
   "outputs": [],
   "source": [
    "y_train_pred = rf_clf.predict(X_train_scaled_up)\n",
    "y_test_pred  = rf_clf.predict(X_test_scaled)"
   ]
  },
  {
   "cell_type": "code",
   "execution_count": null,
   "id": "9bee1049",
   "metadata": {},
   "outputs": [],
   "source": [
    "cm_train = confusion_matrix(y_train_up, y_train_pred)\n",
    "disp = ConfusionMatrixDisplay(cm_train,display_labels=rf_clf.classes_);\n",
    "disp.plot()\n",
    "fig = disp.ax_.get_figure() \n",
    "fig.set_figwidth(3)\n",
    "fig.set_figheight(3)"
   ]
  },
  {
   "cell_type": "code",
   "execution_count": null,
   "id": "9b3406cb",
   "metadata": {},
   "outputs": [],
   "source": [
    "cm_test = confusion_matrix(y_test, y_test_pred)\n",
    "disp = ConfusionMatrixDisplay(cm_test,display_labels=rf_clf.classes_);\n",
    "disp.plot()\n",
    "fig = disp.ax_.get_figure() \n",
    "fig.set_figwidth(3)\n",
    "fig.set_figheight(3)"
   ]
  },
  {
   "cell_type": "code",
   "execution_count": null,
   "id": "95cdaa45",
   "metadata": {},
   "outputs": [],
   "source": [
    "print(\"The f1 score in the TRAIN set is: {:.3f}\".format(f1_score(y_train_up, y_train_pred, pos_label=\"Diseased\")))\n",
    "print(\"The f1 score in the TEST  set is: {:.3f}\".format(f1_score(y_test, y_test_pred, pos_label=\"Diseased\")))"
   ]
  },
  {
   "cell_type": "markdown",
   "id": "c6f29c41",
   "metadata": {},
   "source": [
    "### Final functions ### "
   ]
  },
  {
   "cell_type": "code",
   "execution_count": null,
   "id": "943cdff8",
   "metadata": {},
   "outputs": [],
   "source": [
    "def pre_processing(df):\n",
    "    df = df.copy()\n",
    "    df[\"sex\"] = df[\"sex\"].replace({\"F\":1, \"M\":0})\n",
    "    cols = [\"on_thyroxine\", \"on_antithyroid_medication\", \"pregnant\", \"goitre\"]\n",
    "    for col in cols:\n",
    "        df[col] = df[col].replace({\"t\":1, \"f\":0})\n",
    "    scaler = load(\"./transformer/mimaxscaler.pickle\")\n",
    "    df = scaler.transform(df)\n",
    "    return df "
   ]
  },
  {
   "cell_type": "code",
   "execution_count": null,
   "id": "602b3ed1",
   "metadata": {},
   "outputs": [],
   "source": [
    "def pre_processing_inputs(df):\n",
    "    df = df.copy()\n",
    "    df[\"sex\"] = df[\"sex\"].replace({\"f\":1, \"m\":0})\n",
    "    cols = [\"on_thyroxine\", \"on_antithyroid_medication\", \"pregnant\", \"goitre\"]\n",
    "    for col in cols:\n",
    "        df[col] = df[col].replace({\"y\":1, \"n\":0})\n",
    "    scaler = load(\"./transformer/mimaxscaler.pickle\")\n",
    "    df = scaler.transform(df)\n",
    "    return df "
   ]
  },
  {
   "cell_type": "code",
   "execution_count": null,
   "id": "c2cad442",
   "metadata": {},
   "outputs": [],
   "source": [
    "def random_forest(df):\n",
    "    df = df.copy()\n",
    "    rf_clf = load(\"./models/rf_clf.pickle\")\n",
    "    pred = rf_clf.predict(df)\n",
    "    return df"
   ]
  },
  {
   "cell_type": "code",
   "execution_count": null,
   "id": "8376ae18",
   "metadata": {},
   "outputs": [],
   "source": []
  }
 ],
 "metadata": {
  "kernelspec": {
   "display_name": "Python 3 (ipykernel)",
   "language": "python",
   "name": "python3"
  },
  "language_info": {
   "codemirror_mode": {
    "name": "ipython",
    "version": 3
   },
   "file_extension": ".py",
   "mimetype": "text/x-python",
   "name": "python",
   "nbconvert_exporter": "python",
   "pygments_lexer": "ipython3",
   "version": "3.10.4"
  }
 },
 "nbformat": 4,
 "nbformat_minor": 5
}
