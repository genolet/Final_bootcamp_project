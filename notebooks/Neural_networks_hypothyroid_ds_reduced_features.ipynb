{
 "cells": [
  {
   "cell_type": "code",
   "execution_count": 48,
   "id": "u1-rfgELBgXA",
   "metadata": {
    "executionInfo": {
     "elapsed": 260,
     "status": "ok",
     "timestamp": 1663065172015,
     "user": {
      "displayName": "Oriana Genolet",
      "userId": "17408790309131985000"
     },
     "user_tz": -120
    },
    "id": "u1-rfgELBgXA"
   },
   "outputs": [],
   "source": [
    "import pandas as pd\n",
    "import numpy as np\n",
    "import seaborn as sns\n",
    "import matplotlib.pyplot as plt\n",
    "from sklearn.model_selection import train_test_split\n",
    "from sklearn.preprocessing import MinMaxScaler\n",
    "from imblearn.over_sampling import SMOTE\n",
    "import tensorflow as tf \n",
    "from tensorflow import keras \n",
    "from tensorflow.keras.layers import Flatten, Dense, Dropout \n",
    "from tensorflow.keras.callbacks import EarlyStopping \n",
    "from tensorflow.keras.callbacks import ModelCheckpoint\n",
    "from tensorflow.keras.models import Sequential\n",
    "from tensorflow.keras.optimizers import Adam\n",
    "from tensorflow.keras.callbacks import ReduceLROnPlateau \n",
    "from tensorflow.keras import regularizers\n",
    "from sklearn.metrics import confusion_matrix, accuracy_score, precision_score, recall_score, ConfusionMatrixDisplay"
   ]
  },
  {
   "cell_type": "code",
   "execution_count": 4,
   "id": "GXNZaZFDBmUu",
   "metadata": {
    "colab": {
     "base_uri": "https://localhost:8080/"
    },
    "executionInfo": {
     "elapsed": 1906,
     "status": "ok",
     "timestamp": 1663064890341,
     "user": {
      "displayName": "Oriana Genolet",
      "userId": "17408790309131985000"
     },
     "user_tz": -120
    },
    "id": "GXNZaZFDBmUu",
    "outputId": "04f16922-9fe2-4b2d-9f94-473a96baacbc"
   },
   "outputs": [
    {
     "name": "stdout",
     "output_type": "stream",
     "text": [
      "Drive already mounted at /content/drive; to attempt to forcibly remount, call drive.mount(\"/content/drive\", force_remount=True).\n"
     ]
    }
   ],
   "source": [
    "from google.colab import drive\n",
    "drive.mount(\"/content/drive\")"
   ]
  },
  {
   "cell_type": "code",
   "execution_count": 5,
   "id": "7c0ec25e",
   "metadata": {
    "colab": {
     "base_uri": "https://localhost:8080/",
     "height": 224
    },
    "executionInfo": {
     "elapsed": 31,
     "status": "ok",
     "timestamp": 1663064890341,
     "user": {
      "displayName": "Oriana Genolet",
      "userId": "17408790309131985000"
     },
     "user_tz": -120
    },
    "id": "7c0ec25e",
    "outputId": "584d792a-3b15-408e-95b3-4ba49eb8fb5f"
   },
   "outputs": [
    {
     "data": {
      "text/html": [
       "\n",
       "  <div id=\"df-fbe2784d-b16f-4392-8bdd-f27527a8193f\">\n",
       "    <div class=\"colab-df-container\">\n",
       "      <div>\n",
       "<style scoped>\n",
       "    .dataframe tbody tr th:only-of-type {\n",
       "        vertical-align: middle;\n",
       "    }\n",
       "\n",
       "    .dataframe tbody tr th {\n",
       "        vertical-align: top;\n",
       "    }\n",
       "\n",
       "    .dataframe thead th {\n",
       "        text-align: right;\n",
       "    }\n",
       "</style>\n",
       "<table border=\"1\" class=\"dataframe\">\n",
       "  <thead>\n",
       "    <tr style=\"text-align: right;\">\n",
       "      <th></th>\n",
       "      <th>sex</th>\n",
       "      <th>on_thyroxine</th>\n",
       "      <th>on_antithyroid_medication</th>\n",
       "      <th>pregnant</th>\n",
       "      <th>goitre</th>\n",
       "      <th>tsh</th>\n",
       "      <th>t3</th>\n",
       "      <th>fti</th>\n",
       "      <th>binaryclass</th>\n",
       "    </tr>\n",
       "  </thead>\n",
       "  <tbody>\n",
       "    <tr>\n",
       "      <th>0</th>\n",
       "      <td>1</td>\n",
       "      <td>0</td>\n",
       "      <td>0</td>\n",
       "      <td>0</td>\n",
       "      <td>0</td>\n",
       "      <td>1.30</td>\n",
       "      <td>2.5</td>\n",
       "      <td>109.0</td>\n",
       "      <td>Healthy</td>\n",
       "    </tr>\n",
       "    <tr>\n",
       "      <th>1</th>\n",
       "      <td>1</td>\n",
       "      <td>0</td>\n",
       "      <td>0</td>\n",
       "      <td>0</td>\n",
       "      <td>0</td>\n",
       "      <td>4.10</td>\n",
       "      <td>2.0</td>\n",
       "      <td>107.0</td>\n",
       "      <td>Healthy</td>\n",
       "    </tr>\n",
       "    <tr>\n",
       "      <th>2</th>\n",
       "      <td>0</td>\n",
       "      <td>0</td>\n",
       "      <td>0</td>\n",
       "      <td>0</td>\n",
       "      <td>0</td>\n",
       "      <td>0.98</td>\n",
       "      <td>2.0</td>\n",
       "      <td>120.0</td>\n",
       "      <td>Healthy</td>\n",
       "    </tr>\n",
       "    <tr>\n",
       "      <th>3</th>\n",
       "      <td>1</td>\n",
       "      <td>1</td>\n",
       "      <td>0</td>\n",
       "      <td>0</td>\n",
       "      <td>0</td>\n",
       "      <td>0.16</td>\n",
       "      <td>1.9</td>\n",
       "      <td>107.0</td>\n",
       "      <td>Healthy</td>\n",
       "    </tr>\n",
       "    <tr>\n",
       "      <th>4</th>\n",
       "      <td>1</td>\n",
       "      <td>0</td>\n",
       "      <td>0</td>\n",
       "      <td>0</td>\n",
       "      <td>0</td>\n",
       "      <td>0.72</td>\n",
       "      <td>1.2</td>\n",
       "      <td>70.0</td>\n",
       "      <td>Healthy</td>\n",
       "    </tr>\n",
       "  </tbody>\n",
       "</table>\n",
       "</div>\n",
       "      <button class=\"colab-df-convert\" onclick=\"convertToInteractive('df-fbe2784d-b16f-4392-8bdd-f27527a8193f')\"\n",
       "              title=\"Convert this dataframe to an interactive table.\"\n",
       "              style=\"display:none;\">\n",
       "        \n",
       "  <svg xmlns=\"http://www.w3.org/2000/svg\" height=\"24px\"viewBox=\"0 0 24 24\"\n",
       "       width=\"24px\">\n",
       "    <path d=\"M0 0h24v24H0V0z\" fill=\"none\"/>\n",
       "    <path d=\"M18.56 5.44l.94 2.06.94-2.06 2.06-.94-2.06-.94-.94-2.06-.94 2.06-2.06.94zm-11 1L8.5 8.5l.94-2.06 2.06-.94-2.06-.94L8.5 2.5l-.94 2.06-2.06.94zm10 10l.94 2.06.94-2.06 2.06-.94-2.06-.94-.94-2.06-.94 2.06-2.06.94z\"/><path d=\"M17.41 7.96l-1.37-1.37c-.4-.4-.92-.59-1.43-.59-.52 0-1.04.2-1.43.59L10.3 9.45l-7.72 7.72c-.78.78-.78 2.05 0 2.83L4 21.41c.39.39.9.59 1.41.59.51 0 1.02-.2 1.41-.59l7.78-7.78 2.81-2.81c.8-.78.8-2.07 0-2.86zM5.41 20L4 18.59l7.72-7.72 1.47 1.35L5.41 20z\"/>\n",
       "  </svg>\n",
       "      </button>\n",
       "      \n",
       "  <style>\n",
       "    .colab-df-container {\n",
       "      display:flex;\n",
       "      flex-wrap:wrap;\n",
       "      gap: 12px;\n",
       "    }\n",
       "\n",
       "    .colab-df-convert {\n",
       "      background-color: #E8F0FE;\n",
       "      border: none;\n",
       "      border-radius: 50%;\n",
       "      cursor: pointer;\n",
       "      display: none;\n",
       "      fill: #1967D2;\n",
       "      height: 32px;\n",
       "      padding: 0 0 0 0;\n",
       "      width: 32px;\n",
       "    }\n",
       "\n",
       "    .colab-df-convert:hover {\n",
       "      background-color: #E2EBFA;\n",
       "      box-shadow: 0px 1px 2px rgba(60, 64, 67, 0.3), 0px 1px 3px 1px rgba(60, 64, 67, 0.15);\n",
       "      fill: #174EA6;\n",
       "    }\n",
       "\n",
       "    [theme=dark] .colab-df-convert {\n",
       "      background-color: #3B4455;\n",
       "      fill: #D2E3FC;\n",
       "    }\n",
       "\n",
       "    [theme=dark] .colab-df-convert:hover {\n",
       "      background-color: #434B5C;\n",
       "      box-shadow: 0px 1px 3px 1px rgba(0, 0, 0, 0.15);\n",
       "      filter: drop-shadow(0px 1px 2px rgba(0, 0, 0, 0.3));\n",
       "      fill: #FFFFFF;\n",
       "    }\n",
       "  </style>\n",
       "\n",
       "      <script>\n",
       "        const buttonEl =\n",
       "          document.querySelector('#df-fbe2784d-b16f-4392-8bdd-f27527a8193f button.colab-df-convert');\n",
       "        buttonEl.style.display =\n",
       "          google.colab.kernel.accessAllowed ? 'block' : 'none';\n",
       "\n",
       "        async function convertToInteractive(key) {\n",
       "          const element = document.querySelector('#df-fbe2784d-b16f-4392-8bdd-f27527a8193f');\n",
       "          const dataTable =\n",
       "            await google.colab.kernel.invokeFunction('convertToInteractive',\n",
       "                                                     [key], {});\n",
       "          if (!dataTable) return;\n",
       "\n",
       "          const docLinkHtml = 'Like what you see? Visit the ' +\n",
       "            '<a target=\"_blank\" href=https://colab.research.google.com/notebooks/data_table.ipynb>data table notebook</a>'\n",
       "            + ' to learn more about interactive tables.';\n",
       "          element.innerHTML = '';\n",
       "          dataTable['output_type'] = 'display_data';\n",
       "          await google.colab.output.renderOutput(dataTable, element);\n",
       "          const docLink = document.createElement('div');\n",
       "          docLink.innerHTML = docLinkHtml;\n",
       "          element.appendChild(docLink);\n",
       "        }\n",
       "      </script>\n",
       "    </div>\n",
       "  </div>\n",
       "  "
      ],
      "text/plain": [
       "   sex  on_thyroxine  on_antithyroid_medication  pregnant  goitre   tsh   t3  \\\n",
       "0    1             0                          0         0       0  1.30  2.5   \n",
       "1    1             0                          0         0       0  4.10  2.0   \n",
       "2    0             0                          0         0       0  0.98  2.0   \n",
       "3    1             1                          0         0       0  0.16  1.9   \n",
       "4    1             0                          0         0       0  0.72  1.2   \n",
       "\n",
       "     fti binaryclass  \n",
       "0  109.0     Healthy  \n",
       "1  107.0     Healthy  \n",
       "2  120.0     Healthy  \n",
       "3  107.0     Healthy  \n",
       "4   70.0     Healthy  "
      ]
     },
     "metadata": {},
     "output_type": "display_data"
    },
    {
     "name": "stdout",
     "output_type": "stream",
     "text": [
      "(3709, 9)\n"
     ]
    }
   ],
   "source": [
    "data = pd.read_csv('/content/drive/MyDrive/Ironhack/Neural networks/hypothyroid_clean.csv')\n",
    "display(data.head())\n",
    "print(data.shape)"
   ]
  },
  {
   "cell_type": "markdown",
   "id": "1eb6204e",
   "metadata": {
    "id": "1eb6204e"
   },
   "source": [
    "### Enconding features ### "
   ]
  },
  {
   "cell_type": "code",
   "execution_count": 6,
   "id": "7a3d4c0f",
   "metadata": {
    "executionInfo": {
     "elapsed": 26,
     "status": "ok",
     "timestamp": 1663064890342,
     "user": {
      "displayName": "Oriana Genolet",
      "userId": "17408790309131985000"
     },
     "user_tz": -120
    },
    "id": "7a3d4c0f"
   },
   "outputs": [],
   "source": [
    "### Sex column\n",
    "\n",
    "data[\"sex\"] = data[\"sex\"].replace({\"F\":1, \"M\":0})"
   ]
  },
  {
   "cell_type": "code",
   "execution_count": 7,
   "id": "a7c43776",
   "metadata": {
    "executionInfo": {
     "elapsed": 26,
     "status": "ok",
     "timestamp": 1663064890342,
     "user": {
      "displayName": "Oriana Genolet",
      "userId": "17408790309131985000"
     },
     "user_tz": -120
    },
    "id": "a7c43776"
   },
   "outputs": [],
   "source": [
    "### Other categoricals with f, t\n",
    "\n",
    "cols = [\"on_thyroxine\", \"on_antithyroid_medication\", \"pregnant\", \"goitre\"]\n",
    "for col in cols:\n",
    "    data[col] = data[col].replace({\"t\":1, \"f\":0})"
   ]
  },
  {
   "cell_type": "code",
   "execution_count": 8,
   "id": "50a8d808",
   "metadata": {
    "colab": {
     "base_uri": "https://localhost:8080/",
     "height": 206
    },
    "executionInfo": {
     "elapsed": 26,
     "status": "ok",
     "timestamp": 1663064890342,
     "user": {
      "displayName": "Oriana Genolet",
      "userId": "17408790309131985000"
     },
     "user_tz": -120
    },
    "id": "50a8d808",
    "outputId": "4aa12aea-6d55-44c9-99a9-30582e27e107"
   },
   "outputs": [
    {
     "data": {
      "text/html": [
       "\n",
       "  <div id=\"df-dde0fe3f-bbfc-43bc-89ea-289f02935232\">\n",
       "    <div class=\"colab-df-container\">\n",
       "      <div>\n",
       "<style scoped>\n",
       "    .dataframe tbody tr th:only-of-type {\n",
       "        vertical-align: middle;\n",
       "    }\n",
       "\n",
       "    .dataframe tbody tr th {\n",
       "        vertical-align: top;\n",
       "    }\n",
       "\n",
       "    .dataframe thead th {\n",
       "        text-align: right;\n",
       "    }\n",
       "</style>\n",
       "<table border=\"1\" class=\"dataframe\">\n",
       "  <thead>\n",
       "    <tr style=\"text-align: right;\">\n",
       "      <th></th>\n",
       "      <th>sex</th>\n",
       "      <th>on_thyroxine</th>\n",
       "      <th>on_antithyroid_medication</th>\n",
       "      <th>pregnant</th>\n",
       "      <th>goitre</th>\n",
       "      <th>tsh</th>\n",
       "      <th>t3</th>\n",
       "      <th>fti</th>\n",
       "      <th>binaryclass</th>\n",
       "    </tr>\n",
       "  </thead>\n",
       "  <tbody>\n",
       "    <tr>\n",
       "      <th>0</th>\n",
       "      <td>1</td>\n",
       "      <td>0</td>\n",
       "      <td>0</td>\n",
       "      <td>0</td>\n",
       "      <td>0</td>\n",
       "      <td>1.30</td>\n",
       "      <td>2.5</td>\n",
       "      <td>109.0</td>\n",
       "      <td>Healthy</td>\n",
       "    </tr>\n",
       "    <tr>\n",
       "      <th>1</th>\n",
       "      <td>1</td>\n",
       "      <td>0</td>\n",
       "      <td>0</td>\n",
       "      <td>0</td>\n",
       "      <td>0</td>\n",
       "      <td>4.10</td>\n",
       "      <td>2.0</td>\n",
       "      <td>107.0</td>\n",
       "      <td>Healthy</td>\n",
       "    </tr>\n",
       "    <tr>\n",
       "      <th>2</th>\n",
       "      <td>0</td>\n",
       "      <td>0</td>\n",
       "      <td>0</td>\n",
       "      <td>0</td>\n",
       "      <td>0</td>\n",
       "      <td>0.98</td>\n",
       "      <td>2.0</td>\n",
       "      <td>120.0</td>\n",
       "      <td>Healthy</td>\n",
       "    </tr>\n",
       "    <tr>\n",
       "      <th>3</th>\n",
       "      <td>1</td>\n",
       "      <td>1</td>\n",
       "      <td>0</td>\n",
       "      <td>0</td>\n",
       "      <td>0</td>\n",
       "      <td>0.16</td>\n",
       "      <td>1.9</td>\n",
       "      <td>107.0</td>\n",
       "      <td>Healthy</td>\n",
       "    </tr>\n",
       "    <tr>\n",
       "      <th>4</th>\n",
       "      <td>1</td>\n",
       "      <td>0</td>\n",
       "      <td>0</td>\n",
       "      <td>0</td>\n",
       "      <td>0</td>\n",
       "      <td>0.72</td>\n",
       "      <td>1.2</td>\n",
       "      <td>70.0</td>\n",
       "      <td>Healthy</td>\n",
       "    </tr>\n",
       "  </tbody>\n",
       "</table>\n",
       "</div>\n",
       "      <button class=\"colab-df-convert\" onclick=\"convertToInteractive('df-dde0fe3f-bbfc-43bc-89ea-289f02935232')\"\n",
       "              title=\"Convert this dataframe to an interactive table.\"\n",
       "              style=\"display:none;\">\n",
       "        \n",
       "  <svg xmlns=\"http://www.w3.org/2000/svg\" height=\"24px\"viewBox=\"0 0 24 24\"\n",
       "       width=\"24px\">\n",
       "    <path d=\"M0 0h24v24H0V0z\" fill=\"none\"/>\n",
       "    <path d=\"M18.56 5.44l.94 2.06.94-2.06 2.06-.94-2.06-.94-.94-2.06-.94 2.06-2.06.94zm-11 1L8.5 8.5l.94-2.06 2.06-.94-2.06-.94L8.5 2.5l-.94 2.06-2.06.94zm10 10l.94 2.06.94-2.06 2.06-.94-2.06-.94-.94-2.06-.94 2.06-2.06.94z\"/><path d=\"M17.41 7.96l-1.37-1.37c-.4-.4-.92-.59-1.43-.59-.52 0-1.04.2-1.43.59L10.3 9.45l-7.72 7.72c-.78.78-.78 2.05 0 2.83L4 21.41c.39.39.9.59 1.41.59.51 0 1.02-.2 1.41-.59l7.78-7.78 2.81-2.81c.8-.78.8-2.07 0-2.86zM5.41 20L4 18.59l7.72-7.72 1.47 1.35L5.41 20z\"/>\n",
       "  </svg>\n",
       "      </button>\n",
       "      \n",
       "  <style>\n",
       "    .colab-df-container {\n",
       "      display:flex;\n",
       "      flex-wrap:wrap;\n",
       "      gap: 12px;\n",
       "    }\n",
       "\n",
       "    .colab-df-convert {\n",
       "      background-color: #E8F0FE;\n",
       "      border: none;\n",
       "      border-radius: 50%;\n",
       "      cursor: pointer;\n",
       "      display: none;\n",
       "      fill: #1967D2;\n",
       "      height: 32px;\n",
       "      padding: 0 0 0 0;\n",
       "      width: 32px;\n",
       "    }\n",
       "\n",
       "    .colab-df-convert:hover {\n",
       "      background-color: #E2EBFA;\n",
       "      box-shadow: 0px 1px 2px rgba(60, 64, 67, 0.3), 0px 1px 3px 1px rgba(60, 64, 67, 0.15);\n",
       "      fill: #174EA6;\n",
       "    }\n",
       "\n",
       "    [theme=dark] .colab-df-convert {\n",
       "      background-color: #3B4455;\n",
       "      fill: #D2E3FC;\n",
       "    }\n",
       "\n",
       "    [theme=dark] .colab-df-convert:hover {\n",
       "      background-color: #434B5C;\n",
       "      box-shadow: 0px 1px 3px 1px rgba(0, 0, 0, 0.15);\n",
       "      filter: drop-shadow(0px 1px 2px rgba(0, 0, 0, 0.3));\n",
       "      fill: #FFFFFF;\n",
       "    }\n",
       "  </style>\n",
       "\n",
       "      <script>\n",
       "        const buttonEl =\n",
       "          document.querySelector('#df-dde0fe3f-bbfc-43bc-89ea-289f02935232 button.colab-df-convert');\n",
       "        buttonEl.style.display =\n",
       "          google.colab.kernel.accessAllowed ? 'block' : 'none';\n",
       "\n",
       "        async function convertToInteractive(key) {\n",
       "          const element = document.querySelector('#df-dde0fe3f-bbfc-43bc-89ea-289f02935232');\n",
       "          const dataTable =\n",
       "            await google.colab.kernel.invokeFunction('convertToInteractive',\n",
       "                                                     [key], {});\n",
       "          if (!dataTable) return;\n",
       "\n",
       "          const docLinkHtml = 'Like what you see? Visit the ' +\n",
       "            '<a target=\"_blank\" href=https://colab.research.google.com/notebooks/data_table.ipynb>data table notebook</a>'\n",
       "            + ' to learn more about interactive tables.';\n",
       "          element.innerHTML = '';\n",
       "          dataTable['output_type'] = 'display_data';\n",
       "          await google.colab.output.renderOutput(dataTable, element);\n",
       "          const docLink = document.createElement('div');\n",
       "          docLink.innerHTML = docLinkHtml;\n",
       "          element.appendChild(docLink);\n",
       "        }\n",
       "      </script>\n",
       "    </div>\n",
       "  </div>\n",
       "  "
      ],
      "text/plain": [
       "   sex  on_thyroxine  on_antithyroid_medication  pregnant  goitre   tsh   t3  \\\n",
       "0    1             0                          0         0       0  1.30  2.5   \n",
       "1    1             0                          0         0       0  4.10  2.0   \n",
       "2    0             0                          0         0       0  0.98  2.0   \n",
       "3    1             1                          0         0       0  0.16  1.9   \n",
       "4    1             0                          0         0       0  0.72  1.2   \n",
       "\n",
       "     fti binaryclass  \n",
       "0  109.0     Healthy  \n",
       "1  107.0     Healthy  \n",
       "2  120.0     Healthy  \n",
       "3  107.0     Healthy  \n",
       "4   70.0     Healthy  "
      ]
     },
     "execution_count": 8,
     "metadata": {},
     "output_type": "execute_result"
    }
   ],
   "source": [
    "data.head()"
   ]
  },
  {
   "cell_type": "markdown",
   "id": "cd0d33f3",
   "metadata": {
    "id": "cd0d33f3"
   },
   "source": [
    "### X, y split ###"
   ]
  },
  {
   "cell_type": "code",
   "execution_count": 9,
   "id": "084aa420",
   "metadata": {
    "executionInfo": {
     "elapsed": 26,
     "status": "ok",
     "timestamp": 1663064890343,
     "user": {
      "displayName": "Oriana Genolet",
      "userId": "17408790309131985000"
     },
     "user_tz": -120
    },
    "id": "084aa420"
   },
   "outputs": [],
   "source": [
    "X = data.drop(\"binaryclass\", axis = 1)\n",
    "y = data[\"binaryclass\"]"
   ]
  },
  {
   "cell_type": "markdown",
   "id": "e6c2dad1",
   "metadata": {
    "id": "e6c2dad1"
   },
   "source": [
    "### Train test split ### "
   ]
  },
  {
   "cell_type": "code",
   "execution_count": 10,
   "id": "32ac319d",
   "metadata": {
    "colab": {
     "base_uri": "https://localhost:8080/"
    },
    "executionInfo": {
     "elapsed": 27,
     "status": "ok",
     "timestamp": 1663064890344,
     "user": {
      "displayName": "Oriana Genolet",
      "userId": "17408790309131985000"
     },
     "user_tz": -120
    },
    "id": "32ac319d",
    "outputId": "6d8924ea-8f42-4200-fd40-3498113269c3"
   },
   "outputs": [
    {
     "name": "stdout",
     "output_type": "stream",
     "text": [
      "Shape X train: (2967, 8)\n",
      "Shape X test: (742, 8)\n",
      "Shape y train: (2967,)\n",
      "Shape y test: (742,)\n"
     ]
    }
   ],
   "source": [
    "X_train, X_test, y_train, y_test = train_test_split(X, y, test_size=0.2, random_state=42)\n",
    "print('Shape X train:', X_train.shape)\n",
    "print('Shape X test:', X_test.shape)\n",
    "print('Shape y train:', y_train.shape)\n",
    "print('Shape y test:', y_test.shape)"
   ]
  },
  {
   "cell_type": "code",
   "execution_count": 11,
   "id": "e0a628a1",
   "metadata": {
    "colab": {
     "base_uri": "https://localhost:8080/",
     "height": 206
    },
    "executionInfo": {
     "elapsed": 26,
     "status": "ok",
     "timestamp": 1663064890346,
     "user": {
      "displayName": "Oriana Genolet",
      "userId": "17408790309131985000"
     },
     "user_tz": -120
    },
    "id": "e0a628a1",
    "outputId": "fd6ae18e-9931-439c-bf6d-09296c02d7d9"
   },
   "outputs": [
    {
     "data": {
      "text/html": [
       "\n",
       "  <div id=\"df-b3ad4ab3-3a8c-4f62-90a5-6db4781bb072\">\n",
       "    <div class=\"colab-df-container\">\n",
       "      <div>\n",
       "<style scoped>\n",
       "    .dataframe tbody tr th:only-of-type {\n",
       "        vertical-align: middle;\n",
       "    }\n",
       "\n",
       "    .dataframe tbody tr th {\n",
       "        vertical-align: top;\n",
       "    }\n",
       "\n",
       "    .dataframe thead th {\n",
       "        text-align: right;\n",
       "    }\n",
       "</style>\n",
       "<table border=\"1\" class=\"dataframe\">\n",
       "  <thead>\n",
       "    <tr style=\"text-align: right;\">\n",
       "      <th></th>\n",
       "      <th>sex</th>\n",
       "      <th>on_thyroxine</th>\n",
       "      <th>on_antithyroid_medication</th>\n",
       "      <th>pregnant</th>\n",
       "      <th>goitre</th>\n",
       "      <th>tsh</th>\n",
       "      <th>t3</th>\n",
       "      <th>fti</th>\n",
       "    </tr>\n",
       "  </thead>\n",
       "  <tbody>\n",
       "    <tr>\n",
       "      <th>964</th>\n",
       "      <td>1</td>\n",
       "      <td>0</td>\n",
       "      <td>0</td>\n",
       "      <td>0</td>\n",
       "      <td>0</td>\n",
       "      <td>0.20</td>\n",
       "      <td>3.2</td>\n",
       "      <td>107.0</td>\n",
       "    </tr>\n",
       "    <tr>\n",
       "      <th>507</th>\n",
       "      <td>1</td>\n",
       "      <td>1</td>\n",
       "      <td>0</td>\n",
       "      <td>0</td>\n",
       "      <td>0</td>\n",
       "      <td>0.61</td>\n",
       "      <td>1.6</td>\n",
       "      <td>127.0</td>\n",
       "    </tr>\n",
       "    <tr>\n",
       "      <th>7</th>\n",
       "      <td>1</td>\n",
       "      <td>0</td>\n",
       "      <td>0</td>\n",
       "      <td>0</td>\n",
       "      <td>0</td>\n",
       "      <td>2.20</td>\n",
       "      <td>0.6</td>\n",
       "      <td>115.0</td>\n",
       "    </tr>\n",
       "    <tr>\n",
       "      <th>2123</th>\n",
       "      <td>1</td>\n",
       "      <td>0</td>\n",
       "      <td>0</td>\n",
       "      <td>0</td>\n",
       "      <td>0</td>\n",
       "      <td>0.15</td>\n",
       "      <td>2.7</td>\n",
       "      <td>91.0</td>\n",
       "    </tr>\n",
       "    <tr>\n",
       "      <th>2833</th>\n",
       "      <td>0</td>\n",
       "      <td>0</td>\n",
       "      <td>0</td>\n",
       "      <td>0</td>\n",
       "      <td>0</td>\n",
       "      <td>1.10</td>\n",
       "      <td>2.4</td>\n",
       "      <td>109.0</td>\n",
       "    </tr>\n",
       "  </tbody>\n",
       "</table>\n",
       "</div>\n",
       "      <button class=\"colab-df-convert\" onclick=\"convertToInteractive('df-b3ad4ab3-3a8c-4f62-90a5-6db4781bb072')\"\n",
       "              title=\"Convert this dataframe to an interactive table.\"\n",
       "              style=\"display:none;\">\n",
       "        \n",
       "  <svg xmlns=\"http://www.w3.org/2000/svg\" height=\"24px\"viewBox=\"0 0 24 24\"\n",
       "       width=\"24px\">\n",
       "    <path d=\"M0 0h24v24H0V0z\" fill=\"none\"/>\n",
       "    <path d=\"M18.56 5.44l.94 2.06.94-2.06 2.06-.94-2.06-.94-.94-2.06-.94 2.06-2.06.94zm-11 1L8.5 8.5l.94-2.06 2.06-.94-2.06-.94L8.5 2.5l-.94 2.06-2.06.94zm10 10l.94 2.06.94-2.06 2.06-.94-2.06-.94-.94-2.06-.94 2.06-2.06.94z\"/><path d=\"M17.41 7.96l-1.37-1.37c-.4-.4-.92-.59-1.43-.59-.52 0-1.04.2-1.43.59L10.3 9.45l-7.72 7.72c-.78.78-.78 2.05 0 2.83L4 21.41c.39.39.9.59 1.41.59.51 0 1.02-.2 1.41-.59l7.78-7.78 2.81-2.81c.8-.78.8-2.07 0-2.86zM5.41 20L4 18.59l7.72-7.72 1.47 1.35L5.41 20z\"/>\n",
       "  </svg>\n",
       "      </button>\n",
       "      \n",
       "  <style>\n",
       "    .colab-df-container {\n",
       "      display:flex;\n",
       "      flex-wrap:wrap;\n",
       "      gap: 12px;\n",
       "    }\n",
       "\n",
       "    .colab-df-convert {\n",
       "      background-color: #E8F0FE;\n",
       "      border: none;\n",
       "      border-radius: 50%;\n",
       "      cursor: pointer;\n",
       "      display: none;\n",
       "      fill: #1967D2;\n",
       "      height: 32px;\n",
       "      padding: 0 0 0 0;\n",
       "      width: 32px;\n",
       "    }\n",
       "\n",
       "    .colab-df-convert:hover {\n",
       "      background-color: #E2EBFA;\n",
       "      box-shadow: 0px 1px 2px rgba(60, 64, 67, 0.3), 0px 1px 3px 1px rgba(60, 64, 67, 0.15);\n",
       "      fill: #174EA6;\n",
       "    }\n",
       "\n",
       "    [theme=dark] .colab-df-convert {\n",
       "      background-color: #3B4455;\n",
       "      fill: #D2E3FC;\n",
       "    }\n",
       "\n",
       "    [theme=dark] .colab-df-convert:hover {\n",
       "      background-color: #434B5C;\n",
       "      box-shadow: 0px 1px 3px 1px rgba(0, 0, 0, 0.15);\n",
       "      filter: drop-shadow(0px 1px 2px rgba(0, 0, 0, 0.3));\n",
       "      fill: #FFFFFF;\n",
       "    }\n",
       "  </style>\n",
       "\n",
       "      <script>\n",
       "        const buttonEl =\n",
       "          document.querySelector('#df-b3ad4ab3-3a8c-4f62-90a5-6db4781bb072 button.colab-df-convert');\n",
       "        buttonEl.style.display =\n",
       "          google.colab.kernel.accessAllowed ? 'block' : 'none';\n",
       "\n",
       "        async function convertToInteractive(key) {\n",
       "          const element = document.querySelector('#df-b3ad4ab3-3a8c-4f62-90a5-6db4781bb072');\n",
       "          const dataTable =\n",
       "            await google.colab.kernel.invokeFunction('convertToInteractive',\n",
       "                                                     [key], {});\n",
       "          if (!dataTable) return;\n",
       "\n",
       "          const docLinkHtml = 'Like what you see? Visit the ' +\n",
       "            '<a target=\"_blank\" href=https://colab.research.google.com/notebooks/data_table.ipynb>data table notebook</a>'\n",
       "            + ' to learn more about interactive tables.';\n",
       "          element.innerHTML = '';\n",
       "          dataTable['output_type'] = 'display_data';\n",
       "          await google.colab.output.renderOutput(dataTable, element);\n",
       "          const docLink = document.createElement('div');\n",
       "          docLink.innerHTML = docLinkHtml;\n",
       "          element.appendChild(docLink);\n",
       "        }\n",
       "      </script>\n",
       "    </div>\n",
       "  </div>\n",
       "  "
      ],
      "text/plain": [
       "      sex  on_thyroxine  on_antithyroid_medication  pregnant  goitre   tsh  \\\n",
       "964     1             0                          0         0       0  0.20   \n",
       "507     1             1                          0         0       0  0.61   \n",
       "7       1             0                          0         0       0  2.20   \n",
       "2123    1             0                          0         0       0  0.15   \n",
       "2833    0             0                          0         0       0  1.10   \n",
       "\n",
       "       t3    fti  \n",
       "964   3.2  107.0  \n",
       "507   1.6  127.0  \n",
       "7     0.6  115.0  \n",
       "2123  2.7   91.0  \n",
       "2833  2.4  109.0  "
      ]
     },
     "execution_count": 11,
     "metadata": {},
     "output_type": "execute_result"
    }
   ],
   "source": [
    "X_train.head()"
   ]
  },
  {
   "cell_type": "markdown",
   "id": "c21fe758",
   "metadata": {
    "id": "c21fe758"
   },
   "source": [
    "### MinMax scaler ### "
   ]
  },
  {
   "cell_type": "code",
   "execution_count": 12,
   "id": "44cff8ee",
   "metadata": {
    "colab": {
     "base_uri": "https://localhost:8080/",
     "height": 224
    },
    "executionInfo": {
     "elapsed": 25,
     "status": "ok",
     "timestamp": 1663064890346,
     "user": {
      "displayName": "Oriana Genolet",
      "userId": "17408790309131985000"
     },
     "user_tz": -120
    },
    "id": "44cff8ee",
    "outputId": "b0ffa5dd-9efc-4f77-9815-02102a95c2af"
   },
   "outputs": [
    {
     "name": "stdout",
     "output_type": "stream",
     "text": [
      "(2967, 8)\n"
     ]
    },
    {
     "data": {
      "text/html": [
       "\n",
       "  <div id=\"df-390800b5-9944-4113-9b26-da902bfe86a9\">\n",
       "    <div class=\"colab-df-container\">\n",
       "      <div>\n",
       "<style scoped>\n",
       "    .dataframe tbody tr th:only-of-type {\n",
       "        vertical-align: middle;\n",
       "    }\n",
       "\n",
       "    .dataframe tbody tr th {\n",
       "        vertical-align: top;\n",
       "    }\n",
       "\n",
       "    .dataframe thead th {\n",
       "        text-align: right;\n",
       "    }\n",
       "</style>\n",
       "<table border=\"1\" class=\"dataframe\">\n",
       "  <thead>\n",
       "    <tr style=\"text-align: right;\">\n",
       "      <th></th>\n",
       "      <th>sex</th>\n",
       "      <th>on_thyroxine</th>\n",
       "      <th>on_antithyroid_medication</th>\n",
       "      <th>pregnant</th>\n",
       "      <th>goitre</th>\n",
       "      <th>tsh</th>\n",
       "      <th>t3</th>\n",
       "      <th>fti</th>\n",
       "    </tr>\n",
       "  </thead>\n",
       "  <tbody>\n",
       "    <tr>\n",
       "      <th>964</th>\n",
       "      <td>1.0</td>\n",
       "      <td>0.0</td>\n",
       "      <td>0.0</td>\n",
       "      <td>0.0</td>\n",
       "      <td>0.0</td>\n",
       "      <td>0.000368</td>\n",
       "      <td>0.298578</td>\n",
       "      <td>0.267176</td>\n",
       "    </tr>\n",
       "    <tr>\n",
       "      <th>507</th>\n",
       "      <td>1.0</td>\n",
       "      <td>1.0</td>\n",
       "      <td>0.0</td>\n",
       "      <td>0.0</td>\n",
       "      <td>0.0</td>\n",
       "      <td>0.001142</td>\n",
       "      <td>0.146919</td>\n",
       "      <td>0.318066</td>\n",
       "    </tr>\n",
       "    <tr>\n",
       "      <th>7</th>\n",
       "      <td>1.0</td>\n",
       "      <td>0.0</td>\n",
       "      <td>0.0</td>\n",
       "      <td>0.0</td>\n",
       "      <td>0.0</td>\n",
       "      <td>0.004142</td>\n",
       "      <td>0.052133</td>\n",
       "      <td>0.287532</td>\n",
       "    </tr>\n",
       "    <tr>\n",
       "      <th>2123</th>\n",
       "      <td>1.0</td>\n",
       "      <td>0.0</td>\n",
       "      <td>0.0</td>\n",
       "      <td>0.0</td>\n",
       "      <td>0.0</td>\n",
       "      <td>0.000274</td>\n",
       "      <td>0.251185</td>\n",
       "      <td>0.226463</td>\n",
       "    </tr>\n",
       "    <tr>\n",
       "      <th>2833</th>\n",
       "      <td>0.0</td>\n",
       "      <td>0.0</td>\n",
       "      <td>0.0</td>\n",
       "      <td>0.0</td>\n",
       "      <td>0.0</td>\n",
       "      <td>0.002066</td>\n",
       "      <td>0.222749</td>\n",
       "      <td>0.272265</td>\n",
       "    </tr>\n",
       "  </tbody>\n",
       "</table>\n",
       "</div>\n",
       "      <button class=\"colab-df-convert\" onclick=\"convertToInteractive('df-390800b5-9944-4113-9b26-da902bfe86a9')\"\n",
       "              title=\"Convert this dataframe to an interactive table.\"\n",
       "              style=\"display:none;\">\n",
       "        \n",
       "  <svg xmlns=\"http://www.w3.org/2000/svg\" height=\"24px\"viewBox=\"0 0 24 24\"\n",
       "       width=\"24px\">\n",
       "    <path d=\"M0 0h24v24H0V0z\" fill=\"none\"/>\n",
       "    <path d=\"M18.56 5.44l.94 2.06.94-2.06 2.06-.94-2.06-.94-.94-2.06-.94 2.06-2.06.94zm-11 1L8.5 8.5l.94-2.06 2.06-.94-2.06-.94L8.5 2.5l-.94 2.06-2.06.94zm10 10l.94 2.06.94-2.06 2.06-.94-2.06-.94-.94-2.06-.94 2.06-2.06.94z\"/><path d=\"M17.41 7.96l-1.37-1.37c-.4-.4-.92-.59-1.43-.59-.52 0-1.04.2-1.43.59L10.3 9.45l-7.72 7.72c-.78.78-.78 2.05 0 2.83L4 21.41c.39.39.9.59 1.41.59.51 0 1.02-.2 1.41-.59l7.78-7.78 2.81-2.81c.8-.78.8-2.07 0-2.86zM5.41 20L4 18.59l7.72-7.72 1.47 1.35L5.41 20z\"/>\n",
       "  </svg>\n",
       "      </button>\n",
       "      \n",
       "  <style>\n",
       "    .colab-df-container {\n",
       "      display:flex;\n",
       "      flex-wrap:wrap;\n",
       "      gap: 12px;\n",
       "    }\n",
       "\n",
       "    .colab-df-convert {\n",
       "      background-color: #E8F0FE;\n",
       "      border: none;\n",
       "      border-radius: 50%;\n",
       "      cursor: pointer;\n",
       "      display: none;\n",
       "      fill: #1967D2;\n",
       "      height: 32px;\n",
       "      padding: 0 0 0 0;\n",
       "      width: 32px;\n",
       "    }\n",
       "\n",
       "    .colab-df-convert:hover {\n",
       "      background-color: #E2EBFA;\n",
       "      box-shadow: 0px 1px 2px rgba(60, 64, 67, 0.3), 0px 1px 3px 1px rgba(60, 64, 67, 0.15);\n",
       "      fill: #174EA6;\n",
       "    }\n",
       "\n",
       "    [theme=dark] .colab-df-convert {\n",
       "      background-color: #3B4455;\n",
       "      fill: #D2E3FC;\n",
       "    }\n",
       "\n",
       "    [theme=dark] .colab-df-convert:hover {\n",
       "      background-color: #434B5C;\n",
       "      box-shadow: 0px 1px 3px 1px rgba(0, 0, 0, 0.15);\n",
       "      filter: drop-shadow(0px 1px 2px rgba(0, 0, 0, 0.3));\n",
       "      fill: #FFFFFF;\n",
       "    }\n",
       "  </style>\n",
       "\n",
       "      <script>\n",
       "        const buttonEl =\n",
       "          document.querySelector('#df-390800b5-9944-4113-9b26-da902bfe86a9 button.colab-df-convert');\n",
       "        buttonEl.style.display =\n",
       "          google.colab.kernel.accessAllowed ? 'block' : 'none';\n",
       "\n",
       "        async function convertToInteractive(key) {\n",
       "          const element = document.querySelector('#df-390800b5-9944-4113-9b26-da902bfe86a9');\n",
       "          const dataTable =\n",
       "            await google.colab.kernel.invokeFunction('convertToInteractive',\n",
       "                                                     [key], {});\n",
       "          if (!dataTable) return;\n",
       "\n",
       "          const docLinkHtml = 'Like what you see? Visit the ' +\n",
       "            '<a target=\"_blank\" href=https://colab.research.google.com/notebooks/data_table.ipynb>data table notebook</a>'\n",
       "            + ' to learn more about interactive tables.';\n",
       "          element.innerHTML = '';\n",
       "          dataTable['output_type'] = 'display_data';\n",
       "          await google.colab.output.renderOutput(dataTable, element);\n",
       "          const docLink = document.createElement('div');\n",
       "          docLink.innerHTML = docLinkHtml;\n",
       "          element.appendChild(docLink);\n",
       "        }\n",
       "      </script>\n",
       "    </div>\n",
       "  </div>\n",
       "  "
      ],
      "text/plain": [
       "      sex  on_thyroxine  on_antithyroid_medication  pregnant  goitre  \\\n",
       "964   1.0           0.0                        0.0       0.0     0.0   \n",
       "507   1.0           1.0                        0.0       0.0     0.0   \n",
       "7     1.0           0.0                        0.0       0.0     0.0   \n",
       "2123  1.0           0.0                        0.0       0.0     0.0   \n",
       "2833  0.0           0.0                        0.0       0.0     0.0   \n",
       "\n",
       "           tsh        t3       fti  \n",
       "964   0.000368  0.298578  0.267176  \n",
       "507   0.001142  0.146919  0.318066  \n",
       "7     0.004142  0.052133  0.287532  \n",
       "2123  0.000274  0.251185  0.226463  \n",
       "2833  0.002066  0.222749  0.272265  "
      ]
     },
     "execution_count": 12,
     "metadata": {},
     "output_type": "execute_result"
    }
   ],
   "source": [
    "scaler_num = MinMaxScaler().fit(X_train)\n",
    "X_train_scaled = scaler_num.transform(X_train)\n",
    "X_train_scaled = pd.DataFrame(X_train_scaled, columns = X_train.columns, index=X_train.index)\n",
    "print(X_train_scaled.shape)\n",
    "X_train_scaled.head()"
   ]
  },
  {
   "cell_type": "code",
   "execution_count": 13,
   "id": "1854717c",
   "metadata": {
    "colab": {
     "base_uri": "https://localhost:8080/",
     "height": 224
    },
    "executionInfo": {
     "elapsed": 463,
     "status": "ok",
     "timestamp": 1663064890786,
     "user": {
      "displayName": "Oriana Genolet",
      "userId": "17408790309131985000"
     },
     "user_tz": -120
    },
    "id": "1854717c",
    "outputId": "121c619d-95ba-4017-c14d-51e925292264"
   },
   "outputs": [
    {
     "name": "stdout",
     "output_type": "stream",
     "text": [
      "(742, 8)\n"
     ]
    },
    {
     "data": {
      "text/html": [
       "\n",
       "  <div id=\"df-855e9925-17b0-4280-a4f0-330ee3999e29\">\n",
       "    <div class=\"colab-df-container\">\n",
       "      <div>\n",
       "<style scoped>\n",
       "    .dataframe tbody tr th:only-of-type {\n",
       "        vertical-align: middle;\n",
       "    }\n",
       "\n",
       "    .dataframe tbody tr th {\n",
       "        vertical-align: top;\n",
       "    }\n",
       "\n",
       "    .dataframe thead th {\n",
       "        text-align: right;\n",
       "    }\n",
       "</style>\n",
       "<table border=\"1\" class=\"dataframe\">\n",
       "  <thead>\n",
       "    <tr style=\"text-align: right;\">\n",
       "      <th></th>\n",
       "      <th>sex</th>\n",
       "      <th>on_thyroxine</th>\n",
       "      <th>on_antithyroid_medication</th>\n",
       "      <th>pregnant</th>\n",
       "      <th>goitre</th>\n",
       "      <th>tsh</th>\n",
       "      <th>t3</th>\n",
       "      <th>fti</th>\n",
       "    </tr>\n",
       "  </thead>\n",
       "  <tbody>\n",
       "    <tr>\n",
       "      <th>1783</th>\n",
       "      <td>0.0</td>\n",
       "      <td>0.0</td>\n",
       "      <td>0.0</td>\n",
       "      <td>0.0</td>\n",
       "      <td>0.0</td>\n",
       "      <td>0.000462</td>\n",
       "      <td>0.146919</td>\n",
       "      <td>0.307888</td>\n",
       "    </tr>\n",
       "    <tr>\n",
       "      <th>1929</th>\n",
       "      <td>1.0</td>\n",
       "      <td>0.0</td>\n",
       "      <td>0.0</td>\n",
       "      <td>0.0</td>\n",
       "      <td>0.0</td>\n",
       "      <td>0.016217</td>\n",
       "      <td>0.345972</td>\n",
       "      <td>0.195929</td>\n",
       "    </tr>\n",
       "    <tr>\n",
       "      <th>2917</th>\n",
       "      <td>0.0</td>\n",
       "      <td>0.0</td>\n",
       "      <td>0.0</td>\n",
       "      <td>0.0</td>\n",
       "      <td>0.0</td>\n",
       "      <td>0.004708</td>\n",
       "      <td>0.213270</td>\n",
       "      <td>0.246819</td>\n",
       "    </tr>\n",
       "    <tr>\n",
       "      <th>787</th>\n",
       "      <td>1.0</td>\n",
       "      <td>0.0</td>\n",
       "      <td>0.0</td>\n",
       "      <td>0.0</td>\n",
       "      <td>0.0</td>\n",
       "      <td>0.002632</td>\n",
       "      <td>0.184834</td>\n",
       "      <td>0.267176</td>\n",
       "    </tr>\n",
       "    <tr>\n",
       "      <th>798</th>\n",
       "      <td>1.0</td>\n",
       "      <td>0.0</td>\n",
       "      <td>0.0</td>\n",
       "      <td>0.0</td>\n",
       "      <td>0.0</td>\n",
       "      <td>0.005462</td>\n",
       "      <td>0.222749</td>\n",
       "      <td>0.244275</td>\n",
       "    </tr>\n",
       "  </tbody>\n",
       "</table>\n",
       "</div>\n",
       "      <button class=\"colab-df-convert\" onclick=\"convertToInteractive('df-855e9925-17b0-4280-a4f0-330ee3999e29')\"\n",
       "              title=\"Convert this dataframe to an interactive table.\"\n",
       "              style=\"display:none;\">\n",
       "        \n",
       "  <svg xmlns=\"http://www.w3.org/2000/svg\" height=\"24px\"viewBox=\"0 0 24 24\"\n",
       "       width=\"24px\">\n",
       "    <path d=\"M0 0h24v24H0V0z\" fill=\"none\"/>\n",
       "    <path d=\"M18.56 5.44l.94 2.06.94-2.06 2.06-.94-2.06-.94-.94-2.06-.94 2.06-2.06.94zm-11 1L8.5 8.5l.94-2.06 2.06-.94-2.06-.94L8.5 2.5l-.94 2.06-2.06.94zm10 10l.94 2.06.94-2.06 2.06-.94-2.06-.94-.94-2.06-.94 2.06-2.06.94z\"/><path d=\"M17.41 7.96l-1.37-1.37c-.4-.4-.92-.59-1.43-.59-.52 0-1.04.2-1.43.59L10.3 9.45l-7.72 7.72c-.78.78-.78 2.05 0 2.83L4 21.41c.39.39.9.59 1.41.59.51 0 1.02-.2 1.41-.59l7.78-7.78 2.81-2.81c.8-.78.8-2.07 0-2.86zM5.41 20L4 18.59l7.72-7.72 1.47 1.35L5.41 20z\"/>\n",
       "  </svg>\n",
       "      </button>\n",
       "      \n",
       "  <style>\n",
       "    .colab-df-container {\n",
       "      display:flex;\n",
       "      flex-wrap:wrap;\n",
       "      gap: 12px;\n",
       "    }\n",
       "\n",
       "    .colab-df-convert {\n",
       "      background-color: #E8F0FE;\n",
       "      border: none;\n",
       "      border-radius: 50%;\n",
       "      cursor: pointer;\n",
       "      display: none;\n",
       "      fill: #1967D2;\n",
       "      height: 32px;\n",
       "      padding: 0 0 0 0;\n",
       "      width: 32px;\n",
       "    }\n",
       "\n",
       "    .colab-df-convert:hover {\n",
       "      background-color: #E2EBFA;\n",
       "      box-shadow: 0px 1px 2px rgba(60, 64, 67, 0.3), 0px 1px 3px 1px rgba(60, 64, 67, 0.15);\n",
       "      fill: #174EA6;\n",
       "    }\n",
       "\n",
       "    [theme=dark] .colab-df-convert {\n",
       "      background-color: #3B4455;\n",
       "      fill: #D2E3FC;\n",
       "    }\n",
       "\n",
       "    [theme=dark] .colab-df-convert:hover {\n",
       "      background-color: #434B5C;\n",
       "      box-shadow: 0px 1px 3px 1px rgba(0, 0, 0, 0.15);\n",
       "      filter: drop-shadow(0px 1px 2px rgba(0, 0, 0, 0.3));\n",
       "      fill: #FFFFFF;\n",
       "    }\n",
       "  </style>\n",
       "\n",
       "      <script>\n",
       "        const buttonEl =\n",
       "          document.querySelector('#df-855e9925-17b0-4280-a4f0-330ee3999e29 button.colab-df-convert');\n",
       "        buttonEl.style.display =\n",
       "          google.colab.kernel.accessAllowed ? 'block' : 'none';\n",
       "\n",
       "        async function convertToInteractive(key) {\n",
       "          const element = document.querySelector('#df-855e9925-17b0-4280-a4f0-330ee3999e29');\n",
       "          const dataTable =\n",
       "            await google.colab.kernel.invokeFunction('convertToInteractive',\n",
       "                                                     [key], {});\n",
       "          if (!dataTable) return;\n",
       "\n",
       "          const docLinkHtml = 'Like what you see? Visit the ' +\n",
       "            '<a target=\"_blank\" href=https://colab.research.google.com/notebooks/data_table.ipynb>data table notebook</a>'\n",
       "            + ' to learn more about interactive tables.';\n",
       "          element.innerHTML = '';\n",
       "          dataTable['output_type'] = 'display_data';\n",
       "          await google.colab.output.renderOutput(dataTable, element);\n",
       "          const docLink = document.createElement('div');\n",
       "          docLink.innerHTML = docLinkHtml;\n",
       "          element.appendChild(docLink);\n",
       "        }\n",
       "      </script>\n",
       "    </div>\n",
       "  </div>\n",
       "  "
      ],
      "text/plain": [
       "      sex  on_thyroxine  on_antithyroid_medication  pregnant  goitre  \\\n",
       "1783  0.0           0.0                        0.0       0.0     0.0   \n",
       "1929  1.0           0.0                        0.0       0.0     0.0   \n",
       "2917  0.0           0.0                        0.0       0.0     0.0   \n",
       "787   1.0           0.0                        0.0       0.0     0.0   \n",
       "798   1.0           0.0                        0.0       0.0     0.0   \n",
       "\n",
       "           tsh        t3       fti  \n",
       "1783  0.000462  0.146919  0.307888  \n",
       "1929  0.016217  0.345972  0.195929  \n",
       "2917  0.004708  0.213270  0.246819  \n",
       "787   0.002632  0.184834  0.267176  \n",
       "798   0.005462  0.222749  0.244275  "
      ]
     },
     "execution_count": 13,
     "metadata": {},
     "output_type": "execute_result"
    }
   ],
   "source": [
    "X_test_scaled = scaler_num.transform(X_test)\n",
    "X_test_scaled = pd.DataFrame(X_test_scaled, columns = X_test.columns, index=X_test.index)\n",
    "print(X_test_scaled.shape)\n",
    "X_test_scaled.head()"
   ]
  },
  {
   "cell_type": "markdown",
   "id": "e9a67792",
   "metadata": {
    "id": "e9a67792"
   },
   "source": [
    "### Class imbalance: SMOTE ###"
   ]
  },
  {
   "cell_type": "code",
   "execution_count": 14,
   "id": "613aa17c",
   "metadata": {
    "colab": {
     "base_uri": "https://localhost:8080/"
    },
    "executionInfo": {
     "elapsed": 70,
     "status": "ok",
     "timestamp": 1663064890789,
     "user": {
      "displayName": "Oriana Genolet",
      "userId": "17408790309131985000"
     },
     "user_tz": -120
    },
    "id": "613aa17c",
    "outputId": "29ee4f16-be64-482d-b8e8-873b03a2f79e"
   },
   "outputs": [
    {
     "name": "stdout",
     "output_type": "stream",
     "text": [
      "X shape before using SMOTE: (2967, 8)\n",
      "X shape after using SMOTE: (5482, 8)\n",
      "\n",
      "Y value counts:\n",
      " Healthy     2741\n",
      "Diseased    2741\n",
      "Name: binaryclass, dtype: int64\n"
     ]
    }
   ],
   "source": [
    "sm = SMOTE(random_state=50, k_neighbors=3)\n",
    "X_train_scaled_sm, y_train_sm = sm.fit_resample(X_train_scaled, y_train)\n",
    "print('X shape before using SMOTE:', X_train_scaled.shape)\n",
    "print('X shape after using SMOTE:', X_train_scaled_sm.shape)\n",
    "print('')\n",
    "print('Y value counts:\\n', y_train_sm.value_counts())"
   ]
  },
  {
   "cell_type": "code",
   "execution_count": 15,
   "id": "21846bc6",
   "metadata": {
    "colab": {
     "base_uri": "https://localhost:8080/",
     "height": 206
    },
    "executionInfo": {
     "elapsed": 60,
     "status": "ok",
     "timestamp": 1663064890789,
     "user": {
      "displayName": "Oriana Genolet",
      "userId": "17408790309131985000"
     },
     "user_tz": -120
    },
    "id": "21846bc6",
    "outputId": "d76b47da-6e36-4a04-9b07-b396f1214142"
   },
   "outputs": [
    {
     "data": {
      "text/html": [
       "\n",
       "  <div id=\"df-5516188a-211c-48fa-9f5e-7857519e8ee5\">\n",
       "    <div class=\"colab-df-container\">\n",
       "      <div>\n",
       "<style scoped>\n",
       "    .dataframe tbody tr th:only-of-type {\n",
       "        vertical-align: middle;\n",
       "    }\n",
       "\n",
       "    .dataframe tbody tr th {\n",
       "        vertical-align: top;\n",
       "    }\n",
       "\n",
       "    .dataframe thead th {\n",
       "        text-align: right;\n",
       "    }\n",
       "</style>\n",
       "<table border=\"1\" class=\"dataframe\">\n",
       "  <thead>\n",
       "    <tr style=\"text-align: right;\">\n",
       "      <th></th>\n",
       "      <th>sex</th>\n",
       "      <th>on_thyroxine</th>\n",
       "      <th>on_antithyroid_medication</th>\n",
       "      <th>pregnant</th>\n",
       "      <th>goitre</th>\n",
       "      <th>tsh</th>\n",
       "      <th>t3</th>\n",
       "      <th>fti</th>\n",
       "    </tr>\n",
       "  </thead>\n",
       "  <tbody>\n",
       "    <tr>\n",
       "      <th>0</th>\n",
       "      <td>1.0</td>\n",
       "      <td>0.0</td>\n",
       "      <td>0.0</td>\n",
       "      <td>0.0</td>\n",
       "      <td>0.0</td>\n",
       "      <td>0.000368</td>\n",
       "      <td>0.298578</td>\n",
       "      <td>0.267176</td>\n",
       "    </tr>\n",
       "    <tr>\n",
       "      <th>1</th>\n",
       "      <td>1.0</td>\n",
       "      <td>1.0</td>\n",
       "      <td>0.0</td>\n",
       "      <td>0.0</td>\n",
       "      <td>0.0</td>\n",
       "      <td>0.001142</td>\n",
       "      <td>0.146919</td>\n",
       "      <td>0.318066</td>\n",
       "    </tr>\n",
       "    <tr>\n",
       "      <th>2</th>\n",
       "      <td>1.0</td>\n",
       "      <td>0.0</td>\n",
       "      <td>0.0</td>\n",
       "      <td>0.0</td>\n",
       "      <td>0.0</td>\n",
       "      <td>0.004142</td>\n",
       "      <td>0.052133</td>\n",
       "      <td>0.287532</td>\n",
       "    </tr>\n",
       "    <tr>\n",
       "      <th>3</th>\n",
       "      <td>1.0</td>\n",
       "      <td>0.0</td>\n",
       "      <td>0.0</td>\n",
       "      <td>0.0</td>\n",
       "      <td>0.0</td>\n",
       "      <td>0.000274</td>\n",
       "      <td>0.251185</td>\n",
       "      <td>0.226463</td>\n",
       "    </tr>\n",
       "    <tr>\n",
       "      <th>4</th>\n",
       "      <td>0.0</td>\n",
       "      <td>0.0</td>\n",
       "      <td>0.0</td>\n",
       "      <td>0.0</td>\n",
       "      <td>0.0</td>\n",
       "      <td>0.002066</td>\n",
       "      <td>0.222749</td>\n",
       "      <td>0.272265</td>\n",
       "    </tr>\n",
       "  </tbody>\n",
       "</table>\n",
       "</div>\n",
       "      <button class=\"colab-df-convert\" onclick=\"convertToInteractive('df-5516188a-211c-48fa-9f5e-7857519e8ee5')\"\n",
       "              title=\"Convert this dataframe to an interactive table.\"\n",
       "              style=\"display:none;\">\n",
       "        \n",
       "  <svg xmlns=\"http://www.w3.org/2000/svg\" height=\"24px\"viewBox=\"0 0 24 24\"\n",
       "       width=\"24px\">\n",
       "    <path d=\"M0 0h24v24H0V0z\" fill=\"none\"/>\n",
       "    <path d=\"M18.56 5.44l.94 2.06.94-2.06 2.06-.94-2.06-.94-.94-2.06-.94 2.06-2.06.94zm-11 1L8.5 8.5l.94-2.06 2.06-.94-2.06-.94L8.5 2.5l-.94 2.06-2.06.94zm10 10l.94 2.06.94-2.06 2.06-.94-2.06-.94-.94-2.06-.94 2.06-2.06.94z\"/><path d=\"M17.41 7.96l-1.37-1.37c-.4-.4-.92-.59-1.43-.59-.52 0-1.04.2-1.43.59L10.3 9.45l-7.72 7.72c-.78.78-.78 2.05 0 2.83L4 21.41c.39.39.9.59 1.41.59.51 0 1.02-.2 1.41-.59l7.78-7.78 2.81-2.81c.8-.78.8-2.07 0-2.86zM5.41 20L4 18.59l7.72-7.72 1.47 1.35L5.41 20z\"/>\n",
       "  </svg>\n",
       "      </button>\n",
       "      \n",
       "  <style>\n",
       "    .colab-df-container {\n",
       "      display:flex;\n",
       "      flex-wrap:wrap;\n",
       "      gap: 12px;\n",
       "    }\n",
       "\n",
       "    .colab-df-convert {\n",
       "      background-color: #E8F0FE;\n",
       "      border: none;\n",
       "      border-radius: 50%;\n",
       "      cursor: pointer;\n",
       "      display: none;\n",
       "      fill: #1967D2;\n",
       "      height: 32px;\n",
       "      padding: 0 0 0 0;\n",
       "      width: 32px;\n",
       "    }\n",
       "\n",
       "    .colab-df-convert:hover {\n",
       "      background-color: #E2EBFA;\n",
       "      box-shadow: 0px 1px 2px rgba(60, 64, 67, 0.3), 0px 1px 3px 1px rgba(60, 64, 67, 0.15);\n",
       "      fill: #174EA6;\n",
       "    }\n",
       "\n",
       "    [theme=dark] .colab-df-convert {\n",
       "      background-color: #3B4455;\n",
       "      fill: #D2E3FC;\n",
       "    }\n",
       "\n",
       "    [theme=dark] .colab-df-convert:hover {\n",
       "      background-color: #434B5C;\n",
       "      box-shadow: 0px 1px 3px 1px rgba(0, 0, 0, 0.15);\n",
       "      filter: drop-shadow(0px 1px 2px rgba(0, 0, 0, 0.3));\n",
       "      fill: #FFFFFF;\n",
       "    }\n",
       "  </style>\n",
       "\n",
       "      <script>\n",
       "        const buttonEl =\n",
       "          document.querySelector('#df-5516188a-211c-48fa-9f5e-7857519e8ee5 button.colab-df-convert');\n",
       "        buttonEl.style.display =\n",
       "          google.colab.kernel.accessAllowed ? 'block' : 'none';\n",
       "\n",
       "        async function convertToInteractive(key) {\n",
       "          const element = document.querySelector('#df-5516188a-211c-48fa-9f5e-7857519e8ee5');\n",
       "          const dataTable =\n",
       "            await google.colab.kernel.invokeFunction('convertToInteractive',\n",
       "                                                     [key], {});\n",
       "          if (!dataTable) return;\n",
       "\n",
       "          const docLinkHtml = 'Like what you see? Visit the ' +\n",
       "            '<a target=\"_blank\" href=https://colab.research.google.com/notebooks/data_table.ipynb>data table notebook</a>'\n",
       "            + ' to learn more about interactive tables.';\n",
       "          element.innerHTML = '';\n",
       "          dataTable['output_type'] = 'display_data';\n",
       "          await google.colab.output.renderOutput(dataTable, element);\n",
       "          const docLink = document.createElement('div');\n",
       "          docLink.innerHTML = docLinkHtml;\n",
       "          element.appendChild(docLink);\n",
       "        }\n",
       "      </script>\n",
       "    </div>\n",
       "  </div>\n",
       "  "
      ],
      "text/plain": [
       "   sex  on_thyroxine  on_antithyroid_medication  pregnant  goitre       tsh  \\\n",
       "0  1.0           0.0                        0.0       0.0     0.0  0.000368   \n",
       "1  1.0           1.0                        0.0       0.0     0.0  0.001142   \n",
       "2  1.0           0.0                        0.0       0.0     0.0  0.004142   \n",
       "3  1.0           0.0                        0.0       0.0     0.0  0.000274   \n",
       "4  0.0           0.0                        0.0       0.0     0.0  0.002066   \n",
       "\n",
       "         t3       fti  \n",
       "0  0.298578  0.267176  \n",
       "1  0.146919  0.318066  \n",
       "2  0.052133  0.287532  \n",
       "3  0.251185  0.226463  \n",
       "4  0.222749  0.272265  "
      ]
     },
     "execution_count": 15,
     "metadata": {},
     "output_type": "execute_result"
    }
   ],
   "source": [
    "X_train_scaled_sm.head()"
   ]
  },
  {
   "cell_type": "code",
   "execution_count": 16,
   "id": "1f207e03",
   "metadata": {
    "colab": {
     "base_uri": "https://localhost:8080/"
    },
    "executionInfo": {
     "elapsed": 55,
     "status": "ok",
     "timestamp": 1663064890789,
     "user": {
      "displayName": "Oriana Genolet",
      "userId": "17408790309131985000"
     },
     "user_tz": -120
    },
    "id": "1f207e03",
    "outputId": "3fd24e91-cd48-49ef-ef66-f18620686626"
   },
   "outputs": [
    {
     "data": {
      "text/plain": [
       "0        Healthy\n",
       "1        Healthy\n",
       "2        Healthy\n",
       "3        Healthy\n",
       "4        Healthy\n",
       "          ...   \n",
       "5477    Diseased\n",
       "5478    Diseased\n",
       "5479    Diseased\n",
       "5480    Diseased\n",
       "5481    Diseased\n",
       "Name: binaryclass, Length: 5482, dtype: object"
      ]
     },
     "execution_count": 16,
     "metadata": {},
     "output_type": "execute_result"
    }
   ],
   "source": [
    "y_train_sm"
   ]
  },
  {
   "cell_type": "markdown",
   "id": "1rf9Pe1TKSbW",
   "metadata": {
    "id": "1rf9Pe1TKSbW"
   },
   "source": [
    "### Encoding y ###"
   ]
  },
  {
   "cell_type": "code",
   "execution_count": 17,
   "id": "05QhGA71KRbA",
   "metadata": {
    "colab": {
     "base_uri": "https://localhost:8080/"
    },
    "executionInfo": {
     "elapsed": 54,
     "status": "ok",
     "timestamp": 1663064890790,
     "user": {
      "displayName": "Oriana Genolet",
      "userId": "17408790309131985000"
     },
     "user_tz": -120
    },
    "id": "05QhGA71KRbA",
    "outputId": "77e1d0c8-6924-4394-9a8a-dbcad4e35f59"
   },
   "outputs": [
    {
     "data": {
      "text/plain": [
       "0       0\n",
       "1       0\n",
       "2       0\n",
       "3       0\n",
       "4       0\n",
       "       ..\n",
       "5477    1\n",
       "5478    1\n",
       "5479    1\n",
       "5480    1\n",
       "5481    1\n",
       "Name: binaryclass, Length: 5482, dtype: int64"
      ]
     },
     "execution_count": 17,
     "metadata": {},
     "output_type": "execute_result"
    }
   ],
   "source": [
    "y_train_sm = y_train_sm.replace({\"Diseased\":1, \"Healthy\":0})\n",
    "y_train_sm"
   ]
  },
  {
   "cell_type": "code",
   "execution_count": 18,
   "id": "IHorf-SkQkII",
   "metadata": {
    "colab": {
     "base_uri": "https://localhost:8080/"
    },
    "executionInfo": {
     "elapsed": 51,
     "status": "ok",
     "timestamp": 1663064890790,
     "user": {
      "displayName": "Oriana Genolet",
      "userId": "17408790309131985000"
     },
     "user_tz": -120
    },
    "id": "IHorf-SkQkII",
    "outputId": "108c48bf-1252-4252-91e8-fb39e41856f9"
   },
   "outputs": [
    {
     "data": {
      "text/plain": [
       "1783    0\n",
       "1929    1\n",
       "2917    0\n",
       "787     0\n",
       "798     0\n",
       "       ..\n",
       "1954    0\n",
       "596     0\n",
       "3690    1\n",
       "3021    0\n",
       "296     0\n",
       "Name: binaryclass, Length: 742, dtype: int64"
      ]
     },
     "execution_count": 18,
     "metadata": {},
     "output_type": "execute_result"
    }
   ],
   "source": [
    "y_test = y_test.replace({\"Diseased\":1, \"Healthy\":0})\n",
    "y_test"
   ]
  },
  {
   "cell_type": "markdown",
   "id": "jutYXlTgEiOF",
   "metadata": {
    "id": "jutYXlTgEiOF"
   },
   "source": [
    "### Neural Network: Keras ###"
   ]
  },
  {
   "cell_type": "code",
   "execution_count": 19,
   "id": "nkBPzotkEkjK",
   "metadata": {
    "colab": {
     "base_uri": "https://localhost:8080/"
    },
    "executionInfo": {
     "elapsed": 50,
     "status": "ok",
     "timestamp": 1663064890790,
     "user": {
      "displayName": "Oriana Genolet",
      "userId": "17408790309131985000"
     },
     "user_tz": -120
    },
    "id": "nkBPzotkEkjK",
    "outputId": "526bc85f-3bb4-404d-a0d2-0e423a1ece79"
   },
   "outputs": [
    {
     "name": "stdout",
     "output_type": "stream",
     "text": [
      "Model: \"sequential\"\n",
      "_________________________________________________________________\n",
      " Layer (type)                Output Shape              Param #   \n",
      "=================================================================\n",
      " dense (Dense)               (None, 32)                288       \n",
      "                                                                 \n",
      " dropout (Dropout)           (None, 32)                0         \n",
      "                                                                 \n",
      " dense_1 (Dense)             (None, 16)                528       \n",
      "                                                                 \n",
      " dense_2 (Dense)             (None, 1)                 17        \n",
      "                                                                 \n",
      "=================================================================\n",
      "Total params: 833\n",
      "Trainable params: 833\n",
      "Non-trainable params: 0\n",
      "_________________________________________________________________\n"
     ]
    }
   ],
   "source": [
    "early_stopping = EarlyStopping(patience=20)\n",
    "model = keras.Sequential()\n",
    "model.add(Dense(units = 32,input_dim = X_train_scaled_sm.shape[1],activation='relu')) \n",
    "model.add(Dropout(0.5))\n",
    "model.add(Dense(units = 16,activation='relu'))\n",
    "model.add(Dense(units = 1, activation='sigmoid', activity_regularizer=regularizers.l1_l2(l1=0.01, l2=0.01)))\n",
    "\n",
    "model.compile(optimizer='adam', \n",
    "              loss='binary_crossentropy', \n",
    "              metrics=['accuracy'] \n",
    "              )\n",
    "\n",
    "model.summary()"
   ]
  },
  {
   "cell_type": "code",
   "execution_count": 20,
   "id": "BHGLudRWEsRK",
   "metadata": {
    "executionInfo": {
     "elapsed": 28,
     "status": "ok",
     "timestamp": 1663064890790,
     "user": {
      "displayName": "Oriana Genolet",
      "userId": "17408790309131985000"
     },
     "user_tz": -120
    },
    "id": "BHGLudRWEsRK"
   },
   "outputs": [],
   "source": [
    "checkpoint_path = '/content/drive/MyDrive/Ironhack/Neural networks/keras.hdf5'\n",
    "checkpoint = ModelCheckpoint(\n",
    "    filepath=checkpoint_path,\n",
    "    save_freq='epoch',\n",
    "    save_weights_only=False,\n",
    "    verbose=1\n",
    ")"
   ]
  },
  {
   "cell_type": "code",
   "execution_count": 21,
   "id": "k-FhHc9HIFAL",
   "metadata": {
    "colab": {
     "base_uri": "https://localhost:8080/"
    },
    "executionInfo": {
     "elapsed": 53981,
     "status": "ok",
     "timestamp": 1663064944743,
     "user": {
      "displayName": "Oriana Genolet",
      "userId": "17408790309131985000"
     },
     "user_tz": -120
    },
    "id": "k-FhHc9HIFAL",
    "outputId": "ce950f9f-159d-4107-f11f-f1a0bb9eb95b"
   },
   "outputs": [
    {
     "name": "stdout",
     "output_type": "stream",
     "text": [
      "Epoch 1/60\n",
      "\n",
      "Epoch 1: saving model to /content/drive/MyDrive/Ironhack/Neural networks/keras.hdf5\n",
      "439/439 - 2s - loss: 0.6402 - accuracy: 0.6365 - val_loss: 0.8416 - val_accuracy: 0.1768 - 2s/epoch - 5ms/step\n",
      "Epoch 2/60\n",
      "\n",
      "Epoch 2: saving model to /content/drive/MyDrive/Ironhack/Neural networks/keras.hdf5\n",
      "439/439 - 1s - loss: 0.5495 - accuracy: 0.7220 - val_loss: 0.6241 - val_accuracy: 0.6089 - 883ms/epoch - 2ms/step\n",
      "Epoch 3/60\n",
      "\n",
      "Epoch 3: saving model to /content/drive/MyDrive/Ironhack/Neural networks/keras.hdf5\n",
      "439/439 - 1s - loss: 0.4606 - accuracy: 0.7799 - val_loss: 0.6714 - val_accuracy: 0.5770 - 898ms/epoch - 2ms/step\n",
      "Epoch 4/60\n",
      "\n",
      "Epoch 4: saving model to /content/drive/MyDrive/Ironhack/Neural networks/keras.hdf5\n",
      "439/439 - 1s - loss: 0.3957 - accuracy: 0.8242 - val_loss: 0.5576 - val_accuracy: 0.6746 - 871ms/epoch - 2ms/step\n",
      "Epoch 5/60\n",
      "\n",
      "Epoch 5: saving model to /content/drive/MyDrive/Ironhack/Neural networks/keras.hdf5\n",
      "439/439 - 1s - loss: 0.3459 - accuracy: 0.8506 - val_loss: 0.4078 - val_accuracy: 0.7675 - 866ms/epoch - 2ms/step\n",
      "Epoch 6/60\n",
      "\n",
      "Epoch 6: saving model to /content/drive/MyDrive/Ironhack/Neural networks/keras.hdf5\n",
      "439/439 - 1s - loss: 0.3110 - accuracy: 0.8748 - val_loss: 0.4253 - val_accuracy: 0.7466 - 879ms/epoch - 2ms/step\n",
      "Epoch 7/60\n",
      "\n",
      "Epoch 7: saving model to /content/drive/MyDrive/Ironhack/Neural networks/keras.hdf5\n",
      "439/439 - 1s - loss: 0.2792 - accuracy: 0.8910 - val_loss: 0.3534 - val_accuracy: 0.8204 - 880ms/epoch - 2ms/step\n",
      "Epoch 8/60\n",
      "\n",
      "Epoch 8: saving model to /content/drive/MyDrive/Ironhack/Neural networks/keras.hdf5\n",
      "439/439 - 1s - loss: 0.2482 - accuracy: 0.9070 - val_loss: 0.2907 - val_accuracy: 0.8769 - 894ms/epoch - 2ms/step\n",
      "Epoch 9/60\n",
      "\n",
      "Epoch 9: saving model to /content/drive/MyDrive/Ironhack/Neural networks/keras.hdf5\n",
      "439/439 - 1s - loss: 0.2256 - accuracy: 0.9218 - val_loss: 0.1952 - val_accuracy: 0.9362 - 1s/epoch - 3ms/step\n",
      "Epoch 10/60\n",
      "\n",
      "Epoch 10: saving model to /content/drive/MyDrive/Ironhack/Neural networks/keras.hdf5\n",
      "439/439 - 1s - loss: 0.1962 - accuracy: 0.9345 - val_loss: 0.2517 - val_accuracy: 0.8897 - 1s/epoch - 3ms/step\n",
      "Epoch 11/60\n",
      "\n",
      "Epoch 11: saving model to /content/drive/MyDrive/Ironhack/Neural networks/keras.hdf5\n",
      "439/439 - 2s - loss: 0.1699 - accuracy: 0.9460 - val_loss: 0.1837 - val_accuracy: 0.9453 - 2s/epoch - 4ms/step\n",
      "Epoch 12/60\n",
      "\n",
      "Epoch 12: saving model to /content/drive/MyDrive/Ironhack/Neural networks/keras.hdf5\n",
      "439/439 - 2s - loss: 0.1539 - accuracy: 0.9544 - val_loss: 0.1444 - val_accuracy: 0.9599 - 2s/epoch - 4ms/step\n",
      "Epoch 13/60\n",
      "\n",
      "Epoch 13: saving model to /content/drive/MyDrive/Ironhack/Neural networks/keras.hdf5\n",
      "439/439 - 2s - loss: 0.1374 - accuracy: 0.9592 - val_loss: 0.1655 - val_accuracy: 0.9499 - 2s/epoch - 4ms/step\n",
      "Epoch 14/60\n",
      "\n",
      "Epoch 14: saving model to /content/drive/MyDrive/Ironhack/Neural networks/keras.hdf5\n",
      "439/439 - 1s - loss: 0.1318 - accuracy: 0.9637 - val_loss: 0.1428 - val_accuracy: 0.9581 - 1s/epoch - 3ms/step\n",
      "Epoch 15/60\n",
      "\n",
      "Epoch 15: saving model to /content/drive/MyDrive/Ironhack/Neural networks/keras.hdf5\n",
      "439/439 - 2s - loss: 0.1245 - accuracy: 0.9658 - val_loss: 0.1058 - val_accuracy: 0.9909 - 2s/epoch - 4ms/step\n",
      "Epoch 16/60\n",
      "\n",
      "Epoch 16: saving model to /content/drive/MyDrive/Ironhack/Neural networks/keras.hdf5\n",
      "439/439 - 2s - loss: 0.1205 - accuracy: 0.9690 - val_loss: 0.0987 - val_accuracy: 0.9909 - 2s/epoch - 4ms/step\n",
      "Epoch 17/60\n",
      "\n",
      "Epoch 17: saving model to /content/drive/MyDrive/Ironhack/Neural networks/keras.hdf5\n",
      "439/439 - 2s - loss: 0.1141 - accuracy: 0.9729 - val_loss: 0.1023 - val_accuracy: 0.9936 - 2s/epoch - 4ms/step\n",
      "Epoch 18/60\n",
      "\n",
      "Epoch 18: saving model to /content/drive/MyDrive/Ironhack/Neural networks/keras.hdf5\n",
      "439/439 - 2s - loss: 0.1064 - accuracy: 0.9722 - val_loss: 0.1329 - val_accuracy: 0.9745 - 2s/epoch - 5ms/step\n",
      "Epoch 19/60\n",
      "\n",
      "Epoch 19: saving model to /content/drive/MyDrive/Ironhack/Neural networks/keras.hdf5\n",
      "439/439 - 1s - loss: 0.0981 - accuracy: 0.9758 - val_loss: 0.0956 - val_accuracy: 0.9927 - 1s/epoch - 3ms/step\n",
      "Epoch 20/60\n",
      "\n",
      "Epoch 20: saving model to /content/drive/MyDrive/Ironhack/Neural networks/keras.hdf5\n",
      "439/439 - 1s - loss: 0.0974 - accuracy: 0.9765 - val_loss: 0.0933 - val_accuracy: 0.9927 - 858ms/epoch - 2ms/step\n",
      "Epoch 21/60\n",
      "\n",
      "Epoch 21: saving model to /content/drive/MyDrive/Ironhack/Neural networks/keras.hdf5\n",
      "439/439 - 1s - loss: 0.0959 - accuracy: 0.9756 - val_loss: 0.1335 - val_accuracy: 0.9818 - 853ms/epoch - 2ms/step\n",
      "Epoch 22/60\n",
      "\n",
      "Epoch 22: saving model to /content/drive/MyDrive/Ironhack/Neural networks/keras.hdf5\n",
      "439/439 - 1s - loss: 0.1014 - accuracy: 0.9749 - val_loss: 0.0930 - val_accuracy: 0.9936 - 883ms/epoch - 2ms/step\n",
      "Epoch 23/60\n",
      "\n",
      "Epoch 23: saving model to /content/drive/MyDrive/Ironhack/Neural networks/keras.hdf5\n",
      "439/439 - 1s - loss: 0.0942 - accuracy: 0.9777 - val_loss: 0.0950 - val_accuracy: 0.9936 - 822ms/epoch - 2ms/step\n",
      "Epoch 24/60\n",
      "\n",
      "Epoch 24: saving model to /content/drive/MyDrive/Ironhack/Neural networks/keras.hdf5\n",
      "439/439 - 1s - loss: 0.0910 - accuracy: 0.9790 - val_loss: 0.0922 - val_accuracy: 0.9918 - 818ms/epoch - 2ms/step\n",
      "Epoch 25/60\n",
      "\n",
      "Epoch 25: saving model to /content/drive/MyDrive/Ironhack/Neural networks/keras.hdf5\n",
      "439/439 - 1s - loss: 0.0854 - accuracy: 0.9774 - val_loss: 0.0785 - val_accuracy: 0.9927 - 862ms/epoch - 2ms/step\n",
      "Epoch 26/60\n",
      "\n",
      "Epoch 26: saving model to /content/drive/MyDrive/Ironhack/Neural networks/keras.hdf5\n",
      "439/439 - 1s - loss: 0.0829 - accuracy: 0.9792 - val_loss: 0.0916 - val_accuracy: 0.9918 - 855ms/epoch - 2ms/step\n",
      "Epoch 27/60\n",
      "\n",
      "Epoch 27: saving model to /content/drive/MyDrive/Ironhack/Neural networks/keras.hdf5\n",
      "439/439 - 1s - loss: 0.0846 - accuracy: 0.9779 - val_loss: 0.0865 - val_accuracy: 0.9918 - 1s/epoch - 2ms/step\n",
      "Epoch 28/60\n",
      "\n",
      "Epoch 28: saving model to /content/drive/MyDrive/Ironhack/Neural networks/keras.hdf5\n",
      "439/439 - 1s - loss: 0.0871 - accuracy: 0.9788 - val_loss: 0.0773 - val_accuracy: 0.9936 - 1s/epoch - 3ms/step\n",
      "Epoch 29/60\n",
      "\n",
      "Epoch 29: saving model to /content/drive/MyDrive/Ironhack/Neural networks/keras.hdf5\n",
      "439/439 - 1s - loss: 0.0798 - accuracy: 0.9815 - val_loss: 0.0666 - val_accuracy: 0.9945 - 1s/epoch - 3ms/step\n",
      "Epoch 30/60\n",
      "\n",
      "Epoch 30: saving model to /content/drive/MyDrive/Ironhack/Neural networks/keras.hdf5\n",
      "439/439 - 1s - loss: 0.0775 - accuracy: 0.9802 - val_loss: 0.0757 - val_accuracy: 0.9936 - 1s/epoch - 3ms/step\n",
      "Epoch 31/60\n",
      "\n",
      "Epoch 31: saving model to /content/drive/MyDrive/Ironhack/Neural networks/keras.hdf5\n",
      "439/439 - 1s - loss: 0.0809 - accuracy: 0.9777 - val_loss: 0.0856 - val_accuracy: 0.9918 - 832ms/epoch - 2ms/step\n",
      "Epoch 32/60\n",
      "\n",
      "Epoch 32: saving model to /content/drive/MyDrive/Ironhack/Neural networks/keras.hdf5\n",
      "439/439 - 1s - loss: 0.0841 - accuracy: 0.9788 - val_loss: 0.0955 - val_accuracy: 0.9918 - 816ms/epoch - 2ms/step\n",
      "Epoch 33/60\n",
      "\n",
      "Epoch 33: saving model to /content/drive/MyDrive/Ironhack/Neural networks/keras.hdf5\n",
      "439/439 - 1s - loss: 0.0773 - accuracy: 0.9802 - val_loss: 0.1251 - val_accuracy: 0.9772 - 844ms/epoch - 2ms/step\n",
      "Epoch 34/60\n",
      "\n",
      "Epoch 34: saving model to /content/drive/MyDrive/Ironhack/Neural networks/keras.hdf5\n",
      "439/439 - 1s - loss: 0.0810 - accuracy: 0.9795 - val_loss: 0.0774 - val_accuracy: 0.9927 - 847ms/epoch - 2ms/step\n",
      "Epoch 35/60\n",
      "\n",
      "Epoch 35: saving model to /content/drive/MyDrive/Ironhack/Neural networks/keras.hdf5\n",
      "439/439 - 1s - loss: 0.0774 - accuracy: 0.9795 - val_loss: 0.0786 - val_accuracy: 0.9927 - 858ms/epoch - 2ms/step\n",
      "Epoch 36/60\n",
      "\n",
      "Epoch 36: saving model to /content/drive/MyDrive/Ironhack/Neural networks/keras.hdf5\n",
      "439/439 - 1s - loss: 0.0878 - accuracy: 0.9770 - val_loss: 0.0860 - val_accuracy: 0.9936 - 861ms/epoch - 2ms/step\n",
      "Epoch 37/60\n",
      "\n",
      "Epoch 37: saving model to /content/drive/MyDrive/Ironhack/Neural networks/keras.hdf5\n",
      "439/439 - 1s - loss: 0.0765 - accuracy: 0.9806 - val_loss: 0.0710 - val_accuracy: 0.9936 - 843ms/epoch - 2ms/step\n",
      "Epoch 38/60\n",
      "\n",
      "Epoch 38: saving model to /content/drive/MyDrive/Ironhack/Neural networks/keras.hdf5\n",
      "439/439 - 1s - loss: 0.0803 - accuracy: 0.9781 - val_loss: 0.0788 - val_accuracy: 0.9927 - 820ms/epoch - 2ms/step\n",
      "Epoch 39/60\n",
      "\n",
      "Epoch 39: saving model to /content/drive/MyDrive/Ironhack/Neural networks/keras.hdf5\n",
      "439/439 - 1s - loss: 0.0785 - accuracy: 0.9779 - val_loss: 0.1825 - val_accuracy: 0.9289 - 844ms/epoch - 2ms/step\n",
      "Epoch 40/60\n",
      "\n",
      "Epoch 40: saving model to /content/drive/MyDrive/Ironhack/Neural networks/keras.hdf5\n",
      "439/439 - 1s - loss: 0.0758 - accuracy: 0.9808 - val_loss: 0.0879 - val_accuracy: 0.9927 - 859ms/epoch - 2ms/step\n",
      "Epoch 41/60\n",
      "\n",
      "Epoch 41: saving model to /content/drive/MyDrive/Ironhack/Neural networks/keras.hdf5\n",
      "439/439 - 1s - loss: 0.0806 - accuracy: 0.9802 - val_loss: 0.0886 - val_accuracy: 0.9927 - 843ms/epoch - 2ms/step\n",
      "Epoch 42/60\n",
      "\n",
      "Epoch 42: saving model to /content/drive/MyDrive/Ironhack/Neural networks/keras.hdf5\n",
      "439/439 - 1s - loss: 0.0810 - accuracy: 0.9781 - val_loss: 0.1012 - val_accuracy: 0.9918 - 825ms/epoch - 2ms/step\n",
      "Epoch 43/60\n",
      "\n",
      "Epoch 43: saving model to /content/drive/MyDrive/Ironhack/Neural networks/keras.hdf5\n",
      "439/439 - 1s - loss: 0.0765 - accuracy: 0.9797 - val_loss: 0.1212 - val_accuracy: 0.9781 - 838ms/epoch - 2ms/step\n",
      "Epoch 44/60\n",
      "\n",
      "Epoch 44: saving model to /content/drive/MyDrive/Ironhack/Neural networks/keras.hdf5\n",
      "439/439 - 1s - loss: 0.0780 - accuracy: 0.9813 - val_loss: 0.0838 - val_accuracy: 0.9927 - 841ms/epoch - 2ms/step\n",
      "Epoch 45/60\n",
      "\n",
      "Epoch 45: saving model to /content/drive/MyDrive/Ironhack/Neural networks/keras.hdf5\n",
      "439/439 - 1s - loss: 0.0703 - accuracy: 0.9818 - val_loss: 0.0733 - val_accuracy: 0.9936 - 823ms/epoch - 2ms/step\n",
      "Epoch 46/60\n",
      "\n",
      "Epoch 46: saving model to /content/drive/MyDrive/Ironhack/Neural networks/keras.hdf5\n",
      "439/439 - 1s - loss: 0.0717 - accuracy: 0.9811 - val_loss: 0.0918 - val_accuracy: 0.9927 - 850ms/epoch - 2ms/step\n",
      "Epoch 47/60\n",
      "\n",
      "Epoch 47: saving model to /content/drive/MyDrive/Ironhack/Neural networks/keras.hdf5\n",
      "439/439 - 1s - loss: 0.0743 - accuracy: 0.9811 - val_loss: 0.0806 - val_accuracy: 0.9918 - 821ms/epoch - 2ms/step\n",
      "Epoch 48/60\n",
      "\n",
      "Epoch 48: saving model to /content/drive/MyDrive/Ironhack/Neural networks/keras.hdf5\n",
      "439/439 - 1s - loss: 0.0715 - accuracy: 0.9802 - val_loss: 0.0816 - val_accuracy: 0.9909 - 871ms/epoch - 2ms/step\n",
      "Epoch 49/60\n",
      "\n",
      "Epoch 49: saving model to /content/drive/MyDrive/Ironhack/Neural networks/keras.hdf5\n",
      "439/439 - 1s - loss: 0.0693 - accuracy: 0.9820 - val_loss: 0.0896 - val_accuracy: 0.9918 - 853ms/epoch - 2ms/step\n"
     ]
    }
   ],
   "source": [
    "history = model.fit(\n",
    "    X_train_scaled_sm, \n",
    "    y_train_sm, \n",
    "    epochs=60, \n",
    "    validation_split=0.20, \n",
    "    batch_size=10, \n",
    "    verbose=2,\n",
    "    callbacks=[early_stopping,checkpoint]\n",
    ")"
   ]
  },
  {
   "cell_type": "code",
   "execution_count": 22,
   "id": "RrbC9_7VIQhH",
   "metadata": {
    "colab": {
     "base_uri": "https://localhost:8080/",
     "height": 295
    },
    "executionInfo": {
     "elapsed": 56,
     "status": "ok",
     "timestamp": 1663064944745,
     "user": {
      "displayName": "Oriana Genolet",
      "userId": "17408790309131985000"
     },
     "user_tz": -120
    },
    "id": "RrbC9_7VIQhH",
    "outputId": "1fb9b1b2-752e-4c2e-e761-ab4030044324"
   },
   "outputs": [
    {
     "data": {
      "image/png": "[encoded data removed]",
      "text/plain": [
       "<Figure size 432x288 with 1 Axes>"
      ]
     },
     "metadata": {
      "needs_background": "light"
     },
     "output_type": "display_data"
    }
   ],
   "source": [
    "plt.plot(history.history['accuracy'])\n",
    "plt.plot(history.history['val_accuracy'])\n",
    "plt.title('model accuracy')\n",
    "plt.ylabel('accuracy')\n",
    "plt.xlabel('epoch')\n",
    "plt.legend(['train', 'validation'], loc='upper right')\n",
    "plt.show()"
   ]
  },
  {
   "cell_type": "code",
   "execution_count": 23,
   "id": "5kflVUmjNlCD",
   "metadata": {
    "executionInfo": {
     "elapsed": 47,
     "status": "ok",
     "timestamp": 1663064944746,
     "user": {
      "displayName": "Oriana Genolet",
      "userId": "17408790309131985000"
     },
     "user_tz": -120
    },
    "id": "5kflVUmjNlCD"
   },
   "outputs": [],
   "source": [
    "def model_performance_class(y_train, y_pred_train, y_test, y_pred_test):\n",
    "\n",
    "    from sklearn.metrics import f1_score, classification_report \n",
    "\n",
    "\n",
    "    print(\"Results obtained for the TRAIN SET\")\n",
    "    print(\"==================================\")\n",
    "    print(\"The F1 score is: {:.2f}\".format(f1_score(y_train, y_pred_train)))\n",
    "    print(classification_report(y_train, y_pred_train))\n",
    "    print(\"==================================\")\n",
    "    print(\"Results obtained for the TEST SET\")\n",
    "    print(\"The F1 score is: {:.2f}\".format(f1_score(y_test, y_pred_test)))\n",
    "    print(classification_report(y_test, y_pred_test))"
   ]
  },
  {
   "cell_type": "code",
   "execution_count": 43,
   "id": "Al4cEP3DPITn",
   "metadata": {
    "executionInfo": {
     "elapsed": 578,
     "status": "ok",
     "timestamp": 1663065092378,
     "user": {
      "displayName": "Oriana Genolet",
      "userId": "17408790309131985000"
     },
     "user_tz": -120
    },
    "id": "Al4cEP3DPITn"
   },
   "outputs": [],
   "source": [
    "y_pred_train = model.predict(X_train_scaled_sm) \n",
    "y_pred_test  = model.predict(X_test_scaled) \n"
   ]
  },
  {
   "cell_type": "code",
   "execution_count": 44,
   "id": "sHIfIYYCPmuQ",
   "metadata": {
    "colab": {
     "base_uri": "https://localhost:8080/"
    },
    "executionInfo": {
     "elapsed": 228,
     "status": "ok",
     "timestamp": 1663065094250,
     "user": {
      "displayName": "Oriana Genolet",
      "userId": "17408790309131985000"
     },
     "user_tz": -120
    },
    "id": "sHIfIYYCPmuQ",
    "outputId": "7a0d0fd4-b382-4e0f-9978-23390f0d8bf8"
   },
   "outputs": [
    {
     "data": {
      "text/plain": [
       "array([[3.9731829e-05],\n",
       "       [9.5537928e-07],\n",
       "       [4.2083859e-04],\n",
       "       ...,\n",
       "       [8.1780601e-01],\n",
       "       [8.9861226e-01],\n",
       "       [9.9678910e-01]], dtype=float32)"
      ]
     },
     "execution_count": 44,
     "metadata": {},
     "output_type": "execute_result"
    }
   ],
   "source": [
    "y_pred_train"
   ]
  },
  {
   "cell_type": "code",
   "execution_count": 45,
   "id": "Uoj57i4zPol8",
   "metadata": {
    "executionInfo": {
     "elapsed": 225,
     "status": "ok",
     "timestamp": 1663065096717,
     "user": {
      "displayName": "Oriana Genolet",
      "userId": "17408790309131985000"
     },
     "user_tz": -120
    },
    "id": "Uoj57i4zPol8"
   },
   "outputs": [],
   "source": [
    "y_pred_train = (y_pred_train > 0.5).astype(int)\n",
    "y_pred_test  = (y_pred_test > 0.5).astype(int)"
   ]
  },
  {
   "cell_type": "code",
   "execution_count": 46,
   "id": "urBL4tsuP3ry",
   "metadata": {
    "colab": {
     "base_uri": "https://localhost:8080/"
    },
    "executionInfo": {
     "elapsed": 405,
     "status": "ok",
     "timestamp": 1663065100413,
     "user": {
      "displayName": "Oriana Genolet",
      "userId": "17408790309131985000"
     },
     "user_tz": -120
    },
    "id": "urBL4tsuP3ry",
    "outputId": "3e929448-afcd-429c-9a59-2c964b7745a3"
   },
   "outputs": [
    {
     "name": "stdout",
     "output_type": "stream",
     "text": [
      "Results obtained for the TRAIN SET\n",
      "==================================\n",
      "The F1 score is: 0.99\n",
      "              precision    recall  f1-score   support\n",
      "\n",
      "           0       0.99      0.99      0.99      2741\n",
      "           1       0.99      0.99      0.99      2741\n",
      "\n",
      "    accuracy                           0.99      5482\n",
      "   macro avg       0.99      0.99      0.99      5482\n",
      "weighted avg       0.99      0.99      0.99      5482\n",
      "\n",
      "==================================\n",
      "Results obtained for the TEST SET\n",
      "The F1 score is: 0.92\n",
      "              precision    recall  f1-score   support\n",
      "\n",
      "           0       0.99      0.99      0.99       677\n",
      "           1       0.90      0.94      0.92        65\n",
      "\n",
      "    accuracy                           0.99       742\n",
      "   macro avg       0.95      0.96      0.95       742\n",
      "weighted avg       0.99      0.99      0.99       742\n",
      "\n"
     ]
    }
   ],
   "source": [
    "model_performance_class(y_train_sm, y_pred_train, y_test, y_pred_test)"
   ]
  },
  {
   "cell_type": "code",
   "execution_count": 54,
   "id": "5ODgyOloUbLF",
   "metadata": {
    "colab": {
     "base_uri": "https://localhost:8080/",
     "height": 210
    },
    "executionInfo": {
     "elapsed": 470,
     "status": "ok",
     "timestamp": 1663065370468,
     "user": {
      "displayName": "Oriana Genolet",
      "userId": "17408790309131985000"
     },
     "user_tz": -120
    },
    "id": "5ODgyOloUbLF",
    "outputId": "2c4a5d02-0326-4357-97aa-ee146e21f4d3"
   },
   "outputs": [
    {
     "data": {
      "image/png": "[encoded data removed]",
      "text/plain": [
       "<Figure size 216x216 with 2 Axes>"
      ]
     },
     "metadata": {
      "needs_background": "light"
     },
     "output_type": "display_data"
    }
   ],
   "source": [
    "cm_train = confusion_matrix(y_train_sm, y_pred_train)\n",
    "disp = ConfusionMatrixDisplay(cm_train, display_labels = [\"Healthy\", \"Diseased\"]);\n",
    "disp.plot()\n",
    "fig = disp.ax_.get_figure() \n",
    "fig.set_figwidth(3)\n",
    "fig.set_figheight(3)"
   ]
  },
  {
   "cell_type": "code",
   "execution_count": 53,
   "id": "59SrwQvIaFRa",
   "metadata": {
    "colab": {
     "base_uri": "https://localhost:8080/",
     "height": 210
    },
    "executionInfo": {
     "elapsed": 829,
     "status": "ok",
     "timestamp": 1663065349080,
     "user": {
      "displayName": "Oriana Genolet",
      "userId": "17408790309131985000"
     },
     "user_tz": -120
    },
    "id": "59SrwQvIaFRa",
    "outputId": "fc0b1218-3c94-4a43-ec9f-10000361f1f4"
   },
   "outputs": [
    {
     "data": {
      "image/png": "[encoded data removed]",
      "text/plain": [
       "<Figure size 216x216 with 2 Axes>"
      ]
     },
     "metadata": {
      "needs_background": "light"
     },
     "output_type": "display_data"
    }
   ],
   "source": [
    "cm_test = confusion_matrix(y_test, y_pred_test)\n",
    "disp = ConfusionMatrixDisplay(cm_test, display_labels = [\"Healthy\", \"Diseased\"]);\n",
    "disp.plot()\n",
    "fig = disp.ax_.get_figure() \n",
    "fig.set_figwidth(3)\n",
    "fig.set_figheight(3)"
   ]
  },
  {
   "cell_type": "code",
   "execution_count": null,
   "id": "uuctiCQWamzx",
   "metadata": {
    "id": "uuctiCQWamzx"
   },
   "outputs": [],
   "source": []
  }
 ],
 "metadata": {
  "colab": {
   "collapsed_sections": [],
   "provenance": []
  },
  "kernelspec": {
   "display_name": "Python 3 (ipykernel)",
   "language": "python",
   "name": "python3"
  },
  "language_info": {
   "codemirror_mode": {
    "name": "ipython",
    "version": 3
   },
   "file_extension": ".py",
   "mimetype": "text/x-python",
   "name": "python",
   "nbconvert_exporter": "python",
   "pygments_lexer": "ipython3",
   "version": "3.10.4"
  }
 },
 "nbformat": 4,
 "nbformat_minor": 5
}
