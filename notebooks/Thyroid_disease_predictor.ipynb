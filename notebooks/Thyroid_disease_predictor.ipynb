{
 "cells": [
  {
   "cell_type": "code",
   "execution_count": 1,
   "id": "30e4e7d6",
   "metadata": {},
   "outputs": [
    {
     "name": "stdout",
     "output_type": "stream",
     "text": [
      "/Users/origenolet/Desktop/Ironhack/Week9/Final_bootcamp_project\n"
     ]
    }
   ],
   "source": [
    "%cd ../"
   ]
  },
  {
   "cell_type": "code",
   "execution_count": 2,
   "id": "ff7a250b",
   "metadata": {},
   "outputs": [],
   "source": [
    "import pandas as pd\n",
    "import numpy as np\n",
    "import seaborn as sns\n",
    "import matplotlib.pyplot as plt\n",
    "import functions.functions as f"
   ]
  },
  {
   "cell_type": "code",
   "execution_count": 3,
   "id": "17dbdd5b",
   "metadata": {},
   "outputs": [
    {
     "name": "stdout",
     "output_type": "stream",
     "text": [
      "Please enter the patients sex (f/m): f\n"
     ]
    }
   ],
   "source": [
    "sex = input(\"Please enter the patients sex (f/m): \")\n"
   ]
  },
  {
   "cell_type": "code",
   "execution_count": 4,
   "id": "5be71d72",
   "metadata": {},
   "outputs": [],
   "source": [
    "if sex not in [\"f\", \"m\"]:\n",
    "    sex = input(\"Please enter a valid character for sex (f/m): \")"
   ]
  },
  {
   "cell_type": "code",
   "execution_count": 5,
   "id": "3fe2ffde",
   "metadata": {},
   "outputs": [
    {
     "name": "stdout",
     "output_type": "stream",
     "text": [
      "Are they on thyroxine medication? (y/n): n\n"
     ]
    }
   ],
   "source": [
    "on_thyroxine = input(\"Are they on thyroxine medication? (y/n): \")"
   ]
  },
  {
   "cell_type": "code",
   "execution_count": 6,
   "id": "0735e2ba",
   "metadata": {},
   "outputs": [],
   "source": [
    "if on_thyroxine not in [\"y\", \"n\"]:\n",
    "    on_thyroxine = input(\"Please enter y (yes) or n (no): \")"
   ]
  },
  {
   "cell_type": "code",
   "execution_count": 7,
   "id": "14c4290e",
   "metadata": {},
   "outputs": [
    {
     "name": "stdout",
     "output_type": "stream",
     "text": [
      "Are they on antithyroid medication? (y/n): n\n"
     ]
    }
   ],
   "source": [
    "on_antithyroid_medication = input(\"Are they on antithyroid medication? (y/n): \")"
   ]
  },
  {
   "cell_type": "code",
   "execution_count": 8,
   "id": "48e2c9fa",
   "metadata": {},
   "outputs": [],
   "source": [
    "if on_antithyroid_medication not in [\"y\", \"n\"]:\n",
    "    on_antithyroid_medication = input(\"Please enter y (yes) or n (no): \")"
   ]
  },
  {
   "cell_type": "code",
   "execution_count": 9,
   "id": "623107a6",
   "metadata": {},
   "outputs": [
    {
     "name": "stdout",
     "output_type": "stream",
     "text": [
      "Is the patient pregnant (y/n): n\n"
     ]
    }
   ],
   "source": [
    "pregnant = input(\"Is the patient pregnant (y/n): \")"
   ]
  },
  {
   "cell_type": "code",
   "execution_count": 10,
   "id": "63bbdbb6",
   "metadata": {},
   "outputs": [],
   "source": [
    "if pregnant not in [\"y\", \"n\"]:\n",
    "    pregnant = input(\"Please enter y (yes) or n (no): \")"
   ]
  },
  {
   "cell_type": "code",
   "execution_count": 11,
   "id": "645847ef",
   "metadata": {},
   "outputs": [
    {
     "name": "stdout",
     "output_type": "stream",
     "text": [
      "Does the patient suffer from goitre (y/n): n\n"
     ]
    }
   ],
   "source": [
    "goitre = input(\"Does the patient suffer from goitre (y/n): \")"
   ]
  },
  {
   "cell_type": "code",
   "execution_count": 12,
   "id": "65b623e8",
   "metadata": {},
   "outputs": [],
   "source": [
    "if goitre not in [\"y\", \"n\"]:\n",
    "    goitre = input(\"Please enter y (yes) or n (no): \")"
   ]
  },
  {
   "cell_type": "code",
   "execution_count": 13,
   "id": "bc11c7bd",
   "metadata": {},
   "outputs": [
    {
     "name": "stdout",
     "output_type": "stream",
     "text": [
      "Please enter the patients TSH levels: 12.0\n"
     ]
    }
   ],
   "source": [
    "tsh = float(input(\"Please enter the patients TSH levels (mU/L): \"))"
   ]
  },
  {
   "cell_type": "code",
   "execution_count": 14,
   "id": "b773deb6",
   "metadata": {},
   "outputs": [
    {
     "name": "stdout",
     "output_type": "stream",
     "text": [
      "Please enter the patients T3 levels: 2.0\n"
     ]
    }
   ],
   "source": [
    "t3 = float(input(\"Please enter the patients T3 levels (nmol/L): \"))"
   ]
  },
  {
   "cell_type": "code",
   "execution_count": 15,
   "id": "16ad2432",
   "metadata": {},
   "outputs": [
    {
     "name": "stdout",
     "output_type": "stream",
     "text": [
      "Please enter the patients FTI levels: 87.0\n"
     ]
    }
   ],
   "source": [
    "fti = float(input(\"Please enter the patients FTI levels (nmol/L): \"))"
   ]
  },
  {
   "cell_type": "code",
   "execution_count": 18,
   "id": "24d34b04",
   "metadata": {},
   "outputs": [],
   "source": [
    "def thyroid_disease_predictor(sex, on_thyroxine, on_antithyroid_medication, pregnant, goitre, tsh, t3, fti):\n",
    "    try:\n",
    "        values = []\n",
    "        features = [sex, on_thyroxine, on_antithyroid_medication, pregnant, goitre, tsh, t3, fti]\n",
    "        for feature in features:\n",
    "            values.append(feature)\n",
    "        columns = [\"sex\", \"on_thyroxine\", \"on_antithyroid_medication\", \"pregnant\", \"goitre\", \"tsh\", \"t3\", \"fti\"]\n",
    "        df = pd.DataFrame(values).T\n",
    "        df.columns = columns\n",
    "        df[\"sex\"] = df[\"sex\"].replace({\"f\":1, \"m\":0})\n",
    "        cols = [\"on_thyroxine\", \"on_antithyroid_medication\", \"pregnant\", \"goitre\"]\n",
    "        for col in cols:\n",
    "            df[col] = df[col].replace({\"y\":1, \"n\":0})\n",
    "        scaler = f.load(\"./transformers/minmaxscaler.pickle\")\n",
    "        df = scaler.transform(df)\n",
    "        rf_clf = f.load(\"./models/rf_clf.pickle\")\n",
    "        pred = rf_clf.predict(df)\n",
    "        if pred[0] == \"Healthy\":\n",
    "            return \"The patient is Healthy\"\n",
    "        if pred[0] == \"Diseased\":\n",
    "            return \"The patient suffers from hypothyroidism\"\n",
    "    except:\n",
    "        return \"Please check again the given values\"\n",
    "\n",
    "    "
   ]
  },
  {
   "cell_type": "code",
   "execution_count": 19,
   "id": "400b4ff6",
   "metadata": {},
   "outputs": [
    {
     "name": "stdout",
     "output_type": "stream",
     "text": [
      "The patient suffers from hypothyroidism\n"
     ]
    },
    {
     "name": "stderr",
     "output_type": "stream",
     "text": [
      "/Users/origenolet/Desktop/Ironhack/Week9/Final_bootcamp_project/env/lib/python3.10/site-packages/sklearn/base.py:450: UserWarning: X does not have valid feature names, but RandomForestClassifier was fitted with feature names\n",
      "  warnings.warn(\n"
     ]
    }
   ],
   "source": [
    "thyroid_disease_predictor(sex, on_thyroxine, on_antithyroid_medication, pregnant, goitre, tsh, t3, fti)"
   ]
  },
  {
   "cell_type": "code",
   "execution_count": null,
   "id": "b0bbf54f",
   "metadata": {},
   "outputs": [],
   "source": []
  }
 ],
 "metadata": {
  "kernelspec": {
   "display_name": "Python 3 (ipykernel)",
   "language": "python",
   "name": "python3"
  },
  "language_info": {
   "codemirror_mode": {
    "name": "ipython",
    "version": 3
   },
   "file_extension": ".py",
   "mimetype": "text/x-python",
   "name": "python",
   "nbconvert_exporter": "python",
   "pygments_lexer": "ipython3",
   "version": "3.10.4"
  }
 },
 "nbformat": 4,
 "nbformat_minor": 5
}
